{
 "cells": [
  {
   "cell_type": "markdown",
   "id": "2cd13810",
   "metadata": {},
   "source": [
    "### Context Manager Class:-\n",
    "                * A class that contains both __enter__ and __exit__\n",
    "                * with statement works context manager class."
   ]
  },
  {
   "cell_type": "code",
   "execution_count": 23,
   "id": "0dd43a7e",
   "metadata": {},
   "outputs": [
    {
     "name": "stdout",
     "output_type": "stream",
     "text": [
      "Inside __enter__\n",
      "3.0\n",
      "\n",
      "Inside __exit__\n",
      "\n",
      "Execution type: None\n",
      "\n",
      "Execution value: None\n",
      "\n",
      "Traceback: None\n",
      "++++++++++++++++++++\n",
      "Inside __enter__\n",
      "\n",
      "Inside __exit__\n",
      "\n",
      "Execution type: <class 'ZeroDivisionError'>\n",
      "\n",
      "Execution value: division by zero\n",
      "\n",
      "Traceback: <traceback object at 0x7fe3d932b460>\n"
     ]
    },
    {
     "ename": "ZeroDivisionError",
     "evalue": "division by zero",
     "output_type": "error",
     "traceback": [
      "\u001b[0;31m---------------------------------------------------------------------------\u001b[0m",
      "\u001b[0;31mZeroDivisionError\u001b[0m                         Traceback (most recent call last)",
      "\u001b[0;32m/tmp/ipykernel_58342/1768276548.py\u001b[0m in \u001b[0;36m<module>\u001b[0;34m\u001b[0m\n\u001b[1;32m     26\u001b[0m \u001b[0;31m# will raise a ZeroDivisionError\u001b[0m\u001b[0;34m\u001b[0m\u001b[0;34m\u001b[0m\u001b[0;34m\u001b[0m\u001b[0m\n\u001b[1;32m     27\u001b[0m \u001b[0;32mwith\u001b[0m \u001b[0mDivide\u001b[0m\u001b[0;34m(\u001b[0m\u001b[0;36m3\u001b[0m\u001b[0;34m,\u001b[0m \u001b[0;36m0\u001b[0m\u001b[0;34m)\u001b[0m \u001b[0;32mas\u001b[0m \u001b[0mr\u001b[0m\u001b[0;34m:\u001b[0m\u001b[0;34m\u001b[0m\u001b[0;34m\u001b[0m\u001b[0m\n\u001b[0;32m---> 28\u001b[0;31m     \u001b[0mr\u001b[0m\u001b[0;34m.\u001b[0m\u001b[0mdivide_by_zero\u001b[0m\u001b[0;34m(\u001b[0m\u001b[0;34m)\u001b[0m\u001b[0;34m\u001b[0m\u001b[0;34m\u001b[0m\u001b[0m\n\u001b[0m",
      "\u001b[0;32m/tmp/ipykernel_58342/1768276548.py\u001b[0m in \u001b[0;36mdivide_by_zero\u001b[0;34m(self)\u001b[0m\n\u001b[1;32m     16\u001b[0m     \u001b[0;32mdef\u001b[0m \u001b[0mdivide_by_zero\u001b[0m\u001b[0;34m(\u001b[0m\u001b[0mself\u001b[0m\u001b[0;34m)\u001b[0m\u001b[0;34m:\u001b[0m\u001b[0;34m\u001b[0m\u001b[0;34m\u001b[0m\u001b[0m\n\u001b[1;32m     17\u001b[0m         \u001b[0;31m# causes ZeroDivisionError exception\u001b[0m\u001b[0;34m\u001b[0m\u001b[0;34m\u001b[0m\u001b[0;34m\u001b[0m\u001b[0m\n\u001b[0;32m---> 18\u001b[0;31m         \u001b[0mprint\u001b[0m\u001b[0;34m(\u001b[0m\u001b[0mself\u001b[0m\u001b[0;34m.\u001b[0m\u001b[0mnum1\u001b[0m \u001b[0;34m/\u001b[0m \u001b[0mself\u001b[0m\u001b[0;34m.\u001b[0m\u001b[0mnum2\u001b[0m\u001b[0;34m)\u001b[0m\u001b[0;34m\u001b[0m\u001b[0;34m\u001b[0m\u001b[0m\n\u001b[0m\u001b[1;32m     19\u001b[0m \u001b[0;34m\u001b[0m\u001b[0m\n\u001b[1;32m     20\u001b[0m \u001b[0;34m\u001b[0m\u001b[0m\n",
      "\u001b[0;31mZeroDivisionError\u001b[0m: division by zero"
     ]
    }
   ],
   "source": [
    "\n",
    "class Divide:\n",
    "    def __init__(self, num1, num2):\n",
    "        self.num1 = num1\n",
    "        self.num2 = num2\n",
    " \n",
    "    def __enter__(self):\n",
    "        print(\"Inside __enter__\")\n",
    "        return self\n",
    " \n",
    "    def __exit__(self, exc_type, exc_value, traceback):\n",
    "        print(\"\\nInside __exit__\")\n",
    "        print(\"\\nExecution type:\", exc_type)\n",
    "        print(\"\\nExecution value:\", exc_value)\n",
    "        print(\"\\nTraceback:\", traceback)\n",
    " \n",
    "    def divide_by_zero(self):\n",
    "        # causes ZeroDivisionError exception\n",
    "        print(self.num1 / self.num2)\n",
    " \n",
    "  \n",
    "with Divide(3,1) as r:\n",
    "    r.divide_by_zero()\n",
    " \n",
    "print(\"++++++++++++++++++++\")\n",
    " \n",
    "# will raise a ZeroDivisionError\n",
    "with Divide(3, 0) as r:\n",
    "    r.divide_by_zero()"
   ]
  },
  {
   "cell_type": "markdown",
   "id": "8f4268df",
   "metadata": {},
   "source": [
    "### Static Methods :-\n",
    "            * decorator  @staticmethod - to make it a static method\n",
    "            * Static methods cannot access or call class variables\n",
    "            * Totally self contained , bound to class not to the object\n",
    "            * No first argument "
   ]
  },
  {
   "cell_type": "markdown",
   "id": "ab8b0684",
   "metadata": {},
   "source": [
    "### Instance Methods :-\n",
    "                * create an object of class to print instance variables and instance methods"
   ]
  },
  {
   "cell_type": "markdown",
   "id": "2bcfa151",
   "metadata": {},
   "source": [
    "### Class Method :-\n",
    "               * decorator  @classmethod - used to make it a class method\n",
    "               * bound to class not object"
   ]
  },
  {
   "cell_type": "code",
   "execution_count": 56,
   "id": "2e4f49b0",
   "metadata": {},
   "outputs": [
    {
     "name": "stdout",
     "output_type": "stream",
     "text": [
      "This is a student class\n",
      "Joshua\n",
      "1.5\n"
     ]
    }
   ],
   "source": [
    "\n",
    "class Student:\n",
    "    name = 'Joshua'\n",
    "    def __init__(self, a, b):\n",
    "        self.a = a\n",
    "        self.b = b \n",
    "    \n",
    "    def avg(self):\n",
    "        return (self.a + self.b) / 2\n",
    "    \n",
    "    @classmethod\n",
    "    def getName(cls):\n",
    "        return cls.name\n",
    "\n",
    "    \n",
    "    @staticmethod\n",
    "    def info():\n",
    "        return \"This is a student class\"\n",
    "\n",
    "print(Student.info())\n",
    "print(Student.getName())\n",
    "s1=Student(1,2)\n",
    "print(\"info___\"+s1.info())\n",
    "print(s1.avg())\n"
   ]
  },
  {
   "cell_type": "markdown",
   "id": "dcb9d43d",
   "metadata": {},
   "source": [
    "### Create a class that has methods to create a file, read from the file, update the file and delete the file"
   ]
  },
  {
   "cell_type": "code",
   "execution_count": 53,
   "id": "47dcdffa",
   "metadata": {},
   "outputs": [],
   "source": [
    "import os\n",
    "\n",
    "class FileOperations:\n",
    "    filename=\"myPractice.txt\"\n",
    "    def openFile(self):\n",
    "        with open(self.filename, 'w') as f:\n",
    "            f.write(input(\"enter the text : \"))\n",
    "            \n",
    "    def updateFile(self):\n",
    "        with open(self.filename,'a+') as f :\n",
    "            data = f.read(100)\n",
    "            if len(data)>0:\n",
    "                f.write(\"\\n\")\n",
    "            f.write(input(\"Enter the text to be updated : \"))\n",
    "            \n",
    "    \n",
    "            \n",
    "#     @staticmethod\n",
    "#     def readFile():\n",
    "#         with open(filename,'r') as f:\n",
    "#             return f.read()\n",
    "        \n",
    "    @classmethod\n",
    "    def deleteFile(cls):\n",
    "        if os.path.exists(cls.filename):\n",
    "          os.remove(cls.filename)\n",
    "        else:\n",
    "          print(\"The file does not exist\")\n",
    "        \n",
    "        \n",
    "        "
   ]
  },
  {
   "cell_type": "code",
   "execution_count": 54,
   "id": "4ae3bf23",
   "metadata": {},
   "outputs": [],
   "source": [
    "f1= FileOperations()"
   ]
  },
  {
   "cell_type": "code",
   "execution_count": 55,
   "id": "24e5ae02",
   "metadata": {},
   "outputs": [
    {
     "name": "stdout",
     "output_type": "stream",
     "text": [
      "enter the text : Hello welcome to day 4 of python training\n"
     ]
    }
   ],
   "source": [
    "f1.openFile()"
   ]
  },
  {
   "cell_type": "code",
   "execution_count": 52,
   "id": "2a965e47",
   "metadata": {},
   "outputs": [
    {
     "name": "stdout",
     "output_type": "stream",
     "text": [
      "Enter the text to be updated : Hello this is a example for class file reading,updating and deleting\n"
     ]
    }
   ],
   "source": [
    "f1.updateFile()"
   ]
  },
  {
   "cell_type": "code",
   "execution_count": null,
   "id": "ed2cd7d1",
   "metadata": {},
   "outputs": [],
   "source": []
  }
 ],
 "metadata": {
  "kernelspec": {
   "display_name": "Python 3 (ipykernel)",
   "language": "python",
   "name": "python3"
  },
  "language_info": {
   "codemirror_mode": {
    "name": "ipython",
    "version": 3
   },
   "file_extension": ".py",
   "mimetype": "text/x-python",
   "name": "python",
   "nbconvert_exporter": "python",
   "pygments_lexer": "ipython3",
   "version": "3.7.13"
  }
 },
 "nbformat": 4,
 "nbformat_minor": 5
}
