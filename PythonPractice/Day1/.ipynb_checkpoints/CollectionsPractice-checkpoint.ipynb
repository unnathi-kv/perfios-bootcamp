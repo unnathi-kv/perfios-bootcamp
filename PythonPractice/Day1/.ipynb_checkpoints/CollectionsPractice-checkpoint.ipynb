{
 "cells": [
  {
   "cell_type": "markdown",
   "id": "7872b6f6",
   "metadata": {},
   "source": [
    "## Collections :-\n",
    "   ### Lists:-\n",
    "           * A sequence type container\n",
    "           * Can contain elements of different types\n",
    "           * Ideally good to store elements of homogenoues types"
   ]
  },
  {
   "cell_type": "code",
   "execution_count": 5,
   "id": "9bc5f673",
   "metadata": {},
   "outputs": [],
   "source": [
    "a=[1,2,3,4,5]"
   ]
  },
  {
   "cell_type": "code",
   "execution_count": 6,
   "id": "407aed88",
   "metadata": {},
   "outputs": [
    {
     "data": {
      "text/plain": [
       "(list, 5, '0x7f9b00fe9370')"
      ]
     },
     "execution_count": 6,
     "metadata": {},
     "output_type": "execute_result"
    }
   ],
   "source": [
    "type(a),len(a),hex(id(a))"
   ]
  },
  {
   "cell_type": "code",
   "execution_count": 9,
   "id": "92271d6e",
   "metadata": {},
   "outputs": [
    {
     "data": {
      "text/plain": [
       "(1, 2, 3, 4, 5)"
      ]
     },
     "execution_count": 9,
     "metadata": {},
     "output_type": "execute_result"
    }
   ],
   "source": [
    "a[0],a[1],a[2],a[3],a[4]"
   ]
  },
  {
   "cell_type": "code",
   "execution_count": 10,
   "id": "4f10391f",
   "metadata": {},
   "outputs": [
    {
     "name": "stdout",
     "output_type": "stream",
     "text": [
      "Help on list object:\n",
      "\n",
      "class list(object)\n",
      " |  list(iterable=(), /)\n",
      " |  \n",
      " |  Built-in mutable sequence.\n",
      " |  \n",
      " |  If no argument is given, the constructor creates a new empty list.\n",
      " |  The argument must be an iterable if specified.\n",
      " |  \n",
      " |  Methods defined here:\n",
      " |  \n",
      " |  __add__(self, value, /)\n",
      " |      Return self+value.\n",
      " |  \n",
      " |  __contains__(self, key, /)\n",
      " |      Return key in self.\n",
      " |  \n",
      " |  __delitem__(self, key, /)\n",
      " |      Delete self[key].\n",
      " |  \n",
      " |  __eq__(self, value, /)\n",
      " |      Return self==value.\n",
      " |  \n",
      " |  __ge__(self, value, /)\n",
      " |      Return self>=value.\n",
      " |  \n",
      " |  __getattribute__(self, name, /)\n",
      " |      Return getattr(self, name).\n",
      " |  \n",
      " |  __getitem__(...)\n",
      " |      x.__getitem__(y) <==> x[y]\n",
      " |  \n",
      " |  __gt__(self, value, /)\n",
      " |      Return self>value.\n",
      " |  \n",
      " |  __iadd__(self, value, /)\n",
      " |      Implement self+=value.\n",
      " |  \n",
      " |  __imul__(self, value, /)\n",
      " |      Implement self*=value.\n",
      " |  \n",
      " |  __init__(self, /, *args, **kwargs)\n",
      " |      Initialize self.  See help(type(self)) for accurate signature.\n",
      " |  \n",
      " |  __iter__(self, /)\n",
      " |      Implement iter(self).\n",
      " |  \n",
      " |  __le__(self, value, /)\n",
      " |      Return self<=value.\n",
      " |  \n",
      " |  __len__(self, /)\n",
      " |      Return len(self).\n",
      " |  \n",
      " |  __lt__(self, value, /)\n",
      " |      Return self<value.\n",
      " |  \n",
      " |  __mul__(self, value, /)\n",
      " |      Return self*value.\n",
      " |  \n",
      " |  __ne__(self, value, /)\n",
      " |      Return self!=value.\n",
      " |  \n",
      " |  __repr__(self, /)\n",
      " |      Return repr(self).\n",
      " |  \n",
      " |  __reversed__(self, /)\n",
      " |      Return a reverse iterator over the list.\n",
      " |  \n",
      " |  __rmul__(self, value, /)\n",
      " |      Return value*self.\n",
      " |  \n",
      " |  __setitem__(self, key, value, /)\n",
      " |      Set self[key] to value.\n",
      " |  \n",
      " |  __sizeof__(self, /)\n",
      " |      Return the size of the list in memory, in bytes.\n",
      " |  \n",
      " |  append(self, object, /)\n",
      " |      Append object to the end of the list.\n",
      " |  \n",
      " |  clear(self, /)\n",
      " |      Remove all items from list.\n",
      " |  \n",
      " |  copy(self, /)\n",
      " |      Return a shallow copy of the list.\n",
      " |  \n",
      " |  count(self, value, /)\n",
      " |      Return number of occurrences of value.\n",
      " |  \n",
      " |  extend(self, iterable, /)\n",
      " |      Extend list by appending elements from the iterable.\n",
      " |  \n",
      " |  index(self, value, start=0, stop=9223372036854775807, /)\n",
      " |      Return first index of value.\n",
      " |      \n",
      " |      Raises ValueError if the value is not present.\n",
      " |  \n",
      " |  insert(self, index, object, /)\n",
      " |      Insert object before index.\n",
      " |  \n",
      " |  pop(self, index=-1, /)\n",
      " |      Remove and return item at index (default last).\n",
      " |      \n",
      " |      Raises IndexError if list is empty or index is out of range.\n",
      " |  \n",
      " |  remove(self, value, /)\n",
      " |      Remove first occurrence of value.\n",
      " |      \n",
      " |      Raises ValueError if the value is not present.\n",
      " |  \n",
      " |  reverse(self, /)\n",
      " |      Reverse *IN PLACE*.\n",
      " |  \n",
      " |  sort(self, /, *, key=None, reverse=False)\n",
      " |      Stable sort *IN PLACE*.\n",
      " |  \n",
      " |  ----------------------------------------------------------------------\n",
      " |  Static methods defined here:\n",
      " |  \n",
      " |  __new__(*args, **kwargs) from builtins.type\n",
      " |      Create and return a new object.  See help(type) for accurate signature.\n",
      " |  \n",
      " |  ----------------------------------------------------------------------\n",
      " |  Data and other attributes defined here:\n",
      " |  \n",
      " |  __hash__ = None\n",
      "\n"
     ]
    }
   ],
   "source": [
    "help([])"
   ]
  },
  {
   "cell_type": "code",
   "execution_count": 11,
   "id": "04c1f6a4",
   "metadata": {},
   "outputs": [
    {
     "name": "stdout",
     "output_type": "stream",
     "text": [
      "['__add__', '__class__', '__contains__', '__delattr__', '__delitem__', '__dir__', '__doc__', '__eq__', '__format__', '__ge__', '__getattribute__', '__getitem__', '__gt__', '__hash__', '__iadd__', '__imul__', '__init__', '__init_subclass__', '__iter__', '__le__', '__len__', '__lt__', '__mul__', '__ne__', '__new__', '__reduce__', '__reduce_ex__', '__repr__', '__reversed__', '__rmul__', '__setattr__', '__setitem__', '__sizeof__', '__str__', '__subclasshook__', 'append', 'clear', 'copy', 'count', 'extend', 'index', 'insert', 'pop', 'remove', 'reverse', 'sort']\n"
     ]
    }
   ],
   "source": [
    "print(dir([]))"
   ]
  },
  {
   "cell_type": "code",
   "execution_count": 13,
   "id": "76652854",
   "metadata": {},
   "outputs": [
    {
     "data": {
      "text/plain": [
       "1"
      ]
     },
     "execution_count": 13,
     "metadata": {},
     "output_type": "execute_result"
    }
   ],
   "source": [
    "a.__getitem__(0)"
   ]
  },
  {
   "cell_type": "code",
   "execution_count": 16,
   "id": "5f65d253",
   "metadata": {},
   "outputs": [
    {
     "data": {
      "text/plain": [
       "(5, 5)"
      ]
     },
     "execution_count": 16,
     "metadata": {},
     "output_type": "execute_result"
    }
   ],
   "source": [
    "len(a),a.__len__()"
   ]
  },
  {
   "cell_type": "code",
   "execution_count": 25,
   "id": "05ddb445",
   "metadata": {},
   "outputs": [
    {
     "name": "stdout",
     "output_type": "stream",
     "text": [
      "Help on built-in function extend:\n",
      "\n",
      "extend(iterable, /) method of builtins.list instance\n",
      "    Extend list by appending elements from the iterable.\n",
      "\n"
     ]
    }
   ],
   "source": [
    "help([].extend)"
   ]
  },
  {
   "cell_type": "code",
   "execution_count": 26,
   "id": "56a13bfa",
   "metadata": {},
   "outputs": [
    {
     "name": "stdout",
     "output_type": "stream",
     "text": [
      "Help on built-in function append:\n",
      "\n",
      "append(object, /) method of builtins.list instance\n",
      "    Append object to the end of the list.\n",
      "\n"
     ]
    }
   ],
   "source": [
    "help([].append)"
   ]
  },
  {
   "cell_type": "markdown",
   "id": "5ca7b8f3",
   "metadata": {},
   "source": [
    "#### Even when elements are appended id remains same-mutable property"
   ]
  },
  {
   "cell_type": "code",
   "execution_count": 34,
   "id": "c5f649d7",
   "metadata": {},
   "outputs": [
    {
     "name": "stdout",
     "output_type": "stream",
     "text": [
      "140303713135424\n",
      "140303713135424\n",
      "140303713135424\n"
     ]
    }
   ],
   "source": [
    "b=[]\n",
    "print(id(b))\n",
    "b.append(100)\n",
    "print(id(b))\n",
    "b.append(\"Joshua\")\n",
    "print(id(b))"
   ]
  },
  {
   "cell_type": "code",
   "execution_count": 35,
   "id": "9a85840c",
   "metadata": {},
   "outputs": [
    {
     "data": {
      "text/plain": [
       "[100, 'Joshua']"
      ]
     },
     "execution_count": 35,
     "metadata": {},
     "output_type": "execute_result"
    }
   ],
   "source": [
    "b"
   ]
  },
  {
   "cell_type": "code",
   "execution_count": 36,
   "id": "e1ab68e9",
   "metadata": {},
   "outputs": [
    {
     "ename": "TypeError",
     "evalue": "append() takes exactly one argument (2 given)",
     "output_type": "error",
     "traceback": [
      "\u001b[0;31m---------------------------------------------------------------------------\u001b[0m",
      "\u001b[0;31mTypeError\u001b[0m                                 Traceback (most recent call last)",
      "\u001b[0;32m/tmp/ipykernel_23706/2026919013.py\u001b[0m in \u001b[0;36m<module>\u001b[0;34m\u001b[0m\n\u001b[0;32m----> 1\u001b[0;31m \u001b[0mb\u001b[0m\u001b[0;34m.\u001b[0m\u001b[0mappend\u001b[0m\u001b[0;34m(\u001b[0m\u001b[0;36m100\u001b[0m\u001b[0;34m,\u001b[0m\u001b[0;36m200\u001b[0m\u001b[0;34m)\u001b[0m\u001b[0;34m\u001b[0m\u001b[0;34m\u001b[0m\u001b[0m\n\u001b[0m",
      "\u001b[0;31mTypeError\u001b[0m: append() takes exactly one argument (2 given)"
     ]
    }
   ],
   "source": [
    "b.append(100,200)"
   ]
  },
  {
   "cell_type": "code",
   "execution_count": 57,
   "id": "4dd8545e",
   "metadata": {},
   "outputs": [],
   "source": [
    "b.append([100,200]) #inserts at end"
   ]
  },
  {
   "cell_type": "code",
   "execution_count": 58,
   "id": "625be97b",
   "metadata": {},
   "outputs": [
    {
     "data": {
      "text/plain": [
       "[120,\n",
       " 'Hong',\n",
       " 100,\n",
       " 'Joshua',\n",
       " [100, 200],\n",
       " 11,\n",
       " 12,\n",
       " 120,\n",
       " 'Vernon',\n",
       " 'Hong',\n",
       " 13,\n",
       " [100, 200]]"
      ]
     },
     "execution_count": 58,
     "metadata": {},
     "output_type": "execute_result"
    }
   ],
   "source": [
    "b"
   ]
  },
  {
   "cell_type": "code",
   "execution_count": 59,
   "id": "35a29511",
   "metadata": {},
   "outputs": [
    {
     "data": {
      "text/plain": [
       "'Extend list by appending elements from the iterable.'"
      ]
     },
     "execution_count": 59,
     "metadata": {},
     "output_type": "execute_result"
    }
   ],
   "source": [
    "[].extend.__doc__"
   ]
  },
  {
   "cell_type": "code",
   "execution_count": 60,
   "id": "fb011465",
   "metadata": {},
   "outputs": [],
   "source": [
    "b.extend([11,12,13]) #inserts iterables as seperate objects"
   ]
  },
  {
   "cell_type": "code",
   "execution_count": 61,
   "id": "b8b6489c",
   "metadata": {},
   "outputs": [
    {
     "data": {
      "text/plain": [
       "[120,\n",
       " 'Hong',\n",
       " 100,\n",
       " 'Joshua',\n",
       " [100, 200],\n",
       " 11,\n",
       " 12,\n",
       " 120,\n",
       " 'Vernon',\n",
       " 'Hong',\n",
       " 13,\n",
       " [100, 200],\n",
       " 11,\n",
       " 12,\n",
       " 13]"
      ]
     },
     "execution_count": 61,
     "metadata": {},
     "output_type": "execute_result"
    }
   ],
   "source": [
    "b"
   ]
  },
  {
   "cell_type": "code",
   "execution_count": 62,
   "id": "a6965b27",
   "metadata": {},
   "outputs": [
    {
     "data": {
      "text/plain": [
       "140303713135424"
      ]
     },
     "execution_count": 62,
     "metadata": {},
     "output_type": "execute_result"
    }
   ],
   "source": [
    "id(b)"
   ]
  },
  {
   "cell_type": "code",
   "execution_count": 63,
   "id": "1cd5d260",
   "metadata": {},
   "outputs": [
    {
     "name": "stdout",
     "output_type": "stream",
     "text": [
      "Help on built-in function count:\n",
      "\n",
      "count(value, /) method of builtins.list instance\n",
      "    Return number of occurrences of value.\n",
      "\n"
     ]
    }
   ],
   "source": [
    "help([].count)"
   ]
  },
  {
   "cell_type": "code",
   "execution_count": 64,
   "id": "4161735f",
   "metadata": {},
   "outputs": [
    {
     "data": {
      "text/plain": [
       "1"
      ]
     },
     "execution_count": 64,
     "metadata": {},
     "output_type": "execute_result"
    }
   ],
   "source": [
    "b.count(100)"
   ]
  },
  {
   "cell_type": "code",
   "execution_count": 65,
   "id": "f4a64e61",
   "metadata": {},
   "outputs": [
    {
     "name": "stdout",
     "output_type": "stream",
     "text": [
      "Help on built-in function insert:\n",
      "\n",
      "insert(index, object, /) method of builtins.list instance\n",
      "    Insert object before index.\n",
      "\n"
     ]
    }
   ],
   "source": [
    "help([].insert)"
   ]
  },
  {
   "cell_type": "code",
   "execution_count": 66,
   "id": "862a5ce5",
   "metadata": {},
   "outputs": [],
   "source": [
    "b.insert(-2,\"Vernon\") # insert at desired index"
   ]
  },
  {
   "cell_type": "code",
   "execution_count": 67,
   "id": "dff4c3b8",
   "metadata": {},
   "outputs": [
    {
     "data": {
      "text/plain": [
       "[120,\n",
       " 'Hong',\n",
       " 100,\n",
       " 'Joshua',\n",
       " [100, 200],\n",
       " 11,\n",
       " 12,\n",
       " 120,\n",
       " 'Vernon',\n",
       " 'Hong',\n",
       " 13,\n",
       " [100, 200],\n",
       " 11,\n",
       " 'Vernon',\n",
       " 12,\n",
       " 13]"
      ]
     },
     "execution_count": 67,
     "metadata": {},
     "output_type": "execute_result"
    }
   ],
   "source": [
    "b"
   ]
  },
  {
   "cell_type": "code",
   "execution_count": 68,
   "id": "38db6234",
   "metadata": {},
   "outputs": [
    {
     "name": "stdout",
     "output_type": "stream",
     "text": [
      "Help on built-in function pop:\n",
      "\n",
      "pop(index=-1, /) method of builtins.list instance\n",
      "    Remove and return item at index (default last).\n",
      "    \n",
      "    Raises IndexError if list is empty or index is out of range.\n",
      "\n"
     ]
    }
   ],
   "source": [
    "help([].pop)"
   ]
  },
  {
   "cell_type": "code",
   "execution_count": 69,
   "id": "89a2f555",
   "metadata": {},
   "outputs": [
    {
     "name": "stdout",
     "output_type": "stream",
     "text": [
      "Help on built-in function remove:\n",
      "\n",
      "remove(value, /) method of builtins.list instance\n",
      "    Remove first occurrence of value.\n",
      "    \n",
      "    Raises ValueError if the value is not present.\n",
      "\n"
     ]
    }
   ],
   "source": [
    "help([].remove)\n"
   ]
  },
  {
   "cell_type": "code",
   "execution_count": 70,
   "id": "b3a14c4f",
   "metadata": {},
   "outputs": [
    {
     "name": "stdout",
     "output_type": "stream",
     "text": [
      "Help on built-in function clear:\n",
      "\n",
      "clear() method of builtins.list instance\n",
      "    Remove all items from list.\n",
      "\n"
     ]
    }
   ],
   "source": [
    "help([].clear)"
   ]
  },
  {
   "cell_type": "code",
   "execution_count": 71,
   "id": "5b0c50e1",
   "metadata": {},
   "outputs": [
    {
     "data": {
      "text/plain": [
       "'Hong'"
      ]
     },
     "execution_count": 71,
     "metadata": {},
     "output_type": "execute_result"
    }
   ],
   "source": [
    "b.pop(1)"
   ]
  },
  {
   "cell_type": "code",
   "execution_count": 72,
   "id": "74a7db32",
   "metadata": {},
   "outputs": [
    {
     "data": {
      "text/plain": [
       "[120,\n",
       " 100,\n",
       " 'Joshua',\n",
       " [100, 200],\n",
       " 11,\n",
       " 12,\n",
       " 120,\n",
       " 'Vernon',\n",
       " 'Hong',\n",
       " 13,\n",
       " [100, 200],\n",
       " 11,\n",
       " 'Vernon',\n",
       " 12,\n",
       " 13]"
      ]
     },
     "execution_count": 72,
     "metadata": {},
     "output_type": "execute_result"
    }
   ],
   "source": [
    "b"
   ]
  },
  {
   "cell_type": "code",
   "execution_count": 73,
   "id": "dad15855",
   "metadata": {},
   "outputs": [],
   "source": [
    "b.remove(120)"
   ]
  },
  {
   "cell_type": "code",
   "execution_count": 74,
   "id": "92e4747d",
   "metadata": {},
   "outputs": [
    {
     "data": {
      "text/plain": [
       "[100,\n",
       " 'Joshua',\n",
       " [100, 200],\n",
       " 11,\n",
       " 12,\n",
       " 120,\n",
       " 'Vernon',\n",
       " 'Hong',\n",
       " 13,\n",
       " [100, 200],\n",
       " 11,\n",
       " 'Vernon',\n",
       " 12,\n",
       " 13]"
      ]
     },
     "execution_count": 74,
     "metadata": {},
     "output_type": "execute_result"
    }
   ],
   "source": [
    "b"
   ]
  },
  {
   "cell_type": "code",
   "execution_count": 75,
   "id": "d0f7201d",
   "metadata": {},
   "outputs": [
    {
     "data": {
      "text/plain": [
       "True"
      ]
     },
     "execution_count": 75,
     "metadata": {},
     "output_type": "execute_result"
    }
   ],
   "source": [
    "b.__contains__(100)"
   ]
  },
  {
   "cell_type": "code",
   "execution_count": 76,
   "id": "24832664",
   "metadata": {},
   "outputs": [
    {
     "data": {
      "text/plain": [
       "True"
      ]
     },
     "execution_count": 76,
     "metadata": {},
     "output_type": "execute_result"
    }
   ],
   "source": [
    "'Joshua' in b"
   ]
  },
  {
   "cell_type": "code",
   "execution_count": 80,
   "id": "cebd075a",
   "metadata": {},
   "outputs": [
    {
     "data": {
      "text/plain": [
       "[1, 2, 4, 5, 6]"
      ]
     },
     "execution_count": 80,
     "metadata": {},
     "output_type": "execute_result"
    }
   ],
   "source": [
    "c=[1,4,5,6,2]\n",
    "c.sort() \n",
    "c"
   ]
  },
  {
   "cell_type": "code",
   "execution_count": 81,
   "id": "701a0e64",
   "metadata": {},
   "outputs": [
    {
     "ename": "TypeError",
     "evalue": "'<' not supported between instances of 'list' and 'int'",
     "output_type": "error",
     "traceback": [
      "\u001b[0;31m---------------------------------------------------------------------------\u001b[0m",
      "\u001b[0;31mTypeError\u001b[0m                                 Traceback (most recent call last)",
      "\u001b[0;32m/tmp/ipykernel_23706/1508171771.py\u001b[0m in \u001b[0;36m<module>\u001b[0;34m\u001b[0m\n\u001b[1;32m      1\u001b[0m \u001b[0md\u001b[0m\u001b[0;34m=\u001b[0m\u001b[0;34m[\u001b[0m\u001b[0;36m2\u001b[0m\u001b[0;34m,\u001b[0m\u001b[0;36m5\u001b[0m\u001b[0;34m,\u001b[0m\u001b[0;36m7\u001b[0m\u001b[0;34m,\u001b[0m\u001b[0;36m1\u001b[0m\u001b[0;34m,\u001b[0m\u001b[0;36m3\u001b[0m\u001b[0;34m,\u001b[0m\u001b[0;34m[\u001b[0m\u001b[0;36m1\u001b[0m\u001b[0;34m,\u001b[0m\u001b[0;36m6\u001b[0m\u001b[0;34m,\u001b[0m\u001b[0;36m5\u001b[0m\u001b[0;34m,\u001b[0m\u001b[0;36m2\u001b[0m\u001b[0;34m]\u001b[0m\u001b[0;34m]\u001b[0m\u001b[0;34m\u001b[0m\u001b[0;34m\u001b[0m\u001b[0m\n\u001b[0;32m----> 2\u001b[0;31m \u001b[0md\u001b[0m\u001b[0;34m.\u001b[0m\u001b[0msort\u001b[0m\u001b[0;34m(\u001b[0m\u001b[0;34m)\u001b[0m\u001b[0;34m\u001b[0m\u001b[0;34m\u001b[0m\u001b[0m\n\u001b[0m\u001b[1;32m      3\u001b[0m \u001b[0md\u001b[0m\u001b[0;34m\u001b[0m\u001b[0;34m\u001b[0m\u001b[0m\n",
      "\u001b[0;31mTypeError\u001b[0m: '<' not supported between instances of 'list' and 'int'"
     ]
    }
   ],
   "source": [
    "d=[2,5,7,1,3,[1,6,5,2]]\n",
    "d.sort()\n",
    "d"
   ]
  },
  {
   "cell_type": "code",
   "execution_count": 88,
   "id": "bba96737",
   "metadata": {},
   "outputs": [
    {
     "data": {
      "text/plain": [
       "[1, 2, 3, 5, 7, [1, 2, 5, 6]]"
      ]
     },
     "execution_count": 88,
     "metadata": {},
     "output_type": "execute_result"
    }
   ],
   "source": [
    "d[5].sort() #inplace sorting\n",
    "d"
   ]
  },
  {
   "cell_type": "code",
   "execution_count": 90,
   "id": "d5c1c424",
   "metadata": {},
   "outputs": [
    {
     "data": {
      "text/plain": [
       "[1, 2, 3, 5]"
      ]
     },
     "execution_count": 90,
     "metadata": {},
     "output_type": "execute_result"
    }
   ],
   "source": [
    "d.pop() #if no mention of index then removes the last element in list\n",
    "d"
   ]
  },
  {
   "cell_type": "code",
   "execution_count": 92,
   "id": "9542f159",
   "metadata": {},
   "outputs": [
    {
     "data": {
      "text/plain": [
       "[1, 2, 3, 5, 6, 7, [4, 2]]"
      ]
     },
     "execution_count": 92,
     "metadata": {},
     "output_type": "execute_result"
    }
   ],
   "source": [
    "f = [1,2,3]\n",
    "f+=[5,6,7,[4,2]] # += works like extends\n",
    "f"
   ]
  },
  {
   "cell_type": "code",
   "execution_count": 94,
   "id": "ba429c64",
   "metadata": {},
   "outputs": [
    {
     "data": {
      "text/plain": [
       "[1, 2, 3, 5, 6, 7, [4, 2], 15.12, 15, 12]"
      ]
     },
     "execution_count": 94,
     "metadata": {},
     "output_type": "execute_result"
    }
   ],
   "source": [
    "f.__iadd__([15,12])\n",
    "f"
   ]
  },
  {
   "cell_type": "code",
   "execution_count": null,
   "id": "7d05f67f",
   "metadata": {},
   "outputs": [],
   "source": [
    "M"
   ]
  }
 ],
 "metadata": {
  "kernelspec": {
   "display_name": "Python 3 (ipykernel)",
   "language": "python",
   "name": "python3"
  },
  "language_info": {
   "codemirror_mode": {
    "name": "ipython",
    "version": 3
   },
   "file_extension": ".py",
   "mimetype": "text/x-python",
   "name": "python",
   "nbconvert_exporter": "python",
   "pygments_lexer": "ipython3",
   "version": "3.7.13"
  }
 },
 "nbformat": 4,
 "nbformat_minor": 5
}
