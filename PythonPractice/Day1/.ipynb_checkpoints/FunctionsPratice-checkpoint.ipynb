{
 "cells": [
  {
   "cell_type": "markdown",
   "id": "678c848d",
   "metadata": {},
   "source": [
    "### Types of function arguments :-\n",
    "        - default argument\n",
    "        - position only argument\n",
    "        - keyword only argument\n",
    "        - Everything in python are objects"
   ]
  },
  {
   "cell_type": "code",
   "execution_count": 30,
   "id": "77e3adb8",
   "metadata": {},
   "outputs": [],
   "source": [
    "def my_func(a=1,b=2,c=3): #default arguments\n",
    "    return a+b+c"
   ]
  },
  {
   "cell_type": "code",
   "execution_count": 31,
   "id": "0a9b2686",
   "metadata": {},
   "outputs": [
    {
     "data": {
      "text/plain": [
       "6"
      ]
     },
     "execution_count": 31,
     "metadata": {},
     "output_type": "execute_result"
    }
   ],
   "source": [
    "my_func()"
   ]
  },
  {
   "cell_type": "code",
   "execution_count": 32,
   "id": "949f6eda",
   "metadata": {},
   "outputs": [
    {
     "data": {
      "text/plain": [
       "15"
      ]
     },
     "execution_count": 32,
     "metadata": {},
     "output_type": "execute_result"
    }
   ],
   "source": [
    "my_func(a=10)"
   ]
  },
  {
   "cell_type": "code",
   "execution_count": 33,
   "id": "8a913b78",
   "metadata": {},
   "outputs": [
    {
     "data": {
      "text/plain": [
       "33"
      ]
     },
     "execution_count": 33,
     "metadata": {},
     "output_type": "execute_result"
    }
   ],
   "source": [
    "my_func(10,20)"
   ]
  },
  {
   "cell_type": "code",
   "execution_count": 34,
   "id": "ecd246b8",
   "metadata": {},
   "outputs": [],
   "source": [
    "def my_func1(*args, **kwargs):\n",
    "    print(\"Meeting positional argument and keyword only arguments\")\n",
    "    print(type(args))\n",
    "    print(type(kwargs))\n",
    "    print(args)\n",
    "    print(kwargs)"
   ]
  },
  {
   "cell_type": "code",
   "execution_count": 35,
   "id": "1d741b8b",
   "metadata": {},
   "outputs": [
    {
     "name": "stdout",
     "output_type": "stream",
     "text": [
      "Meeting positional argument and keyword only arguments\n",
      "<class 'tuple'>\n",
      "<class 'dict'>\n",
      "(1, 2, [1, 2])\n",
      "{'name': 'josh', 'a': 1}\n"
     ]
    }
   ],
   "source": [
    "my_func1(1,2,[1,2],name=\"josh\",a=1)"
   ]
  },
  {
   "cell_type": "code",
   "execution_count": 36,
   "id": "03950c84",
   "metadata": {},
   "outputs": [],
   "source": [
    "my_func1.version='1.0.1'"
   ]
  },
  {
   "cell_type": "code",
   "execution_count": 37,
   "id": "5852423a",
   "metadata": {},
   "outputs": [
    {
     "data": {
      "text/plain": [
       "{'version': '1.0.1'}"
      ]
     },
     "execution_count": 37,
     "metadata": {},
     "output_type": "execute_result"
    }
   ],
   "source": [
    "my_func1.__dict__"
   ]
  },
  {
   "cell_type": "code",
   "execution_count": 38,
   "id": "57061902",
   "metadata": {},
   "outputs": [
    {
     "name": "stdout",
     "output_type": "stream",
     "text": [
      "Hello\n"
     ]
    }
   ],
   "source": [
    "z=print(\"Hello\")"
   ]
  },
  {
   "cell_type": "code",
   "execution_count": 39,
   "id": "39804f0e",
   "metadata": {},
   "outputs": [
    {
     "name": "stdout",
     "output_type": "stream",
     "text": [
      "None\n"
     ]
    }
   ],
   "source": [
    "print(z) # print() method doesn't return anything"
   ]
  },
  {
   "cell_type": "markdown",
   "id": "86870fa3",
   "metadata": {},
   "source": [
    "Try to access the function you wrote by using globals()"
   ]
  },
  {
   "cell_type": "code",
   "execution_count": 40,
   "id": "5d88a0b5",
   "metadata": {},
   "outputs": [
    {
     "data": {
      "text/plain": [
       "{'__name__': '__main__',\n",
       " '__doc__': 'Automatically created module for IPython interactive environment',\n",
       " '__package__': None,\n",
       " '__loader__': None,\n",
       " '__spec__': None,\n",
       " '__builtin__': <module 'builtins' (built-in)>,\n",
       " '__builtins__': <module 'builtins' (built-in)>,\n",
       " '_ih': ['',\n",
       "  'def my_func(a=1,b=2,c=3):\\n    return a+b+c',\n",
       "  'my_func()',\n",
       "  'def my_func(a=1,b=2,c=3): #default arguments\\n    return a+b+c',\n",
       "  'my_func()',\n",
       "  'my_func(a=10)',\n",
       "  'my_func(10,20)',\n",
       "  'def my_func1(*args, *kwargs):\\n    print(\"Meeting positional argument and keyword only arguments\")\\n    print(type(args))\\n    print(type(kwargs))\\n    print(args)\\n    print(kwargs)',\n",
       "  'def my_func1(*args, **kwargs):\\n    print(\"Meeting positional argument and keyword only arguments\")\\n    print(type(args))\\n    print(type(kwargs))\\n    print(args)\\n    print(kwargs)',\n",
       "  'my_func1(1,2,name=\"josh\")',\n",
       "  'my_func1(1,2,name=\"josh\",a=1)',\n",
       "  \"my_func1.version='1.0.1'\",\n",
       "  'my_func1.__dict__',\n",
       "  'my_func1(1,2,[1,2]name=\"josh\",a=1)',\n",
       "  'my_func1(1,2,[1,2],name=\"josh\",a=1)',\n",
       "  \"my_func1.version='1.0.1'\",\n",
       "  'my_func1.__dict__',\n",
       "  'z=print(\"Hello\")',\n",
       "  'print(z)',\n",
       "  'globals()',\n",
       "  'globals().my_func1(1,2,3,\"inchara\")',\n",
       "  'globals().[my_func1(1,2,3,\"inchara\")]',\n",
       "  'globals()[my_func1(1,2,3,\"inchara\")]',\n",
       "  'globals()',\n",
       "  'globals()[my_func1(1,2,3,\"inchara\")]',\n",
       "  'globals()[my_func1(1,2,3,\"inchara\"),b=2]',\n",
       "  'globals()[my_func1(1,2,3,\"inchara\",b=2)]',\n",
       "  'globals()[my_func1()]',\n",
       "  'globals()[my_func1(1,2,3,\"inchara\",b=2)]',\n",
       "  'globals()[my_func1(1,2,3,\"inchara\")]',\n",
       "  'def my_func(a=1,b=2,c=3): #default arguments\\n    return a+b+c',\n",
       "  'my_func()',\n",
       "  'my_func(a=10)',\n",
       "  'my_func(10,20)',\n",
       "  'def my_func1(*args, **kwargs):\\n    print(\"Meeting positional argument and keyword only arguments\")\\n    print(type(args))\\n    print(type(kwargs))\\n    print(args)\\n    print(kwargs)',\n",
       "  'my_func1(1,2,[1,2],name=\"josh\",a=1)',\n",
       "  \"my_func1.version='1.0.1'\",\n",
       "  'my_func1.__dict__',\n",
       "  'z=print(\"Hello\")',\n",
       "  \"print(z) # print() method doesn't return anything\",\n",
       "  'globals()'],\n",
       " '_oh': {2: 6,\n",
       "  4: 6,\n",
       "  5: 15,\n",
       "  6: 33,\n",
       "  12: {'version': '1.0.1'},\n",
       "  16: {'version': '1.0.1'},\n",
       "  19: {...},\n",
       "  23: {...},\n",
       "  31: 6,\n",
       "  32: 15,\n",
       "  33: 33,\n",
       "  37: {'version': '1.0.1'}},\n",
       " '_dh': ['/home/unnathi/perfios-bootcamp/PythonPractice/Day1'],\n",
       " 'In': ['',\n",
       "  'def my_func(a=1,b=2,c=3):\\n    return a+b+c',\n",
       "  'my_func()',\n",
       "  'def my_func(a=1,b=2,c=3): #default arguments\\n    return a+b+c',\n",
       "  'my_func()',\n",
       "  'my_func(a=10)',\n",
       "  'my_func(10,20)',\n",
       "  'def my_func1(*args, *kwargs):\\n    print(\"Meeting positional argument and keyword only arguments\")\\n    print(type(args))\\n    print(type(kwargs))\\n    print(args)\\n    print(kwargs)',\n",
       "  'def my_func1(*args, **kwargs):\\n    print(\"Meeting positional argument and keyword only arguments\")\\n    print(type(args))\\n    print(type(kwargs))\\n    print(args)\\n    print(kwargs)',\n",
       "  'my_func1(1,2,name=\"josh\")',\n",
       "  'my_func1(1,2,name=\"josh\",a=1)',\n",
       "  \"my_func1.version='1.0.1'\",\n",
       "  'my_func1.__dict__',\n",
       "  'my_func1(1,2,[1,2]name=\"josh\",a=1)',\n",
       "  'my_func1(1,2,[1,2],name=\"josh\",a=1)',\n",
       "  \"my_func1.version='1.0.1'\",\n",
       "  'my_func1.__dict__',\n",
       "  'z=print(\"Hello\")',\n",
       "  'print(z)',\n",
       "  'globals()',\n",
       "  'globals().my_func1(1,2,3,\"inchara\")',\n",
       "  'globals().[my_func1(1,2,3,\"inchara\")]',\n",
       "  'globals()[my_func1(1,2,3,\"inchara\")]',\n",
       "  'globals()',\n",
       "  'globals()[my_func1(1,2,3,\"inchara\")]',\n",
       "  'globals()[my_func1(1,2,3,\"inchara\"),b=2]',\n",
       "  'globals()[my_func1(1,2,3,\"inchara\",b=2)]',\n",
       "  'globals()[my_func1()]',\n",
       "  'globals()[my_func1(1,2,3,\"inchara\",b=2)]',\n",
       "  'globals()[my_func1(1,2,3,\"inchara\")]',\n",
       "  'def my_func(a=1,b=2,c=3): #default arguments\\n    return a+b+c',\n",
       "  'my_func()',\n",
       "  'my_func(a=10)',\n",
       "  'my_func(10,20)',\n",
       "  'def my_func1(*args, **kwargs):\\n    print(\"Meeting positional argument and keyword only arguments\")\\n    print(type(args))\\n    print(type(kwargs))\\n    print(args)\\n    print(kwargs)',\n",
       "  'my_func1(1,2,[1,2],name=\"josh\",a=1)',\n",
       "  \"my_func1.version='1.0.1'\",\n",
       "  'my_func1.__dict__',\n",
       "  'z=print(\"Hello\")',\n",
       "  \"print(z) # print() method doesn't return anything\",\n",
       "  'globals()'],\n",
       " 'Out': {2: 6,\n",
       "  4: 6,\n",
       "  5: 15,\n",
       "  6: 33,\n",
       "  12: {'version': '1.0.1'},\n",
       "  16: {'version': '1.0.1'},\n",
       "  19: {...},\n",
       "  23: {...},\n",
       "  31: 6,\n",
       "  32: 15,\n",
       "  33: 33,\n",
       "  37: {'version': '1.0.1'}},\n",
       " 'get_ipython': <bound method InteractiveShell.get_ipython of <ipykernel.zmqshell.ZMQInteractiveShell object at 0x7f229ce18290>>,\n",
       " 'exit': <IPython.core.autocall.ZMQExitAutocall at 0x7f229cdb63d0>,\n",
       " 'quit': <IPython.core.autocall.ZMQExitAutocall at 0x7f229cdb63d0>,\n",
       " '_': {'version': '1.0.1'},\n",
       " '__': 33,\n",
       " '___': 15,\n",
       " '_i': \"print(z) # print() method doesn't return anything\",\n",
       " '_ii': 'z=print(\"Hello\")',\n",
       " '_iii': 'my_func1.__dict__',\n",
       " '_i1': 'def my_func(a=1,b=2,c=3):\\n    return a+b+c',\n",
       " 'my_func': <function __main__.my_func(a=1, b=2, c=3)>,\n",
       " '_i2': 'my_func()',\n",
       " '_2': 6,\n",
       " '_i3': 'def my_func(a=1,b=2,c=3): #default arguments\\n    return a+b+c',\n",
       " '_i4': 'my_func()',\n",
       " '_4': 6,\n",
       " '_i5': 'my_func(a=10)',\n",
       " '_5': 15,\n",
       " '_i6': 'my_func(10,20)',\n",
       " '_6': 33,\n",
       " '_i7': 'def my_func1(*args, *kwargs):\\n    print(\"Meeting positional argument and keyword only arguments\")\\n    print(type(args))\\n    print(type(kwargs))\\n    print(args)\\n    print(kwargs)',\n",
       " '_i8': 'def my_func1(*args, **kwargs):\\n    print(\"Meeting positional argument and keyword only arguments\")\\n    print(type(args))\\n    print(type(kwargs))\\n    print(args)\\n    print(kwargs)',\n",
       " 'my_func1': <function __main__.my_func1(*args, **kwargs)>,\n",
       " '_i9': 'my_func1(1,2,name=\"josh\")',\n",
       " '_i10': 'my_func1(1,2,name=\"josh\",a=1)',\n",
       " '_i11': \"my_func1.version='1.0.1'\",\n",
       " '_i12': 'my_func1.__dict__',\n",
       " '_12': {'version': '1.0.1'},\n",
       " '_i13': 'my_func1(1,2,[1,2]name=\"josh\",a=1)',\n",
       " '_i14': 'my_func1(1,2,[1,2],name=\"josh\",a=1)',\n",
       " '_i15': \"my_func1.version='1.0.1'\",\n",
       " '_i16': 'my_func1.__dict__',\n",
       " '_16': {'version': '1.0.1'},\n",
       " '_i17': 'z=print(\"Hello\")',\n",
       " 'z': None,\n",
       " '_i18': 'print(z)',\n",
       " '_i19': 'globals()',\n",
       " '_19': {...},\n",
       " '_i20': 'globals().my_func1(1,2,3,\"inchara\")',\n",
       " '_i21': 'globals().[my_func1(1,2,3,\"inchara\")]',\n",
       " '_i22': 'globals()[my_func1(1,2,3,\"inchara\")]',\n",
       " '_i23': 'globals()',\n",
       " '_23': {...},\n",
       " '_i24': 'globals()[my_func1(1,2,3,\"inchara\")]',\n",
       " '_i25': 'globals()[my_func1(1,2,3,\"inchara\"),b=2]',\n",
       " '_i26': 'globals()[my_func1(1,2,3,\"inchara\",b=2)]',\n",
       " '_i27': 'globals()[my_func1()]',\n",
       " '_i28': 'globals()[my_func1(1,2,3,\"inchara\",b=2)]',\n",
       " '_i29': 'globals()[my_func1(1,2,3,\"inchara\")]',\n",
       " '_i30': 'def my_func(a=1,b=2,c=3): #default arguments\\n    return a+b+c',\n",
       " '_i31': 'my_func()',\n",
       " '_31': 6,\n",
       " '_i32': 'my_func(a=10)',\n",
       " '_32': 15,\n",
       " '_i33': 'my_func(10,20)',\n",
       " '_33': 33,\n",
       " '_i34': 'def my_func1(*args, **kwargs):\\n    print(\"Meeting positional argument and keyword only arguments\")\\n    print(type(args))\\n    print(type(kwargs))\\n    print(args)\\n    print(kwargs)',\n",
       " '_i35': 'my_func1(1,2,[1,2],name=\"josh\",a=1)',\n",
       " '_i36': \"my_func1.version='1.0.1'\",\n",
       " '_i37': 'my_func1.__dict__',\n",
       " '_37': {'version': '1.0.1'},\n",
       " '_i38': 'z=print(\"Hello\")',\n",
       " '_i39': \"print(z) # print() method doesn't return anything\",\n",
       " '_i40': 'globals()'}"
      ]
     },
     "execution_count": 40,
     "metadata": {},
     "output_type": "execute_result"
    }
   ],
   "source": [
    "globals()"
   ]
  },
  {
   "cell_type": "code",
   "execution_count": 42,
   "id": "b3ae27e5",
   "metadata": {},
   "outputs": [
    {
     "name": "stdout",
     "output_type": "stream",
     "text": [
      "Meeting positional argument and keyword only arguments\n",
      "<class 'tuple'>\n",
      "<class 'dict'>\n",
      "(1, 2, 'Inchara')\n",
      "{}\n"
     ]
    }
   ],
   "source": [
    "globals()['my_func1'](1,2,\"Inchara\")"
   ]
  },
  {
   "cell_type": "code",
   "execution_count": 45,
   "id": "48fb5952",
   "metadata": {},
   "outputs": [],
   "source": [
    "def is_even(a):\n",
    "    if a%2==0:\n",
    "        return \"Even\"\n",
    "    else:\n",
    "        return \"Odd\""
   ]
  },
  {
   "cell_type": "code",
   "execution_count": 46,
   "id": "a492562a",
   "metadata": {},
   "outputs": [
    {
     "data": {
      "text/plain": [
       "'Even'"
      ]
     },
     "execution_count": 46,
     "metadata": {},
     "output_type": "execute_result"
    }
   ],
   "source": [
    "is_even(4)"
   ]
  },
  {
   "cell_type": "code",
   "execution_count": 47,
   "id": "4b2bc793",
   "metadata": {},
   "outputs": [
    {
     "data": {
      "text/plain": [
       "'Odd'"
      ]
     },
     "execution_count": 47,
     "metadata": {},
     "output_type": "execute_result"
    }
   ],
   "source": [
    "is_even(5)"
   ]
  },
  {
   "cell_type": "code",
   "execution_count": 53,
   "id": "f102d977",
   "metadata": {},
   "outputs": [],
   "source": [
    "def my_func2(*args):\n",
    "    return sum(args)"
   ]
  },
  {
   "cell_type": "code",
   "execution_count": 52,
   "id": "9307acbb",
   "metadata": {},
   "outputs": [
    {
     "data": {
      "text/plain": [
       "6"
      ]
     },
     "execution_count": 52,
     "metadata": {},
     "output_type": "execute_result"
    }
   ],
   "source": [
    "my_func2(1,2,3)"
   ]
  },
  {
   "cell_type": "code",
   "execution_count": null,
   "id": "5ee20f15",
   "metadata": {},
   "outputs": [],
   "source": []
  }
 ],
 "metadata": {
  "kernelspec": {
   "display_name": "Python 3 (ipykernel)",
   "language": "python",
   "name": "python3"
  },
  "language_info": {
   "codemirror_mode": {
    "name": "ipython",
    "version": 3
   },
   "file_extension": ".py",
   "mimetype": "text/x-python",
   "name": "python",
   "nbconvert_exporter": "python",
   "pygments_lexer": "ipython3",
   "version": "3.7.13"
  }
 },
 "nbformat": 4,
 "nbformat_minor": 5
}
