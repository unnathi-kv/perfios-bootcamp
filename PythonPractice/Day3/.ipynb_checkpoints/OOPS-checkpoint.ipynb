{
 "cells": [
  {
   "cell_type": "code",
   "execution_count": 1,
   "id": "3cb6b98e",
   "metadata": {},
   "outputs": [],
   "source": [
    "class Test:\n",
    "    pass\n",
    "    "
   ]
  },
  {
   "cell_type": "code",
   "execution_count": 2,
   "id": "7de134de",
   "metadata": {},
   "outputs": [
    {
     "data": {
      "text/plain": [
       "__main__.Test"
      ]
     },
     "execution_count": 2,
     "metadata": {},
     "output_type": "execute_result"
    }
   ],
   "source": [
    "Test"
   ]
  },
  {
   "cell_type": "code",
   "execution_count": 3,
   "id": "8776f889",
   "metadata": {},
   "outputs": [
    {
     "data": {
      "text/plain": [
       "type"
      ]
     },
     "execution_count": 3,
     "metadata": {},
     "output_type": "execute_result"
    }
   ],
   "source": [
    "type(Test)"
   ]
  },
  {
   "cell_type": "code",
   "execution_count": 4,
   "id": "529c267c",
   "metadata": {},
   "outputs": [
    {
     "data": {
      "text/plain": [
       "True"
      ]
     },
     "execution_count": 4,
     "metadata": {},
     "output_type": "execute_result"
    }
   ],
   "source": [
    "issubclass(Test,object)"
   ]
  },
  {
   "cell_type": "code",
   "execution_count": 6,
   "id": "4dfea486",
   "metadata": {},
   "outputs": [],
   "source": [
    "class Test:\n",
    "    def __new__(self): # self- an object\n",
    "        print(\"New called\")"
   ]
  },
  {
   "cell_type": "code",
   "execution_count": 7,
   "id": "bc6f7fe8",
   "metadata": {},
   "outputs": [
    {
     "name": "stdout",
     "output_type": "stream",
     "text": [
      "New called\n"
     ]
    }
   ],
   "source": [
    "t =Test() # Object of class Test"
   ]
  },
  {
   "cell_type": "code",
   "execution_count": 8,
   "id": "bdf0bfbd",
   "metadata": {},
   "outputs": [
    {
     "data": {
      "text/plain": [
       "NoneType"
      ]
     },
     "execution_count": 8,
     "metadata": {},
     "output_type": "execute_result"
    }
   ],
   "source": [
    "type(t)"
   ]
  },
  {
   "cell_type": "code",
   "execution_count": 11,
   "id": "6ae0b56e",
   "metadata": {},
   "outputs": [
    {
     "name": "stdout",
     "output_type": "stream",
     "text": [
      "Help on built-in function __new__:\n",
      "\n",
      "__new__(*args, **kwargs) method of builtins.type instance\n",
      "    Create and return a new object.  See help(type) for accurate signature.\n",
      "\n"
     ]
    }
   ],
   "source": [
    "help(t.__new__)"
   ]
  },
  {
   "cell_type": "code",
   "execution_count": 52,
   "id": "e17b47a2",
   "metadata": {},
   "outputs": [],
   "source": [
    "class Test:\n",
    "    def __new__(self): # self - an object which is used to access variables in class and  first parameter of any function in the class\n",
    "        \n",
    "        print(\"New called\")\n",
    "    def __init__(self):\n",
    "        print(\"__init__ called\")"
   ]
  },
  {
   "cell_type": "code",
   "execution_count": 30,
   "id": "b9e0cf8e",
   "metadata": {},
   "outputs": [
    {
     "name": "stdout",
     "output_type": "stream",
     "text": [
      "__init__ called\n"
     ]
    }
   ],
   "source": [
    "t=Test()"
   ]
  },
  {
   "cell_type": "code",
   "execution_count": 31,
   "id": "2bcd7a22",
   "metadata": {},
   "outputs": [],
   "source": [
    "class Test:\n",
    "    def __init__(self):\n",
    "        print(\"__init__ called\") # always use dunder init to intialize the object"
   ]
  },
  {
   "cell_type": "code",
   "execution_count": 32,
   "id": "e3cab078",
   "metadata": {},
   "outputs": [
    {
     "name": "stdout",
     "output_type": "stream",
     "text": [
      "__init__ called\n"
     ]
    }
   ],
   "source": [
    "t=Test()\n"
   ]
  },
  {
   "cell_type": "code",
   "execution_count": 42,
   "id": "8105ddd0",
   "metadata": {},
   "outputs": [],
   "source": [
    "class Student:\n",
    "    def __init__(self,name,rno):\n",
    "        self.name=name\n",
    "        self.rno=rno\n",
    "    \n",
    "    def getdata(self):\n",
    "        return(self.name,self.rno)"
   ]
  },
  {
   "cell_type": "code",
   "execution_count": 47,
   "id": "a7293fd6",
   "metadata": {},
   "outputs": [],
   "source": [
    "s= Student(\"Joshua\",\"17\")"
   ]
  },
  {
   "cell_type": "code",
   "execution_count": 48,
   "id": "61c6544f",
   "metadata": {},
   "outputs": [
    {
     "data": {
      "text/plain": [
       "<__main__.Student at 0x7f1b518ab710>"
      ]
     },
     "execution_count": 48,
     "metadata": {},
     "output_type": "execute_result"
    }
   ],
   "source": [
    "s"
   ]
  },
  {
   "cell_type": "code",
   "execution_count": 49,
   "id": "f8c6bae6",
   "metadata": {},
   "outputs": [
    {
     "name": "stdout",
     "output_type": "stream",
     "text": [
      "('Joshua', '17')\n"
     ]
    }
   ],
   "source": [
    "print(s.getdata())"
   ]
  },
  {
   "cell_type": "code",
   "execution_count": 60,
   "id": "77179dee",
   "metadata": {},
   "outputs": [
    {
     "data": {
      "text/plain": [
       "('Joshua', '17')"
      ]
     },
     "execution_count": 60,
     "metadata": {},
     "output_type": "execute_result"
    }
   ],
   "source": [
    "Student.getdata(s) # s is an object like self"
   ]
  },
  {
   "cell_type": "code",
   "execution_count": 61,
   "id": "7368eb4c",
   "metadata": {},
   "outputs": [
    {
     "data": {
      "text/plain": [
       "{'name': 'Joshua', 'rno': '17'}"
      ]
     },
     "execution_count": 61,
     "metadata": {},
     "output_type": "execute_result"
    }
   ],
   "source": [
    "s.__dict__"
   ]
  },
  {
   "cell_type": "code",
   "execution_count": 62,
   "id": "b1783aeb",
   "metadata": {},
   "outputs": [
    {
     "data": {
      "text/plain": [
       "mappingproxy({'__module__': '__main__',\n",
       "              '__init__': <function __main__.Student.__init__(self, name, rno)>,\n",
       "              'getdata': <function __main__.Student.getdata(self)>,\n",
       "              '__dict__': <attribute '__dict__' of 'Student' objects>,\n",
       "              '__weakref__': <attribute '__weakref__' of 'Student' objects>,\n",
       "              '__doc__': None})"
      ]
     },
     "execution_count": 62,
     "metadata": {},
     "output_type": "execute_result"
    }
   ],
   "source": [
    "Student.__dict__"
   ]
  },
  {
   "cell_type": "code",
   "execution_count": null,
   "id": "9146b19b",
   "metadata": {},
   "outputs": [],
   "source": []
  }
 ],
 "metadata": {
  "kernelspec": {
   "display_name": "Python 3 (ipykernel)",
   "language": "python",
   "name": "python3"
  },
  "language_info": {
   "codemirror_mode": {
    "name": "ipython",
    "version": 3
   },
   "file_extension": ".py",
   "mimetype": "text/x-python",
   "name": "python",
   "nbconvert_exporter": "python",
   "pygments_lexer": "ipython3",
   "version": "3.7.13"
  }
 },
 "nbformat": 4,
 "nbformat_minor": 5
}
