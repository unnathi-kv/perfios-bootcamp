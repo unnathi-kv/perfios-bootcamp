{
 "cells": [
  {
   "cell_type": "markdown",
   "id": "0cef39f7",
   "metadata": {},
   "source": [
    "### Exception Handling :-\n",
    "                   * can be handled by using try,except and finally "
   ]
  },
  {
   "cell_type": "code",
   "execution_count": 6,
   "id": "4dee0c63",
   "metadata": {},
   "outputs": [
    {
     "name": "stdout",
     "output_type": "stream",
     "text": [
      "This line prints\n",
      "This aswell\n",
      "Will this be printed\n",
      "*********************************End of program*********************************\n"
     ]
    }
   ],
   "source": [
    "l=[1,2,3]\n",
    "print(\"This line prints\")\n",
    "print(\"This aswell\")\n",
    "# print(\"Hi {}\".format(name)) # Gives NameError exception.\n",
    "# print(\"Hi {}\".format(l[5])) # Gives IndexError exception\n",
    "print(\"Will this be printed\")\n",
    "print(\"End of program\".center(80,'*'))"
   ]
  },
  {
   "cell_type": "code",
   "execution_count": 71,
   "id": "1a46723f",
   "metadata": {},
   "outputs": [
    {
     "name": "stdout",
     "output_type": "stream",
     "text": [
      "division by zero\n"
     ]
    }
   ],
   "source": [
    "try:\n",
    "    1/0\n",
    "except Exception as e :\n",
    "    print(e) # prints division by zero\n",
    "    # print(repr(e)) # prints ZeroDivisionError('division by zero')"
   ]
  },
  {
   "cell_type": "code",
   "execution_count": 13,
   "id": "cc049a5b",
   "metadata": {},
   "outputs": [
    {
     "name": "stdout",
     "output_type": "stream",
     "text": [
      "Help on built-in function repr in module builtins:\n",
      "\n",
      "repr(obj, /)\n",
      "    Return the canonical string representation of the object.\n",
      "    \n",
      "    For many object types, including most builtins, eval(repr(obj)) == obj.\n",
      "\n"
     ]
    }
   ],
   "source": [
    "help(repr)"
   ]
  },
  {
   "cell_type": "code",
   "execution_count": 20,
   "id": "2491ecdc",
   "metadata": {},
   "outputs": [
    {
     "name": "stdout",
     "output_type": "stream",
     "text": [
      "NameError(\"name 'n' is not defined\")\n",
      "Codes under finally block will always be executed\n"
     ]
    }
   ],
   "source": [
    "try:\n",
    "    print(n)\n",
    "    print(\"Good Morning\")\n",
    "except Exception as e:\n",
    "    print(repr(e))\n",
    "finally:\n",
    "    print(\"Codes under finally block will always be executed\")"
   ]
  },
  {
   "cell_type": "code",
   "execution_count": 21,
   "id": "f1dc7c51",
   "metadata": {},
   "outputs": [
    {
     "name": "stdout",
     "output_type": "stream",
     "text": [
      "['__cause__', '__class__', '__context__', '__delattr__', '__dict__', '__dir__', '__doc__', '__eq__', '__format__', '__ge__', '__getattribute__', '__gt__', '__hash__', '__init__', '__init_subclass__', '__le__', '__lt__', '__ne__', '__new__', '__reduce__', '__reduce_ex__', '__repr__', '__setattr__', '__setstate__', '__sizeof__', '__str__', '__subclasshook__', '__suppress_context__', '__traceback__', 'args', 'with_traceback']\n"
     ]
    }
   ],
   "source": [
    "print(dir(Exception))"
   ]
  },
  {
   "cell_type": "code",
   "execution_count": 38,
   "id": "b28e3a47",
   "metadata": {},
   "outputs": [
    {
     "name": "stdout",
     "output_type": "stream",
     "text": [
      "Help on class Exception in module builtins:\n",
      "\n",
      "class Exception(BaseException)\n",
      " |  Common base class for all non-exit exceptions.\n",
      " |  \n",
      " |  Method resolution order:\n",
      " |      Exception\n",
      " |      BaseException\n",
      " |      object\n",
      " |  \n",
      " |  Methods defined here:\n",
      " |  \n",
      " |  __init__(self, /, *args, **kwargs)\n",
      " |      Initialize self.  See help(type(self)) for accurate signature.\n",
      " |  \n",
      " |  ----------------------------------------------------------------------\n",
      " |  Static methods defined here:\n",
      " |  \n",
      " |  __new__(*args, **kwargs) from builtins.type\n",
      " |      Create and return a new object.  See help(type) for accurate signature.\n",
      " |  \n",
      " |  ----------------------------------------------------------------------\n",
      " |  Methods inherited from BaseException:\n",
      " |  \n",
      " |  __delattr__(self, name, /)\n",
      " |      Implement delattr(self, name).\n",
      " |  \n",
      " |  __getattribute__(self, name, /)\n",
      " |      Return getattr(self, name).\n",
      " |  \n",
      " |  __reduce__(...)\n",
      " |      Helper for pickle.\n",
      " |  \n",
      " |  __repr__(self, /)\n",
      " |      Return repr(self).\n",
      " |  \n",
      " |  __setattr__(self, name, value, /)\n",
      " |      Implement setattr(self, name, value).\n",
      " |  \n",
      " |  __setstate__(...)\n",
      " |  \n",
      " |  __str__(self, /)\n",
      " |      Return str(self).\n",
      " |  \n",
      " |  with_traceback(...)\n",
      " |      Exception.with_traceback(tb) --\n",
      " |      set self.__traceback__ to tb and return self.\n",
      " |  \n",
      " |  ----------------------------------------------------------------------\n",
      " |  Data descriptors inherited from BaseException:\n",
      " |  \n",
      " |  __cause__\n",
      " |      exception cause\n",
      " |  \n",
      " |  __context__\n",
      " |      exception context\n",
      " |  \n",
      " |  __dict__\n",
      " |  \n",
      " |  __suppress_context__\n",
      " |  \n",
      " |  __traceback__\n",
      " |  \n",
      " |  args\n",
      "\n"
     ]
    }
   ],
   "source": [
    "help(Exception)\n"
   ]
  },
  {
   "cell_type": "code",
   "execution_count": 26,
   "id": "f5e3b08a",
   "metadata": {},
   "outputs": [
    {
     "data": {
      "text/plain": [
       "<function issubclass(cls, class_or_tuple, /)>"
      ]
     },
     "execution_count": 26,
     "metadata": {},
     "output_type": "execute_result"
    }
   ],
   "source": [
    "issubclass"
   ]
  },
  {
   "cell_type": "code",
   "execution_count": 27,
   "id": "9368cc35",
   "metadata": {},
   "outputs": [
    {
     "data": {
      "text/plain": [
       "False"
      ]
     },
     "execution_count": 27,
     "metadata": {},
     "output_type": "execute_result"
    }
   ],
   "source": [
    "issubclass(int,float)"
   ]
  },
  {
   "cell_type": "code",
   "execution_count": 32,
   "id": "e0a3dbba",
   "metadata": {},
   "outputs": [
    {
     "data": {
      "text/plain": [
       "True"
      ]
     },
     "execution_count": 32,
     "metadata": {},
     "output_type": "execute_result"
    }
   ],
   "source": [
    "issubclass(int,object)"
   ]
  },
  {
   "cell_type": "code",
   "execution_count": 33,
   "id": "ac53935d",
   "metadata": {},
   "outputs": [
    {
     "data": {
      "text/plain": [
       "True"
      ]
     },
     "execution_count": 33,
     "metadata": {},
     "output_type": "execute_result"
    }
   ],
   "source": [
    "issubclass(Exception,object)"
   ]
  },
  {
   "cell_type": "code",
   "execution_count": 34,
   "id": "26dd273d",
   "metadata": {},
   "outputs": [
    {
     "name": "stdout",
     "output_type": "stream",
     "text": [
      "Help on built-in function issubclass in module builtins:\n",
      "\n",
      "issubclass(cls, class_or_tuple, /)\n",
      "    Return whether 'cls' is a derived from another class or is the same class.\n",
      "    \n",
      "    A tuple, as in ``issubclass(x, (A, B, ...))``, may be given as the target to\n",
      "    check against. This is equivalent to ``issubclass(x, A) or issubclass(x, B)\n",
      "    or ...`` etc.\n",
      "\n"
     ]
    }
   ],
   "source": [
    "help(issubclass)"
   ]
  },
  {
   "cell_type": "code",
   "execution_count": 35,
   "id": "57cbb5a8",
   "metadata": {},
   "outputs": [
    {
     "name": "stdout",
     "output_type": "stream",
     "text": [
      "Help on class BaseException in module builtins:\n",
      "\n",
      "class BaseException(object)\n",
      " |  Common base class for all exceptions\n",
      " |  \n",
      " |  Methods defined here:\n",
      " |  \n",
      " |  __delattr__(self, name, /)\n",
      " |      Implement delattr(self, name).\n",
      " |  \n",
      " |  __getattribute__(self, name, /)\n",
      " |      Return getattr(self, name).\n",
      " |  \n",
      " |  __init__(self, /, *args, **kwargs)\n",
      " |      Initialize self.  See help(type(self)) for accurate signature.\n",
      " |  \n",
      " |  __reduce__(...)\n",
      " |      Helper for pickle.\n",
      " |  \n",
      " |  __repr__(self, /)\n",
      " |      Return repr(self).\n",
      " |  \n",
      " |  __setattr__(self, name, value, /)\n",
      " |      Implement setattr(self, name, value).\n",
      " |  \n",
      " |  __setstate__(...)\n",
      " |  \n",
      " |  __str__(self, /)\n",
      " |      Return str(self).\n",
      " |  \n",
      " |  with_traceback(...)\n",
      " |      Exception.with_traceback(tb) --\n",
      " |      set self.__traceback__ to tb and return self.\n",
      " |  \n",
      " |  ----------------------------------------------------------------------\n",
      " |  Static methods defined here:\n",
      " |  \n",
      " |  __new__(*args, **kwargs) from builtins.type\n",
      " |      Create and return a new object.  See help(type) for accurate signature.\n",
      " |  \n",
      " |  ----------------------------------------------------------------------\n",
      " |  Data descriptors defined here:\n",
      " |  \n",
      " |  __cause__\n",
      " |      exception cause\n",
      " |  \n",
      " |  __context__\n",
      " |      exception context\n",
      " |  \n",
      " |  __dict__\n",
      " |  \n",
      " |  __suppress_context__\n",
      " |  \n",
      " |  __traceback__\n",
      " |  \n",
      " |  args\n",
      "\n"
     ]
    }
   ],
   "source": [
    "help( BaseException)"
   ]
  },
  {
   "cell_type": "code",
   "execution_count": 43,
   "id": "c9c65c1c",
   "metadata": {},
   "outputs": [
    {
     "data": {
      "text/plain": [
       "True"
      ]
     },
     "execution_count": 43,
     "metadata": {},
     "output_type": "execute_result"
    }
   ],
   "source": [
    "issubclass(Exception, BaseException)"
   ]
  },
  {
   "cell_type": "code",
   "execution_count": 44,
   "id": "2b5f3779",
   "metadata": {},
   "outputs": [
    {
     "name": "stdout",
     "output_type": "stream",
     "text": [
      "['ArithmeticError', 'AssertionError', 'AttributeError', 'BaseException', 'BlockingIOError', 'BrokenPipeError', 'BufferError', 'BytesWarning', 'ChildProcessError', 'ConnectionAbortedError', 'ConnectionError', 'ConnectionRefusedError', 'ConnectionResetError', 'DeprecationWarning', 'EOFError', 'Ellipsis', 'EnvironmentError', 'Exception', 'False', 'FileExistsError', 'FileNotFoundError', 'FloatingPointError', 'FutureWarning', 'GeneratorExit', 'IOError', 'ImportError', 'ImportWarning', 'IndentationError', 'IndexError', 'InterruptedError', 'IsADirectoryError', 'KeyError', 'KeyboardInterrupt', 'LookupError', 'MemoryError', 'ModuleNotFoundError', 'NameError', 'None', 'NotADirectoryError', 'NotImplemented', 'NotImplementedError', 'OSError', 'OverflowError', 'PendingDeprecationWarning', 'PermissionError', 'ProcessLookupError', 'RecursionError', 'ReferenceError', 'ResourceWarning', 'RuntimeError', 'RuntimeWarning', 'StopAsyncIteration', 'StopIteration', 'SyntaxError', 'SyntaxWarning', 'SystemError', 'SystemExit', 'TabError', 'TimeoutError', 'True', 'TypeError', 'UnboundLocalError', 'UnicodeDecodeError', 'UnicodeEncodeError', 'UnicodeError', 'UnicodeTranslateError', 'UnicodeWarning', 'UserWarning', 'ValueError', 'Warning', 'ZeroDivisionError', '__IPYTHON__', '__build_class__', '__debug__', '__doc__', '__import__', '__loader__', '__name__', '__package__', '__spec__', 'abs', 'all', 'any', 'ascii', 'bin', 'bool', 'breakpoint', 'bytearray', 'bytes', 'callable', 'chr', 'classmethod', 'compile', 'complex', 'copyright', 'credits', 'delattr', 'dict', 'dir', 'display', 'divmod', 'enumerate', 'eval', 'exec', 'execfile', 'filter', 'float', 'format', 'frozenset', 'get_ipython', 'getattr', 'globals', 'hasattr', 'hash', 'help', 'hex', 'id', 'input', 'int', 'isinstance', 'issubclass', 'iter', 'len', 'license', 'list', 'locals', 'map', 'max', 'memoryview', 'min', 'next', 'object', 'oct', 'open', 'ord', 'pow', 'print', 'property', 'range', 'repr', 'reversed', 'round', 'runfile', 'set', 'setattr', 'slice', 'sorted', 'staticmethod', 'str', 'sum', 'super', 'tuple', 'type', 'vars', 'zip']\n"
     ]
    }
   ],
   "source": [
    "print(dir(__builtins__))"
   ]
  },
  {
   "cell_type": "code",
   "execution_count": 54,
   "id": "7eac449f",
   "metadata": {},
   "outputs": [
    {
     "data": {
      "text/plain": [
       "118"
      ]
     },
     "execution_count": 54,
     "metadata": {},
     "output_type": "execute_result"
    }
   ],
   "source": [
    "len(Exception.__subclasses__())"
   ]
  },
  {
   "cell_type": "code",
   "execution_count": 55,
   "id": "3db446e9",
   "metadata": {},
   "outputs": [
    {
     "data": {
      "text/plain": [
       "[Exception,\n",
       " GeneratorExit,\n",
       " SystemExit,\n",
       " KeyboardInterrupt,\n",
       " _pydev_imps._pydev_saved_modules.DebuggerInitializationError,\n",
       " pkg_resources._vendor.more_itertools.more.AbortThread]"
      ]
     },
     "execution_count": 55,
     "metadata": {},
     "output_type": "execute_result"
    }
   ],
   "source": [
    "BaseException.__subclasses__()"
   ]
  },
  {
   "cell_type": "code",
   "execution_count": 57,
   "id": "d256245b",
   "metadata": {},
   "outputs": [
    {
     "name": "stdout",
     "output_type": "stream",
     "text": [
      "Values of a and b are 10 ,0 resp\n",
      "ZeroDivisionError('division by zero')\n",
      "*********************************End of program*********************************\n"
     ]
    }
   ],
   "source": [
    "a,b=10,0\n",
    "print(\"Values of a and b are {} ,{} resp\".format(a,b))\n",
    "try:\n",
    "    a/b\n",
    "except BaseException as be:\n",
    "    print(repr(be))\n",
    "finally:\n",
    "    print(\"End of program\".center(80,'*'))"
   ]
  },
  {
   "cell_type": "code",
   "execution_count": 70,
   "id": "53b3d1a9",
   "metadata": {},
   "outputs": [
    {
     "name": "stdout",
     "output_type": "stream",
     "text": [
      "In f1\n",
      "In f2\n",
      "In f3\n",
      "IndexError('Only integers allowed')\n"
     ]
    }
   ],
   "source": [
    "def f1():\n",
    "    print(\"In f1\")\n",
    "    f2()\n",
    "def f2():\n",
    "    print(\"In f2\")\n",
    "    f3()\n",
    "def f3():\n",
    "    try:\n",
    "        print(\"In f3\")\n",
    "        raise IndexError(\"Only integers allowed\")\n",
    "        print(\"End of program\".center(80,'*'))\n",
    "    except Exception as e:\n",
    "        print(repr(e))\n",
    "f1()"
   ]
  },
  {
   "cell_type": "code",
   "execution_count": 72,
   "id": "6bac27b3",
   "metadata": {},
   "outputs": [
    {
     "name": "stdout",
     "output_type": "stream",
     "text": [
      "['__IPYTHON__', '__build_class__', '__debug__', '__doc__', '__import__', '__loader__', '__name__', '__package__', '__spec__']\n"
     ]
    }
   ],
   "source": [
    "def show():\n",
    "    l1=dir(__builtins__)\n",
    "    for i in l1:\n",
    "        if i.startswith('_'):\n",
    "            l2.append(i)\n",
    "    print(l2)\n",
    "show()"
   ]
  },
  {
   "cell_type": "code",
   "execution_count": 74,
   "id": "a1970b1c",
   "metadata": {},
   "outputs": [
    {
     "name": "stdout",
     "output_type": "stream",
     "text": [
      "['__IPYTHON__', '__build_class__', '__debug__', '__doc__', '__import__', '__loader__', '__name__', '__package__', '__spec__']\n"
     ]
    }
   ],
   "source": [
    "l1=dir(__builtins__)\n",
    "l2= [i for i in l1 if i.startswith('_')]\n",
    "print(l2)"
   ]
  },
  {
   "cell_type": "code",
   "execution_count": 75,
   "id": "dfba1d11",
   "metadata": {},
   "outputs": [
    {
     "ename": "TypeError",
     "evalue": "startswith() takes at least 1 argument (0 given)",
     "output_type": "error",
     "traceback": [
      "\u001b[0;31m---------------------------------------------------------------------------\u001b[0m",
      "\u001b[0;31mTypeError\u001b[0m                                 Traceback (most recent call last)",
      "\u001b[0;32m/tmp/ipykernel_27187/2814026920.py\u001b[0m in \u001b[0;36m<module>\u001b[0;34m\u001b[0m\n\u001b[0;32m----> 1\u001b[0;31m \u001b[0ml3\u001b[0m\u001b[0;34m=\u001b[0m\u001b[0mfilter\u001b[0m\u001b[0;34m(\u001b[0m\u001b[0mstr\u001b[0m\u001b[0;34m.\u001b[0m\u001b[0mstartswith\u001b[0m\u001b[0;34m(\u001b[0m\u001b[0;34m'_'\u001b[0m\u001b[0;34m)\u001b[0m\u001b[0;34m,\u001b[0m\u001b[0ml1\u001b[0m\u001b[0;34m)\u001b[0m\u001b[0;34m\u001b[0m\u001b[0;34m\u001b[0m\u001b[0m\n\u001b[0m\u001b[1;32m      2\u001b[0m \u001b[0mprint\u001b[0m\u001b[0;34m(\u001b[0m\u001b[0mlist\u001b[0m\u001b[0;34m(\u001b[0m\u001b[0ml3\u001b[0m\u001b[0;34m)\u001b[0m\u001b[0;34m)\u001b[0m\u001b[0;34m\u001b[0m\u001b[0;34m\u001b[0m\u001b[0m\n",
      "\u001b[0;31mTypeError\u001b[0m: startswith() takes at least 1 argument (0 given)"
     ]
    }
   ],
   "source": [
    "l3=filter(str.startswith('_'),l1)\n",
    "print(list(l3))"
   ]
  },
  {
   "cell_type": "code",
   "execution_count": 76,
   "id": "667f6e30",
   "metadata": {},
   "outputs": [
    {
     "data": {
      "text/plain": [
       "[(0, 'H'),\n",
       " (1, 'e'),\n",
       " (2, 'l'),\n",
       " (3, 'l'),\n",
       " (4, 'o'),\n",
       " (5, ' '),\n",
       " (6, 'P'),\n",
       " (7, 'y'),\n",
       " (8, 't'),\n",
       " (9, 'h'),\n",
       " (10, 'o'),\n",
       " (11, 'n')]"
      ]
     },
     "execution_count": 76,
     "metadata": {},
     "output_type": "execute_result"
    }
   ],
   "source": [
    "str1=\"Hello Python\"\n",
    "list(enumerate(str1)) # index and item of index"
   ]
  },
  {
   "cell_type": "code",
   "execution_count": 78,
   "id": "641a72f6",
   "metadata": {},
   "outputs": [],
   "source": [
    "import math\n",
    "import math\n",
    "for i in range(1000):\n",
    "    import math"
   ]
  },
  {
   "cell_type": "code",
   "execution_count": 79,
   "id": "db4e9be5",
   "metadata": {},
   "outputs": [
    {
     "data": {
      "text/plain": [
       "{'__name__': '__main__',\n",
       " '__doc__': 'Automatically created module for IPython interactive environment',\n",
       " '__package__': None,\n",
       " '__loader__': None,\n",
       " '__spec__': None,\n",
       " '__builtin__': <module 'builtins' (built-in)>,\n",
       " '__builtins__': <module 'builtins' (built-in)>,\n",
       " '_ih': ['',\n",
       "  'print(\"This line prints\")\\nprint(\"This aswell\")\\nprint(\"Hi {}\".format(name))\\nprint(\"Will this be printed\")\\nprint(\"End of program\".center(80,\\'*\\'))',\n",
       "  'print(\"This line prints\")\\nprint(\"This aswell\")\\nprint(\"Hi {}\".format(name)) # Gives NameError exception.\\nprint(\"Will this be printed\")\\nprint(\"End of program\".center(80,\\'*\\'))',\n",
       "  'print(\"This line prints\")\\nprint(\"This aswell\")\\n# print(\"Hi {}\".format(name)) # Gives NameError exception.\\nprint(\"Will this be printed\")\\nprint(\"End of program\".center(80,\\'*\\'))',\n",
       "  'l=[1,2,3]\\nprint(\"This line prints\")\\nprint(\"This aswell\")\\n# print(\"Hi {}\".format(name)) # Gives NameError exception.\\nprint(\"Hi {}\".format(l[5]))\\nprint(\"Will this be printed\")\\nprint(\"End of program\".center(80,\\'*\\'))',\n",
       "  'l=[1,2,3]\\nprint(\"This line prints\")\\nprint(\"This aswell\")\\n# print(\"Hi {}\".format(name)) # Gives NameError exception.\\n# print(\"Hi {}\".format(l[5])) # Gives IndexError exception\\nprint(\"Will this be printed\")\\nprint(\"End of program\".center(80,\\'*\\'))',\n",
       "  'l=[1,2,3]\\nprint(\"This line prints\")\\nprint(\"This aswell\")\\n# print(\"Hi {}\".format(name)) # Gives NameError exception.\\n# print(\"Hi {}\".format(l[5])) # Gives IndexError exception\\nprint(\"Will this be printed\")\\nprint(\"End of program\".center(80,\\'*\\'))',\n",
       "  'try:\\n    1/0\\nexcept Exception:\\n    print(\"Error\")',\n",
       "  'try:\\n    1/2\\nexcept Exception:\\n    print(\"Error\")',\n",
       "  'try:\\n    1/0\\nexcept Exception:\\n    print(\"Error\")',\n",
       "  'try:\\n    1/0\\nexcept Exception as e :\\n    print(e)',\n",
       "  'help(except)',\n",
       "  'help(repr())',\n",
       "  'help(repr)',\n",
       "  'try:\\n    1/0\\nexcept Exception as e :\\n    print(repr(e))',\n",
       "  \"try:\\n    1/0\\nexcept Exception as e :\\n#     print(e) # prints division by zero\\n    print(repr(e)) # prints ZeroDivisionError('division by zero')\",\n",
       "  'try:',\n",
       "  'try:\\n    print(n)\\nexcept Exception e:\\n    print(repr(e))\\nfinally:\\n    print(\"Codes under finally block will always be executed\")',\n",
       "  'try:\\n    print(n)\\nexcept Exception as e:\\n    print(repr(e))\\nfinally:\\n    print(\"Codes under finally block will always be executed\")',\n",
       "  'try:\\n    print(n)\\n    print(\"Gooddu Morning\")\\nexcept Exception as e:\\n    print(repr(e))\\nfinally:\\n    print(\"Codes under finally block will always be executed\")',\n",
       "  'try:\\n    print(n)\\n    print(\"Good Morning\")\\nexcept Exception as e:\\n    print(repr(e))\\nfinally:\\n    print(\"Codes under finally block will always be executed\")',\n",
       "  'print(dir(Exception))',\n",
       "  'help(Exception)',\n",
       "  'help(Error)',\n",
       "  'help(error)',\n",
       "  'isubclass',\n",
       "  'issubclass',\n",
       "  'issubclass(int,float)',\n",
       "  'issubclass(int,object)',\n",
       "  'issubclass(dict,object)',\n",
       "  'issubclass(object,object)',\n",
       "  'issubclass(str,object)',\n",
       "  'issubclass(int,object)',\n",
       "  'issubclass(Exception,object)',\n",
       "  'help(issubclass)',\n",
       "  'help( BaseException)',\n",
       "  'issubclass(Exception, BaseException)',\n",
       "  'help(Exception)\\ndir(Exception)',\n",
       "  'help(Exception)',\n",
       "  'print(1+\"Josh\")',\n",
       "  'try:\\n    print(1/0)\\n    print(n)\\n    print(1+\"Josh\")\\nexcept BaseException as be:\\n    print(repr(be))',\n",
       "  'try:\\n    # print(1/0)\\n    print(n)\\n    print(1+\"Josh\")\\nexcept BaseException as be:\\n    print(repr(be))',\n",
       "  'try:\\n    # print(1/0)\\n    # print(n)\\n    print(1+\"Josh\")\\nexcept BaseException as be:\\n    print(repr(be))',\n",
       "  'issubclass(Exception, BaseException)',\n",
       "  'print(dir(__builtins__))',\n",
       "  'try:\\n    print(n\\nexcept Exception as e:\\n    print(repr(e))',\n",
       "  'try:\\n    print(n)\\nexcept Exception as e:\\n    print(repr(e))',\n",
       "  'try:\\n    print(n\\nexcept Exception as e:\\n    print(repr(e))',\n",
       "  'try:\\n    print(n)\\nexcept Exception as e:\\n    print(repr(e))',\n",
       "  'try:\\n    print(\"Jos)\\nexcept Exception as e:\\n    print(repr(e))',\n",
       "  'Exception.__subclasses__',\n",
       "  'print(Exception.__subclasses__)',\n",
       "  'print(Exception.__subclasses__())',\n",
       "  'len(print(Exception.__subclasses__()))',\n",
       "  'len(Exception.__subclasses__())',\n",
       "  'BaseException.__subclasses__()',\n",
       "  'a,b=10,0\\nprint(\"Values of a and b are {} ,{} resp\".format(a,b))\\ntry:\\n    a/b\\nexcept BaseException as be:\\n    print(repr(be))\\nfinally:\\n    print(\"End of program\")',\n",
       "  'a,b=10,0\\nprint(\"Values of a and b are {} ,{} resp\".format(a,b))\\ntry:\\n    a/b\\nexcept BaseException as be:\\n    print(repr(be))\\nfinally:\\n    print(\"End of program\".center(80,\\'*\\'))',\n",
       "  'def f1():\\n    print(\"In f1\")\\n    f2()\\n    def f2():\\n        print(\"In f2\")\\n        f3()\\n    def f3():\\n        print(\"In f3\")\\n        print(\"End of program\".center(80,\\'*\\'))',\n",
       "  'def f1():\\n    print(\"In f1\")\\n    f2()\\n    def f2():\\n        print(\"In f2\")\\n        f3()\\n    def f3():\\n        print(\"In f3\")\\n        print(\"End of program\".center(80,\\'*\\'))\\nf1()',\n",
       "  'def f1():\\n    print(\"In f1\")\\n    f2()\\n    def f2():\\n        print(\"In f2\")\\n    f3()\\n    def f3():\\n        print(\"In f3\")\\n        print(\"End of program\".center(80,\\'*\\'))\\nf1()',\n",
       "  'def f1():\\n    print(\"In f1\")\\n    f2()\\ndef f2():\\n    print(\"In f2\")\\n    f3()\\ndef f3():\\n    print(\"In f3\")\\n    print(\"End of program\".center(80,\\'*\\'))\\nf1()',\n",
       "  'def f1():\\n    print(\"In f1\")\\n    f2()\\ndef f2():\\n    print(\"In f2\")\\n    f3()\\ndef f3():\\n    print(\"In f3\")\\n    raise IndexError\\n    print(\"End of program\".center(80,\\'*\\'))\\nf1()',\n",
       "  'def f1():\\n    print(\"In f1\")\\n    f2()\\ndef f2():\\n    print(\"In f2\")\\n    f3()\\ndef f3():\\n    print(\"In f3\")\\n    raise IndexError(\"\"Only integers are allowed\"\")\\n    print(\"End of program\".center(80,\\'*\\'))\\nf1()',\n",
       "  'def f1():\\n    print(\"In f1\")\\n    f2()\\ndef f2():\\n    print(\"In f2\")\\n    f3()\\ndef f3():\\n    print(\"In f3\")\\n    raise IndexError(\"Only integers are allowed\")\\n    print(\"End of program\".center(80,\\'*\\'))\\nf1()',\n",
       "  'def f1():\\n    print(\"In f1\")\\n    f2()\\ndef f2():\\n    print(\"In f2\")\\n    f3()\\ndef f3():\\n    try:\\n        print(\"In f3\")\\n        raise IndexError(\"Only integers are allowed\")\\n        print(\"End of program\".center(80,\\'*\\'))\\'\\n    except Exception as e:\\n        print(repr(e))\\nf1()',\n",
       "  'def f1():\\n    print(\"In f1\")\\n    f2()\\ndef f2():\\n    print(\"In f2\")\\n    f3()\\ndef f3():\\n    try:\\n        print(\"In f3\")\\n        raise IndexError(\"Only integers are allowed\")\\n        print(\"End of program\".center(80,\\'*\\'))\\n    except Exception as e:\\n        print(repr(e))\\nf1()',\n",
       "  'def f1():\\n    print(\"In f1\")\\n    f2()\\ndef f2():\\n    print(\"In f2\")\\n    f3()\\ndef f3():\\n    try:\\n        print(\"In f3\")\\n        raise IndexError\\n        print(\"End of program\".center(80,\\'*\\'))\\n    except Exception as e:\\n        print(repr(e))\\nf1()',\n",
       "  'def f1():\\n    print(\"In f1\")\\n    f2()\\ndef f2():\\n    print(\"In f2\")\\n    f3()\\ndef f3():\\n    try:\\n        print(\"In f3\")\\n        raise IndexError\\n        print(\"End of program\".center(80,\\'*\\'))\\n    except Exception as e:\\n        print((e))\\nf1()',\n",
       "  'def f1():\\n    print(\"In f1\")\\n    f2()\\ndef f2():\\n    print(\"In f2\")\\n    f3()\\ndef f3():\\n    try:\\n        print(\"In f3\")\\n        raise IndexError\\n        print(\"End of program\".center(80,\\'*\\'))\\n    except Exception as e:\\n        print(repr(e))\\nf1()',\n",
       "  'def f1():\\n    print(\"In f1\")\\n    f2()\\ndef f2():\\n    print(\"In f2\")\\n    f3()\\ndef f3():\\n    try:\\n        print(\"In f3\")\\n        raise IndexError(\"Only integers allowed\")\\n        print(\"End of program\".center(80,\\'*\\'))\\n    except Exception as e:\\n        print(repr(e))\\nf1()',\n",
       "  \"try:\\n    1/0\\nexcept Exception as e :\\n    print(e) # prints division by zero\\n    # print(repr(e)) # prints ZeroDivisionError('division by zero')\",\n",
       "  \"def show():\\n    l1=dir(__builtins__)\\n    l2=[]\\n    for i in l1:\\n        if i.startswith('_'):\\n            l2.append(i)\\n    print(l2)\\nshow()\",\n",
       "  'help(filter)',\n",
       "  \"l1=dir(__builtins__)\\nl2= [i for i in l1 if i.startswith('_')]\\nprint(l2)\",\n",
       "  \"l3=filter(str.startswith('_'),l1)\\nprint(list(l3))\",\n",
       "  'str1=\"Hello Python\"\\nlist(enumerate(str1))',\n",
       "  'import math\\nimport math\\nfor i in range(1000);',\n",
       "  'import math\\nimport math\\nfor i in range(1000):\\n    import math',\n",
       "  'globals()'],\n",
       " '_oh': {26: <function issubclass(cls, class_or_tuple, /)>,\n",
       "  27: False,\n",
       "  28: True,\n",
       "  29: True,\n",
       "  30: True,\n",
       "  31: True,\n",
       "  32: True,\n",
       "  33: True,\n",
       "  36: True,\n",
       "  37: ['__cause__',\n",
       "   '__class__',\n",
       "   '__context__',\n",
       "   '__delattr__',\n",
       "   '__dict__',\n",
       "   '__dir__',\n",
       "   '__doc__',\n",
       "   '__eq__',\n",
       "   '__format__',\n",
       "   '__ge__',\n",
       "   '__getattribute__',\n",
       "   '__gt__',\n",
       "   '__hash__',\n",
       "   '__init__',\n",
       "   '__init_subclass__',\n",
       "   '__le__',\n",
       "   '__lt__',\n",
       "   '__ne__',\n",
       "   '__new__',\n",
       "   '__reduce__',\n",
       "   '__reduce_ex__',\n",
       "   '__repr__',\n",
       "   '__setattr__',\n",
       "   '__setstate__',\n",
       "   '__sizeof__',\n",
       "   '__str__',\n",
       "   '__subclasshook__',\n",
       "   '__suppress_context__',\n",
       "   '__traceback__',\n",
       "   'args',\n",
       "   'with_traceback'],\n",
       "  43: True,\n",
       "  50: <function Exception.__subclasses__()>,\n",
       "  54: 118,\n",
       "  55: [Exception,\n",
       "   GeneratorExit,\n",
       "   SystemExit,\n",
       "   KeyboardInterrupt,\n",
       "   _pydev_imps._pydev_saved_modules.DebuggerInitializationError,\n",
       "   pkg_resources._vendor.more_itertools.more.AbortThread],\n",
       "  76: [(0, 'H'),\n",
       "   (1, 'e'),\n",
       "   (2, 'l'),\n",
       "   (3, 'l'),\n",
       "   (4, 'o'),\n",
       "   (5, ' '),\n",
       "   (6, 'P'),\n",
       "   (7, 'y'),\n",
       "   (8, 't'),\n",
       "   (9, 'h'),\n",
       "   (10, 'o'),\n",
       "   (11, 'n')]},\n",
       " '_dh': ['/home/unnathi/perfios-bootcamp/PythonPractice/Day3'],\n",
       " 'In': ['',\n",
       "  'print(\"This line prints\")\\nprint(\"This aswell\")\\nprint(\"Hi {}\".format(name))\\nprint(\"Will this be printed\")\\nprint(\"End of program\".center(80,\\'*\\'))',\n",
       "  'print(\"This line prints\")\\nprint(\"This aswell\")\\nprint(\"Hi {}\".format(name)) # Gives NameError exception.\\nprint(\"Will this be printed\")\\nprint(\"End of program\".center(80,\\'*\\'))',\n",
       "  'print(\"This line prints\")\\nprint(\"This aswell\")\\n# print(\"Hi {}\".format(name)) # Gives NameError exception.\\nprint(\"Will this be printed\")\\nprint(\"End of program\".center(80,\\'*\\'))',\n",
       "  'l=[1,2,3]\\nprint(\"This line prints\")\\nprint(\"This aswell\")\\n# print(\"Hi {}\".format(name)) # Gives NameError exception.\\nprint(\"Hi {}\".format(l[5]))\\nprint(\"Will this be printed\")\\nprint(\"End of program\".center(80,\\'*\\'))',\n",
       "  'l=[1,2,3]\\nprint(\"This line prints\")\\nprint(\"This aswell\")\\n# print(\"Hi {}\".format(name)) # Gives NameError exception.\\n# print(\"Hi {}\".format(l[5])) # Gives IndexError exception\\nprint(\"Will this be printed\")\\nprint(\"End of program\".center(80,\\'*\\'))',\n",
       "  'l=[1,2,3]\\nprint(\"This line prints\")\\nprint(\"This aswell\")\\n# print(\"Hi {}\".format(name)) # Gives NameError exception.\\n# print(\"Hi {}\".format(l[5])) # Gives IndexError exception\\nprint(\"Will this be printed\")\\nprint(\"End of program\".center(80,\\'*\\'))',\n",
       "  'try:\\n    1/0\\nexcept Exception:\\n    print(\"Error\")',\n",
       "  'try:\\n    1/2\\nexcept Exception:\\n    print(\"Error\")',\n",
       "  'try:\\n    1/0\\nexcept Exception:\\n    print(\"Error\")',\n",
       "  'try:\\n    1/0\\nexcept Exception as e :\\n    print(e)',\n",
       "  'help(except)',\n",
       "  'help(repr())',\n",
       "  'help(repr)',\n",
       "  'try:\\n    1/0\\nexcept Exception as e :\\n    print(repr(e))',\n",
       "  \"try:\\n    1/0\\nexcept Exception as e :\\n#     print(e) # prints division by zero\\n    print(repr(e)) # prints ZeroDivisionError('division by zero')\",\n",
       "  'try:',\n",
       "  'try:\\n    print(n)\\nexcept Exception e:\\n    print(repr(e))\\nfinally:\\n    print(\"Codes under finally block will always be executed\")',\n",
       "  'try:\\n    print(n)\\nexcept Exception as e:\\n    print(repr(e))\\nfinally:\\n    print(\"Codes under finally block will always be executed\")',\n",
       "  'try:\\n    print(n)\\n    print(\"Gooddu Morning\")\\nexcept Exception as e:\\n    print(repr(e))\\nfinally:\\n    print(\"Codes under finally block will always be executed\")',\n",
       "  'try:\\n    print(n)\\n    print(\"Good Morning\")\\nexcept Exception as e:\\n    print(repr(e))\\nfinally:\\n    print(\"Codes under finally block will always be executed\")',\n",
       "  'print(dir(Exception))',\n",
       "  'help(Exception)',\n",
       "  'help(Error)',\n",
       "  'help(error)',\n",
       "  'isubclass',\n",
       "  'issubclass',\n",
       "  'issubclass(int,float)',\n",
       "  'issubclass(int,object)',\n",
       "  'issubclass(dict,object)',\n",
       "  'issubclass(object,object)',\n",
       "  'issubclass(str,object)',\n",
       "  'issubclass(int,object)',\n",
       "  'issubclass(Exception,object)',\n",
       "  'help(issubclass)',\n",
       "  'help( BaseException)',\n",
       "  'issubclass(Exception, BaseException)',\n",
       "  'help(Exception)\\ndir(Exception)',\n",
       "  'help(Exception)',\n",
       "  'print(1+\"Josh\")',\n",
       "  'try:\\n    print(1/0)\\n    print(n)\\n    print(1+\"Josh\")\\nexcept BaseException as be:\\n    print(repr(be))',\n",
       "  'try:\\n    # print(1/0)\\n    print(n)\\n    print(1+\"Josh\")\\nexcept BaseException as be:\\n    print(repr(be))',\n",
       "  'try:\\n    # print(1/0)\\n    # print(n)\\n    print(1+\"Josh\")\\nexcept BaseException as be:\\n    print(repr(be))',\n",
       "  'issubclass(Exception, BaseException)',\n",
       "  'print(dir(__builtins__))',\n",
       "  'try:\\n    print(n\\nexcept Exception as e:\\n    print(repr(e))',\n",
       "  'try:\\n    print(n)\\nexcept Exception as e:\\n    print(repr(e))',\n",
       "  'try:\\n    print(n\\nexcept Exception as e:\\n    print(repr(e))',\n",
       "  'try:\\n    print(n)\\nexcept Exception as e:\\n    print(repr(e))',\n",
       "  'try:\\n    print(\"Jos)\\nexcept Exception as e:\\n    print(repr(e))',\n",
       "  'Exception.__subclasses__',\n",
       "  'print(Exception.__subclasses__)',\n",
       "  'print(Exception.__subclasses__())',\n",
       "  'len(print(Exception.__subclasses__()))',\n",
       "  'len(Exception.__subclasses__())',\n",
       "  'BaseException.__subclasses__()',\n",
       "  'a,b=10,0\\nprint(\"Values of a and b are {} ,{} resp\".format(a,b))\\ntry:\\n    a/b\\nexcept BaseException as be:\\n    print(repr(be))\\nfinally:\\n    print(\"End of program\")',\n",
       "  'a,b=10,0\\nprint(\"Values of a and b are {} ,{} resp\".format(a,b))\\ntry:\\n    a/b\\nexcept BaseException as be:\\n    print(repr(be))\\nfinally:\\n    print(\"End of program\".center(80,\\'*\\'))',\n",
       "  'def f1():\\n    print(\"In f1\")\\n    f2()\\n    def f2():\\n        print(\"In f2\")\\n        f3()\\n    def f3():\\n        print(\"In f3\")\\n        print(\"End of program\".center(80,\\'*\\'))',\n",
       "  'def f1():\\n    print(\"In f1\")\\n    f2()\\n    def f2():\\n        print(\"In f2\")\\n        f3()\\n    def f3():\\n        print(\"In f3\")\\n        print(\"End of program\".center(80,\\'*\\'))\\nf1()',\n",
       "  'def f1():\\n    print(\"In f1\")\\n    f2()\\n    def f2():\\n        print(\"In f2\")\\n    f3()\\n    def f3():\\n        print(\"In f3\")\\n        print(\"End of program\".center(80,\\'*\\'))\\nf1()',\n",
       "  'def f1():\\n    print(\"In f1\")\\n    f2()\\ndef f2():\\n    print(\"In f2\")\\n    f3()\\ndef f3():\\n    print(\"In f3\")\\n    print(\"End of program\".center(80,\\'*\\'))\\nf1()',\n",
       "  'def f1():\\n    print(\"In f1\")\\n    f2()\\ndef f2():\\n    print(\"In f2\")\\n    f3()\\ndef f3():\\n    print(\"In f3\")\\n    raise IndexError\\n    print(\"End of program\".center(80,\\'*\\'))\\nf1()',\n",
       "  'def f1():\\n    print(\"In f1\")\\n    f2()\\ndef f2():\\n    print(\"In f2\")\\n    f3()\\ndef f3():\\n    print(\"In f3\")\\n    raise IndexError(\"\"Only integers are allowed\"\")\\n    print(\"End of program\".center(80,\\'*\\'))\\nf1()',\n",
       "  'def f1():\\n    print(\"In f1\")\\n    f2()\\ndef f2():\\n    print(\"In f2\")\\n    f3()\\ndef f3():\\n    print(\"In f3\")\\n    raise IndexError(\"Only integers are allowed\")\\n    print(\"End of program\".center(80,\\'*\\'))\\nf1()',\n",
       "  'def f1():\\n    print(\"In f1\")\\n    f2()\\ndef f2():\\n    print(\"In f2\")\\n    f3()\\ndef f3():\\n    try:\\n        print(\"In f3\")\\n        raise IndexError(\"Only integers are allowed\")\\n        print(\"End of program\".center(80,\\'*\\'))\\'\\n    except Exception as e:\\n        print(repr(e))\\nf1()',\n",
       "  'def f1():\\n    print(\"In f1\")\\n    f2()\\ndef f2():\\n    print(\"In f2\")\\n    f3()\\ndef f3():\\n    try:\\n        print(\"In f3\")\\n        raise IndexError(\"Only integers are allowed\")\\n        print(\"End of program\".center(80,\\'*\\'))\\n    except Exception as e:\\n        print(repr(e))\\nf1()',\n",
       "  'def f1():\\n    print(\"In f1\")\\n    f2()\\ndef f2():\\n    print(\"In f2\")\\n    f3()\\ndef f3():\\n    try:\\n        print(\"In f3\")\\n        raise IndexError\\n        print(\"End of program\".center(80,\\'*\\'))\\n    except Exception as e:\\n        print(repr(e))\\nf1()',\n",
       "  'def f1():\\n    print(\"In f1\")\\n    f2()\\ndef f2():\\n    print(\"In f2\")\\n    f3()\\ndef f3():\\n    try:\\n        print(\"In f3\")\\n        raise IndexError\\n        print(\"End of program\".center(80,\\'*\\'))\\n    except Exception as e:\\n        print((e))\\nf1()',\n",
       "  'def f1():\\n    print(\"In f1\")\\n    f2()\\ndef f2():\\n    print(\"In f2\")\\n    f3()\\ndef f3():\\n    try:\\n        print(\"In f3\")\\n        raise IndexError\\n        print(\"End of program\".center(80,\\'*\\'))\\n    except Exception as e:\\n        print(repr(e))\\nf1()',\n",
       "  'def f1():\\n    print(\"In f1\")\\n    f2()\\ndef f2():\\n    print(\"In f2\")\\n    f3()\\ndef f3():\\n    try:\\n        print(\"In f3\")\\n        raise IndexError(\"Only integers allowed\")\\n        print(\"End of program\".center(80,\\'*\\'))\\n    except Exception as e:\\n        print(repr(e))\\nf1()',\n",
       "  \"try:\\n    1/0\\nexcept Exception as e :\\n    print(e) # prints division by zero\\n    # print(repr(e)) # prints ZeroDivisionError('division by zero')\",\n",
       "  \"def show():\\n    l1=dir(__builtins__)\\n    l2=[]\\n    for i in l1:\\n        if i.startswith('_'):\\n            l2.append(i)\\n    print(l2)\\nshow()\",\n",
       "  'help(filter)',\n",
       "  \"l1=dir(__builtins__)\\nl2= [i for i in l1 if i.startswith('_')]\\nprint(l2)\",\n",
       "  \"l3=filter(str.startswith('_'),l1)\\nprint(list(l3))\",\n",
       "  'str1=\"Hello Python\"\\nlist(enumerate(str1))',\n",
       "  'import math\\nimport math\\nfor i in range(1000);',\n",
       "  'import math\\nimport math\\nfor i in range(1000):\\n    import math',\n",
       "  'globals()'],\n",
       " 'Out': {26: <function issubclass(cls, class_or_tuple, /)>,\n",
       "  27: False,\n",
       "  28: True,\n",
       "  29: True,\n",
       "  30: True,\n",
       "  31: True,\n",
       "  32: True,\n",
       "  33: True,\n",
       "  36: True,\n",
       "  37: ['__cause__',\n",
       "   '__class__',\n",
       "   '__context__',\n",
       "   '__delattr__',\n",
       "   '__dict__',\n",
       "   '__dir__',\n",
       "   '__doc__',\n",
       "   '__eq__',\n",
       "   '__format__',\n",
       "   '__ge__',\n",
       "   '__getattribute__',\n",
       "   '__gt__',\n",
       "   '__hash__',\n",
       "   '__init__',\n",
       "   '__init_subclass__',\n",
       "   '__le__',\n",
       "   '__lt__',\n",
       "   '__ne__',\n",
       "   '__new__',\n",
       "   '__reduce__',\n",
       "   '__reduce_ex__',\n",
       "   '__repr__',\n",
       "   '__setattr__',\n",
       "   '__setstate__',\n",
       "   '__sizeof__',\n",
       "   '__str__',\n",
       "   '__subclasshook__',\n",
       "   '__suppress_context__',\n",
       "   '__traceback__',\n",
       "   'args',\n",
       "   'with_traceback'],\n",
       "  43: True,\n",
       "  50: <function Exception.__subclasses__()>,\n",
       "  54: 118,\n",
       "  55: [Exception,\n",
       "   GeneratorExit,\n",
       "   SystemExit,\n",
       "   KeyboardInterrupt,\n",
       "   _pydev_imps._pydev_saved_modules.DebuggerInitializationError,\n",
       "   pkg_resources._vendor.more_itertools.more.AbortThread],\n",
       "  76: [(0, 'H'),\n",
       "   (1, 'e'),\n",
       "   (2, 'l'),\n",
       "   (3, 'l'),\n",
       "   (4, 'o'),\n",
       "   (5, ' '),\n",
       "   (6, 'P'),\n",
       "   (7, 'y'),\n",
       "   (8, 't'),\n",
       "   (9, 'h'),\n",
       "   (10, 'o'),\n",
       "   (11, 'n')]},\n",
       " 'get_ipython': <bound method InteractiveShell.get_ipython of <ipykernel.zmqshell.ZMQInteractiveShell object at 0x7fd2b33f02d0>>,\n",
       " 'exit': <IPython.core.autocall.ZMQExitAutocall at 0x7fd2b3448e50>,\n",
       " 'quit': <IPython.core.autocall.ZMQExitAutocall at 0x7fd2b3448e50>,\n",
       " '_': [(0, 'H'),\n",
       "  (1, 'e'),\n",
       "  (2, 'l'),\n",
       "  (3, 'l'),\n",
       "  (4, 'o'),\n",
       "  (5, ' '),\n",
       "  (6, 'P'),\n",
       "  (7, 'y'),\n",
       "  (8, 't'),\n",
       "  (9, 'h'),\n",
       "  (10, 'o'),\n",
       "  (11, 'n')],\n",
       " '__': [Exception,\n",
       "  GeneratorExit,\n",
       "  SystemExit,\n",
       "  KeyboardInterrupt,\n",
       "  _pydev_imps._pydev_saved_modules.DebuggerInitializationError,\n",
       "  pkg_resources._vendor.more_itertools.more.AbortThread],\n",
       " '___': 118,\n",
       " '_i': 'import math\\nimport math\\nfor i in range(1000):\\n    import math',\n",
       " '_ii': 'import math\\nimport math\\nfor i in range(1000);',\n",
       " '_iii': 'str1=\"Hello Python\"\\nlist(enumerate(str1))',\n",
       " '_i1': 'print(\"This line prints\")\\nprint(\"This aswell\")\\nprint(\"Hi {}\".format(name))\\nprint(\"Will this be printed\")\\nprint(\"End of program\".center(80,\\'*\\'))',\n",
       " '_i2': 'print(\"This line prints\")\\nprint(\"This aswell\")\\nprint(\"Hi {}\".format(name)) # Gives NameError exception.\\nprint(\"Will this be printed\")\\nprint(\"End of program\".center(80,\\'*\\'))',\n",
       " '_i3': 'print(\"This line prints\")\\nprint(\"This aswell\")\\n# print(\"Hi {}\".format(name)) # Gives NameError exception.\\nprint(\"Will this be printed\")\\nprint(\"End of program\".center(80,\\'*\\'))',\n",
       " '_i4': 'l=[1,2,3]\\nprint(\"This line prints\")\\nprint(\"This aswell\")\\n# print(\"Hi {}\".format(name)) # Gives NameError exception.\\nprint(\"Hi {}\".format(l[5]))\\nprint(\"Will this be printed\")\\nprint(\"End of program\".center(80,\\'*\\'))',\n",
       " 'l': [1, 2, 3],\n",
       " '_i5': 'l=[1,2,3]\\nprint(\"This line prints\")\\nprint(\"This aswell\")\\n# print(\"Hi {}\".format(name)) # Gives NameError exception.\\n# print(\"Hi {}\".format(l[5])) # Gives IndexError exception\\nprint(\"Will this be printed\")\\nprint(\"End of program\".center(80,\\'*\\'))',\n",
       " '_i6': 'l=[1,2,3]\\nprint(\"This line prints\")\\nprint(\"This aswell\")\\n# print(\"Hi {}\".format(name)) # Gives NameError exception.\\n# print(\"Hi {}\".format(l[5])) # Gives IndexError exception\\nprint(\"Will this be printed\")\\nprint(\"End of program\".center(80,\\'*\\'))',\n",
       " '_i7': 'try:\\n    1/0\\nexcept Exception:\\n    print(\"Error\")',\n",
       " '_i8': 'try:\\n    1/2\\nexcept Exception:\\n    print(\"Error\")',\n",
       " '_i9': 'try:\\n    1/0\\nexcept Exception:\\n    print(\"Error\")',\n",
       " '_i10': 'try:\\n    1/0\\nexcept Exception as e :\\n    print(e)',\n",
       " '_i11': 'help(except)',\n",
       " '_i12': 'help(repr())',\n",
       " '_i13': 'help(repr)',\n",
       " '_i14': 'try:\\n    1/0\\nexcept Exception as e :\\n    print(repr(e))',\n",
       " '_i15': \"try:\\n    1/0\\nexcept Exception as e :\\n#     print(e) # prints division by zero\\n    print(repr(e)) # prints ZeroDivisionError('division by zero')\",\n",
       " '_i16': 'try:',\n",
       " '_i17': 'try:\\n    print(n)\\nexcept Exception e:\\n    print(repr(e))\\nfinally:\\n    print(\"Codes under finally block will always be executed\")',\n",
       " '_i18': 'try:\\n    print(n)\\nexcept Exception as e:\\n    print(repr(e))\\nfinally:\\n    print(\"Codes under finally block will always be executed\")',\n",
       " '_i19': 'try:\\n    print(n)\\n    print(\"Gooddu Morning\")\\nexcept Exception as e:\\n    print(repr(e))\\nfinally:\\n    print(\"Codes under finally block will always be executed\")',\n",
       " '_i20': 'try:\\n    print(n)\\n    print(\"Good Morning\")\\nexcept Exception as e:\\n    print(repr(e))\\nfinally:\\n    print(\"Codes under finally block will always be executed\")',\n",
       " '_i21': 'print(dir(Exception))',\n",
       " '_i22': 'help(Exception)',\n",
       " '_i23': 'help(Error)',\n",
       " '_i24': 'help(error)',\n",
       " '_i25': 'isubclass',\n",
       " '_i26': 'issubclass',\n",
       " '_26': <function issubclass(cls, class_or_tuple, /)>,\n",
       " '_i27': 'issubclass(int,float)',\n",
       " '_27': False,\n",
       " '_i28': 'issubclass(int,object)',\n",
       " '_28': True,\n",
       " '_i29': 'issubclass(dict,object)',\n",
       " '_29': True,\n",
       " '_i30': 'issubclass(object,object)',\n",
       " '_30': True,\n",
       " '_i31': 'issubclass(str,object)',\n",
       " '_31': True,\n",
       " '_i32': 'issubclass(int,object)',\n",
       " '_32': True,\n",
       " '_i33': 'issubclass(Exception,object)',\n",
       " '_33': True,\n",
       " '_i34': 'help(issubclass)',\n",
       " '_i35': 'help( BaseException)',\n",
       " '_i36': 'issubclass(Exception, BaseException)',\n",
       " '_36': True,\n",
       " '_i37': 'help(Exception)\\ndir(Exception)',\n",
       " '_37': ['__cause__',\n",
       "  '__class__',\n",
       "  '__context__',\n",
       "  '__delattr__',\n",
       "  '__dict__',\n",
       "  '__dir__',\n",
       "  '__doc__',\n",
       "  '__eq__',\n",
       "  '__format__',\n",
       "  '__ge__',\n",
       "  '__getattribute__',\n",
       "  '__gt__',\n",
       "  '__hash__',\n",
       "  '__init__',\n",
       "  '__init_subclass__',\n",
       "  '__le__',\n",
       "  '__lt__',\n",
       "  '__ne__',\n",
       "  '__new__',\n",
       "  '__reduce__',\n",
       "  '__reduce_ex__',\n",
       "  '__repr__',\n",
       "  '__setattr__',\n",
       "  '__setstate__',\n",
       "  '__sizeof__',\n",
       "  '__str__',\n",
       "  '__subclasshook__',\n",
       "  '__suppress_context__',\n",
       "  '__traceback__',\n",
       "  'args',\n",
       "  'with_traceback'],\n",
       " '_i38': 'help(Exception)',\n",
       " '_i39': 'print(1+\"Josh\")',\n",
       " '_i40': 'try:\\n    print(1/0)\\n    print(n)\\n    print(1+\"Josh\")\\nexcept BaseException as be:\\n    print(repr(be))',\n",
       " '_i41': 'try:\\n    # print(1/0)\\n    print(n)\\n    print(1+\"Josh\")\\nexcept BaseException as be:\\n    print(repr(be))',\n",
       " '_i42': 'try:\\n    # print(1/0)\\n    # print(n)\\n    print(1+\"Josh\")\\nexcept BaseException as be:\\n    print(repr(be))',\n",
       " '_i43': 'issubclass(Exception, BaseException)',\n",
       " '_43': True,\n",
       " '_i44': 'print(dir(__builtins__))',\n",
       " '_i45': 'try:\\n    print(n\\nexcept Exception as e:\\n    print(repr(e))',\n",
       " '_i46': 'try:\\n    print(n)\\nexcept Exception as e:\\n    print(repr(e))',\n",
       " '_i47': 'try:\\n    print(n\\nexcept Exception as e:\\n    print(repr(e))',\n",
       " '_i48': 'try:\\n    print(n)\\nexcept Exception as e:\\n    print(repr(e))',\n",
       " '_i49': 'try:\\n    print(\"Jos)\\nexcept Exception as e:\\n    print(repr(e))',\n",
       " '_i50': 'Exception.__subclasses__',\n",
       " '_50': <function Exception.__subclasses__()>,\n",
       " '_i51': 'print(Exception.__subclasses__)',\n",
       " '_i52': 'print(Exception.__subclasses__())',\n",
       " '_i53': 'len(print(Exception.__subclasses__()))',\n",
       " '_i54': 'len(Exception.__subclasses__())',\n",
       " '_54': 118,\n",
       " '_i55': 'BaseException.__subclasses__()',\n",
       " '_55': [Exception,\n",
       "  GeneratorExit,\n",
       "  SystemExit,\n",
       "  KeyboardInterrupt,\n",
       "  _pydev_imps._pydev_saved_modules.DebuggerInitializationError,\n",
       "  pkg_resources._vendor.more_itertools.more.AbortThread],\n",
       " '_i56': 'a,b=10,0\\nprint(\"Values of a and b are {} ,{} resp\".format(a,b))\\ntry:\\n    a/b\\nexcept BaseException as be:\\n    print(repr(be))\\nfinally:\\n    print(\"End of program\")',\n",
       " 'a': 10,\n",
       " 'b': 0,\n",
       " '_i57': 'a,b=10,0\\nprint(\"Values of a and b are {} ,{} resp\".format(a,b))\\ntry:\\n    a/b\\nexcept BaseException as be:\\n    print(repr(be))\\nfinally:\\n    print(\"End of program\".center(80,\\'*\\'))',\n",
       " '_i58': 'def f1():\\n    print(\"In f1\")\\n    f2()\\n    def f2():\\n        print(\"In f2\")\\n        f3()\\n    def f3():\\n        print(\"In f3\")\\n        print(\"End of program\".center(80,\\'*\\'))',\n",
       " 'f1': <function __main__.f1()>,\n",
       " '_i59': 'def f1():\\n    print(\"In f1\")\\n    f2()\\n    def f2():\\n        print(\"In f2\")\\n        f3()\\n    def f3():\\n        print(\"In f3\")\\n        print(\"End of program\".center(80,\\'*\\'))\\nf1()',\n",
       " '_i60': 'def f1():\\n    print(\"In f1\")\\n    f2()\\n    def f2():\\n        print(\"In f2\")\\n    f3()\\n    def f3():\\n        print(\"In f3\")\\n        print(\"End of program\".center(80,\\'*\\'))\\nf1()',\n",
       " '_i61': 'def f1():\\n    print(\"In f1\")\\n    f2()\\ndef f2():\\n    print(\"In f2\")\\n    f3()\\ndef f3():\\n    print(\"In f3\")\\n    print(\"End of program\".center(80,\\'*\\'))\\nf1()',\n",
       " 'f2': <function __main__.f2()>,\n",
       " 'f3': <function __main__.f3()>,\n",
       " '_i62': 'def f1():\\n    print(\"In f1\")\\n    f2()\\ndef f2():\\n    print(\"In f2\")\\n    f3()\\ndef f3():\\n    print(\"In f3\")\\n    raise IndexError\\n    print(\"End of program\".center(80,\\'*\\'))\\nf1()',\n",
       " '_i63': 'def f1():\\n    print(\"In f1\")\\n    f2()\\ndef f2():\\n    print(\"In f2\")\\n    f3()\\ndef f3():\\n    print(\"In f3\")\\n    raise IndexError(\"\"Only integers are allowed\"\")\\n    print(\"End of program\".center(80,\\'*\\'))\\nf1()',\n",
       " '_i64': 'def f1():\\n    print(\"In f1\")\\n    f2()\\ndef f2():\\n    print(\"In f2\")\\n    f3()\\ndef f3():\\n    print(\"In f3\")\\n    raise IndexError(\"Only integers are allowed\")\\n    print(\"End of program\".center(80,\\'*\\'))\\nf1()',\n",
       " '_i65': 'def f1():\\n    print(\"In f1\")\\n    f2()\\ndef f2():\\n    print(\"In f2\")\\n    f3()\\ndef f3():\\n    try:\\n        print(\"In f3\")\\n        raise IndexError(\"Only integers are allowed\")\\n        print(\"End of program\".center(80,\\'*\\'))\\'\\n    except Exception as e:\\n        print(repr(e))\\nf1()',\n",
       " '_i66': 'def f1():\\n    print(\"In f1\")\\n    f2()\\ndef f2():\\n    print(\"In f2\")\\n    f3()\\ndef f3():\\n    try:\\n        print(\"In f3\")\\n        raise IndexError(\"Only integers are allowed\")\\n        print(\"End of program\".center(80,\\'*\\'))\\n    except Exception as e:\\n        print(repr(e))\\nf1()',\n",
       " '_i67': 'def f1():\\n    print(\"In f1\")\\n    f2()\\ndef f2():\\n    print(\"In f2\")\\n    f3()\\ndef f3():\\n    try:\\n        print(\"In f3\")\\n        raise IndexError\\n        print(\"End of program\".center(80,\\'*\\'))\\n    except Exception as e:\\n        print(repr(e))\\nf1()',\n",
       " '_i68': 'def f1():\\n    print(\"In f1\")\\n    f2()\\ndef f2():\\n    print(\"In f2\")\\n    f3()\\ndef f3():\\n    try:\\n        print(\"In f3\")\\n        raise IndexError\\n        print(\"End of program\".center(80,\\'*\\'))\\n    except Exception as e:\\n        print((e))\\nf1()',\n",
       " '_i69': 'def f1():\\n    print(\"In f1\")\\n    f2()\\ndef f2():\\n    print(\"In f2\")\\n    f3()\\ndef f3():\\n    try:\\n        print(\"In f3\")\\n        raise IndexError\\n        print(\"End of program\".center(80,\\'*\\'))\\n    except Exception as e:\\n        print(repr(e))\\nf1()',\n",
       " '_i70': 'def f1():\\n    print(\"In f1\")\\n    f2()\\ndef f2():\\n    print(\"In f2\")\\n    f3()\\ndef f3():\\n    try:\\n        print(\"In f3\")\\n        raise IndexError(\"Only integers allowed\")\\n        print(\"End of program\".center(80,\\'*\\'))\\n    except Exception as e:\\n        print(repr(e))\\nf1()',\n",
       " '_i71': \"try:\\n    1/0\\nexcept Exception as e :\\n    print(e) # prints division by zero\\n    # print(repr(e)) # prints ZeroDivisionError('division by zero')\",\n",
       " '_i72': \"def show():\\n    l1=dir(__builtins__)\\n    l2=[]\\n    for i in l1:\\n        if i.startswith('_'):\\n            l2.append(i)\\n    print(l2)\\nshow()\",\n",
       " 'show': <function __main__.show()>,\n",
       " '_i73': 'help(filter)',\n",
       " '_i74': \"l1=dir(__builtins__)\\nl2= [i for i in l1 if i.startswith('_')]\\nprint(l2)\",\n",
       " 'l1': ['ArithmeticError',\n",
       "  'AssertionError',\n",
       "  'AttributeError',\n",
       "  'BaseException',\n",
       "  'BlockingIOError',\n",
       "  'BrokenPipeError',\n",
       "  'BufferError',\n",
       "  'BytesWarning',\n",
       "  'ChildProcessError',\n",
       "  'ConnectionAbortedError',\n",
       "  'ConnectionError',\n",
       "  'ConnectionRefusedError',\n",
       "  'ConnectionResetError',\n",
       "  'DeprecationWarning',\n",
       "  'EOFError',\n",
       "  'Ellipsis',\n",
       "  'EnvironmentError',\n",
       "  'Exception',\n",
       "  'False',\n",
       "  'FileExistsError',\n",
       "  'FileNotFoundError',\n",
       "  'FloatingPointError',\n",
       "  'FutureWarning',\n",
       "  'GeneratorExit',\n",
       "  'IOError',\n",
       "  'ImportError',\n",
       "  'ImportWarning',\n",
       "  'IndentationError',\n",
       "  'IndexError',\n",
       "  'InterruptedError',\n",
       "  'IsADirectoryError',\n",
       "  'KeyError',\n",
       "  'KeyboardInterrupt',\n",
       "  'LookupError',\n",
       "  'MemoryError',\n",
       "  'ModuleNotFoundError',\n",
       "  'NameError',\n",
       "  'None',\n",
       "  'NotADirectoryError',\n",
       "  'NotImplemented',\n",
       "  'NotImplementedError',\n",
       "  'OSError',\n",
       "  'OverflowError',\n",
       "  'PendingDeprecationWarning',\n",
       "  'PermissionError',\n",
       "  'ProcessLookupError',\n",
       "  'RecursionError',\n",
       "  'ReferenceError',\n",
       "  'ResourceWarning',\n",
       "  'RuntimeError',\n",
       "  'RuntimeWarning',\n",
       "  'StopAsyncIteration',\n",
       "  'StopIteration',\n",
       "  'SyntaxError',\n",
       "  'SyntaxWarning',\n",
       "  'SystemError',\n",
       "  'SystemExit',\n",
       "  'TabError',\n",
       "  'TimeoutError',\n",
       "  'True',\n",
       "  'TypeError',\n",
       "  'UnboundLocalError',\n",
       "  'UnicodeDecodeError',\n",
       "  'UnicodeEncodeError',\n",
       "  'UnicodeError',\n",
       "  'UnicodeTranslateError',\n",
       "  'UnicodeWarning',\n",
       "  'UserWarning',\n",
       "  'ValueError',\n",
       "  'Warning',\n",
       "  'ZeroDivisionError',\n",
       "  '__IPYTHON__',\n",
       "  '__build_class__',\n",
       "  '__debug__',\n",
       "  '__doc__',\n",
       "  '__import__',\n",
       "  '__loader__',\n",
       "  '__name__',\n",
       "  '__package__',\n",
       "  '__spec__',\n",
       "  'abs',\n",
       "  'all',\n",
       "  'any',\n",
       "  'ascii',\n",
       "  'bin',\n",
       "  'bool',\n",
       "  'breakpoint',\n",
       "  'bytearray',\n",
       "  'bytes',\n",
       "  'callable',\n",
       "  'chr',\n",
       "  'classmethod',\n",
       "  'compile',\n",
       "  'complex',\n",
       "  'copyright',\n",
       "  'credits',\n",
       "  'delattr',\n",
       "  'dict',\n",
       "  'dir',\n",
       "  'display',\n",
       "  'divmod',\n",
       "  'enumerate',\n",
       "  'eval',\n",
       "  'exec',\n",
       "  'execfile',\n",
       "  'filter',\n",
       "  'float',\n",
       "  'format',\n",
       "  'frozenset',\n",
       "  'get_ipython',\n",
       "  'getattr',\n",
       "  'globals',\n",
       "  'hasattr',\n",
       "  'hash',\n",
       "  'help',\n",
       "  'hex',\n",
       "  'id',\n",
       "  'input',\n",
       "  'int',\n",
       "  'isinstance',\n",
       "  'issubclass',\n",
       "  'iter',\n",
       "  'len',\n",
       "  'license',\n",
       "  'list',\n",
       "  'locals',\n",
       "  'map',\n",
       "  'max',\n",
       "  'memoryview',\n",
       "  'min',\n",
       "  'next',\n",
       "  'object',\n",
       "  'oct',\n",
       "  'open',\n",
       "  'ord',\n",
       "  'pow',\n",
       "  'print',\n",
       "  'property',\n",
       "  'range',\n",
       "  'repr',\n",
       "  'reversed',\n",
       "  'round',\n",
       "  'runfile',\n",
       "  'set',\n",
       "  'setattr',\n",
       "  'slice',\n",
       "  'sorted',\n",
       "  'staticmethod',\n",
       "  'str',\n",
       "  'sum',\n",
       "  'super',\n",
       "  'tuple',\n",
       "  'type',\n",
       "  'vars',\n",
       "  'zip'],\n",
       " 'l2': ['__IPYTHON__',\n",
       "  '__build_class__',\n",
       "  '__debug__',\n",
       "  '__doc__',\n",
       "  '__import__',\n",
       "  '__loader__',\n",
       "  '__name__',\n",
       "  '__package__',\n",
       "  '__spec__'],\n",
       " '_i75': \"l3=filter(str.startswith('_'),l1)\\nprint(list(l3))\",\n",
       " '_i76': 'str1=\"Hello Python\"\\nlist(enumerate(str1))',\n",
       " 'str1': 'Hello Python',\n",
       " '_76': [(0, 'H'),\n",
       "  (1, 'e'),\n",
       "  (2, 'l'),\n",
       "  (3, 'l'),\n",
       "  (4, 'o'),\n",
       "  (5, ' '),\n",
       "  (6, 'P'),\n",
       "  (7, 'y'),\n",
       "  (8, 't'),\n",
       "  (9, 'h'),\n",
       "  (10, 'o'),\n",
       "  (11, 'n')],\n",
       " '_i77': 'import math\\nimport math\\nfor i in range(1000);',\n",
       " '_i78': 'import math\\nimport math\\nfor i in range(1000):\\n    import math',\n",
       " 'math': <module 'math' from '/home/unnathi/anaconda3/lib/python3.7/lib-dynload/math.cpython-37m-x86_64-linux-gnu.so'>,\n",
       " 'i': 999,\n",
       " '_i79': 'globals()'}"
      ]
     },
     "execution_count": 79,
     "metadata": {},
     "output_type": "execute_result"
    }
   ],
   "source": [
    "globals()"
   ]
  },
  {
   "cell_type": "code",
   "execution_count": 80,
   "id": "6b7c2035",
   "metadata": {},
   "outputs": [],
   "source": [
    "mymath=globals()['math']"
   ]
  },
  {
   "cell_type": "code",
   "execution_count": 81,
   "id": "844457f8",
   "metadata": {},
   "outputs": [
    {
     "name": "stdout",
     "output_type": "stream",
     "text": [
      "['__doc__', '__file__', '__loader__', '__name__', '__package__', '__spec__', 'acos', 'acosh', 'asin', 'asinh', 'atan', 'atan2', 'atanh', 'ceil', 'copysign', 'cos', 'cosh', 'degrees', 'e', 'erf', 'erfc', 'exp', 'expm1', 'fabs', 'factorial', 'floor', 'fmod', 'frexp', 'fsum', 'gamma', 'gcd', 'hypot', 'inf', 'isclose', 'isfinite', 'isinf', 'isnan', 'ldexp', 'lgamma', 'log', 'log10', 'log1p', 'log2', 'modf', 'nan', 'pi', 'pow', 'radians', 'remainder', 'sin', 'sinh', 'sqrt', 'tan', 'tanh', 'tau', 'trunc']\n"
     ]
    }
   ],
   "source": [
    "print(dir(mymath))"
   ]
  },
  {
   "cell_type": "code",
   "execution_count": 82,
   "id": "22a0171d",
   "metadata": {},
   "outputs": [
    {
     "data": {
      "text/plain": [
       "module"
      ]
     },
     "execution_count": 82,
     "metadata": {},
     "output_type": "execute_result"
    }
   ],
   "source": [
    "type(mymath)"
   ]
  },
  {
   "cell_type": "code",
   "execution_count": 84,
   "id": "517f8f90",
   "metadata": {},
   "outputs": [
    {
     "data": {
      "text/plain": [
       "2.0"
      ]
     },
     "execution_count": 84,
     "metadata": {},
     "output_type": "execute_result"
    }
   ],
   "source": [
    "mymath.sqrt(4)"
   ]
  },
  {
   "cell_type": "code",
   "execution_count": 85,
   "id": "c0601f26",
   "metadata": {},
   "outputs": [
    {
     "data": {
      "text/plain": [
       "3.0"
      ]
     },
     "execution_count": 85,
     "metadata": {},
     "output_type": "execute_result"
    }
   ],
   "source": [
    "import math as c\n",
    "c.sqrt(9)"
   ]
  },
  {
   "cell_type": "code",
   "execution_count": null,
   "id": "a46a037c",
   "metadata": {},
   "outputs": [],
   "source": []
  }
 ],
 "metadata": {
  "kernelspec": {
   "display_name": "Python 3 (ipykernel)",
   "language": "python",
   "name": "python3"
  },
  "language_info": {
   "codemirror_mode": {
    "name": "ipython",
    "version": 3
   },
   "file_extension": ".py",
   "mimetype": "text/x-python",
   "name": "python",
   "nbconvert_exporter": "python",
   "pygments_lexer": "ipython3",
   "version": "3.7.13"
  }
 },
 "nbformat": 4,
 "nbformat_minor": 5
}
