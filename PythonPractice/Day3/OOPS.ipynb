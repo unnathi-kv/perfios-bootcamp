{
 "cells": [
  {
   "cell_type": "code",
   "execution_count": 1,
   "id": "4c57a289",
   "metadata": {},
   "outputs": [],
   "source": [
    "class Test:\n",
    "    pass\n",
    "    "
   ]
  },
  {
   "cell_type": "code",
   "execution_count": 2,
   "id": "b38119bc",
   "metadata": {},
   "outputs": [
    {
     "data": {
      "text/plain": [
       "__main__.Test"
      ]
     },
     "execution_count": 2,
     "metadata": {},
     "output_type": "execute_result"
    }
   ],
   "source": [
    "Test"
   ]
  },
  {
   "cell_type": "code",
   "execution_count": 3,
   "id": "67ed5a50",
   "metadata": {},
   "outputs": [
    {
     "data": {
      "text/plain": [
       "type"
      ]
     },
     "execution_count": 3,
     "metadata": {},
     "output_type": "execute_result"
    }
   ],
   "source": [
    "type(Test)"
   ]
  },
  {
   "cell_type": "code",
   "execution_count": 4,
   "id": "ab4e80e6",
   "metadata": {},
   "outputs": [
    {
     "data": {
      "text/plain": [
       "True"
      ]
     },
     "execution_count": 4,
     "metadata": {},
     "output_type": "execute_result"
    }
   ],
   "source": [
    "issubclass(Test,object)"
   ]
  },
  {
   "cell_type": "code",
   "execution_count": 6,
   "id": "40c3b90b",
   "metadata": {},
   "outputs": [],
   "source": [
    "class Test:\n",
    "    def __new__(self): # self- an object\n",
    "        print(\"New called\")"
   ]
  },
  {
   "cell_type": "code",
   "execution_count": 7,
   "id": "b8288350",
   "metadata": {},
   "outputs": [
    {
     "name": "stdout",
     "output_type": "stream",
     "text": [
      "New called\n"
     ]
    }
   ],
   "source": [
    "t =Test() # Object of class Test"
   ]
  },
  {
   "cell_type": "code",
   "execution_count": 8,
   "id": "8b9a4fb0",
   "metadata": {},
   "outputs": [
    {
     "data": {
      "text/plain": [
       "NoneType"
      ]
     },
     "execution_count": 8,
     "metadata": {},
     "output_type": "execute_result"
    }
   ],
   "source": [
    "type(t)"
   ]
  },
  {
   "cell_type": "code",
   "execution_count": 11,
   "id": "c9961aa3",
   "metadata": {},
   "outputs": [
    {
     "name": "stdout",
     "output_type": "stream",
     "text": [
      "Help on built-in function __new__:\n",
      "\n",
      "__new__(*args, **kwargs) method of builtins.type instance\n",
      "    Create and return a new object.  See help(type) for accurate signature.\n",
      "\n"
     ]
    }
   ],
   "source": [
    "help(t.__new__)"
   ]
  },
  {
   "cell_type": "code",
   "execution_count": 52,
   "id": "5c634b1c",
   "metadata": {},
   "outputs": [],
   "source": [
    "class Test:\n",
    "    def __new__(self): # self - an object which is used to access variables in class and  first parameter of any function in the class\n",
    "        \n",
    "        print(\"New called\")\n",
    "    def __init__(self):\n",
    "        print(\"__init__ called\")"
   ]
  },
  {
   "cell_type": "code",
   "execution_count": 30,
   "id": "804c0233",
   "metadata": {},
   "outputs": [
    {
     "name": "stdout",
     "output_type": "stream",
     "text": [
      "__init__ called\n"
     ]
    }
   ],
   "source": [
    "t=Test()"
   ]
  },
  {
   "cell_type": "code",
   "execution_count": 31,
   "id": "1df4cfb4",
   "metadata": {},
   "outputs": [],
   "source": [
    "class Test:\n",
    "    def __init__(self):\n",
    "        print(\"__init__ called\") # always use dunder init to intialize the object"
   ]
  },
  {
   "cell_type": "code",
   "execution_count": 32,
   "id": "bb094460",
   "metadata": {},
   "outputs": [
    {
     "name": "stdout",
     "output_type": "stream",
     "text": [
      "__init__ called\n"
     ]
    }
   ],
   "source": [
    "t=Test()\n"
   ]
  },
  {
   "cell_type": "code",
   "execution_count": 42,
   "id": "d1a259c4",
   "metadata": {},
   "outputs": [],
   "source": [
    "class Student:\n",
    "    def __init__(self,name,rno):\n",
    "        self.name=name\n",
    "        self.rno=rno\n",
    "    \n",
    "    def getdata(self):\n",
    "        return(self.name,self.rno)"
   ]
  },
  {
   "cell_type": "code",
   "execution_count": 47,
   "id": "eb8851d4",
   "metadata": {},
   "outputs": [],
   "source": [
    "s= Student(\"Joshua\",\"17\")"
   ]
  },
  {
   "cell_type": "code",
   "execution_count": 48,
   "id": "c3aaee0f",
   "metadata": {},
   "outputs": [
    {
     "data": {
      "text/plain": [
       "<__main__.Student at 0x7f1b518ab710>"
      ]
     },
     "execution_count": 48,
     "metadata": {},
     "output_type": "execute_result"
    }
   ],
   "source": [
    "s"
   ]
  },
  {
   "cell_type": "code",
   "execution_count": 49,
   "id": "b2f64dc2",
   "metadata": {},
   "outputs": [
    {
     "name": "stdout",
     "output_type": "stream",
     "text": [
      "('Joshua', '17')\n"
     ]
    }
   ],
   "source": [
    "print(s.getdata())"
   ]
  },
  {
   "cell_type": "code",
   "execution_count": 60,
   "id": "7b320765",
   "metadata": {},
   "outputs": [
    {
     "data": {
      "text/plain": [
       "('Joshua', '17')"
      ]
     },
     "execution_count": 60,
     "metadata": {},
     "output_type": "execute_result"
    }
   ],
   "source": [
    "Student.getdata(s) # s is an object like self"
   ]
  },
  {
   "cell_type": "code",
   "execution_count": 61,
   "id": "7a1fd0d1",
   "metadata": {},
   "outputs": [
    {
     "data": {
      "text/plain": [
       "{'name': 'Joshua', 'rno': '17'}"
      ]
     },
     "execution_count": 61,
     "metadata": {},
     "output_type": "execute_result"
    }
   ],
   "source": [
    "s.__dict__"
   ]
  },
  {
   "cell_type": "code",
   "execution_count": 62,
   "id": "554a3fb1",
   "metadata": {},
   "outputs": [
    {
     "data": {
      "text/plain": [
       "mappingproxy({'__module__': '__main__',\n",
       "              '__init__': <function __main__.Student.__init__(self, name, rno)>,\n",
       "              'getdata': <function __main__.Student.getdata(self)>,\n",
       "              '__dict__': <attribute '__dict__' of 'Student' objects>,\n",
       "              '__weakref__': <attribute '__weakref__' of 'Student' objects>,\n",
       "              '__doc__': None})"
      ]
     },
     "execution_count": 62,
     "metadata": {},
     "output_type": "execute_result"
    }
   ],
   "source": [
    "Student.__dict__"
   ]
  },
  {
   "cell_type": "code",
   "execution_count": 71,
   "id": "41de7874",
   "metadata": {},
   "outputs": [],
   "source": [
    "class Student:\n",
    "    school=\"Seventeen High School\" #class variable - common to every object and method\n",
    "    def __init__(self,name):\n",
    "        self.name=name\n",
    "    def getdata(self):\n",
    "        print(self.name)\n",
    "        print(self.school)\n",
    "    "
   ]
  },
  {
   "cell_type": "code",
   "execution_count": 72,
   "id": "84772321",
   "metadata": {},
   "outputs": [],
   "source": [
    "s1= Student(\"Scoups\")\n",
    "s2= Student(\"Namjoon\")"
   ]
  },
  {
   "cell_type": "code",
   "execution_count": 73,
   "id": "5b6f3308",
   "metadata": {},
   "outputs": [
    {
     "data": {
      "text/plain": [
       "'Seventeen High School'"
      ]
     },
     "execution_count": 73,
     "metadata": {},
     "output_type": "execute_result"
    }
   ],
   "source": [
    "s1.school"
   ]
  },
  {
   "cell_type": "code",
   "execution_count": 74,
   "id": "b99843bf",
   "metadata": {},
   "outputs": [
    {
     "name": "stdout",
     "output_type": "stream",
     "text": [
      "Scoups\n",
      "Seventeen High School\n"
     ]
    }
   ],
   "source": [
    "s1.getdata()"
   ]
  },
  {
   "cell_type": "code",
   "execution_count": 77,
   "id": "a2c6652a",
   "metadata": {},
   "outputs": [
    {
     "data": {
      "text/plain": [
       "8"
      ]
     },
     "execution_count": 77,
     "metadata": {},
     "output_type": "execute_result"
    }
   ],
   "source": [
    "class Cube:\n",
    "    def __init__(self,number):\n",
    "        self.number=number\n",
    "    def getCube(self):\n",
    "        return (self.number**3)\n",
    "c= Cube(2)\n",
    "c.getCube()\n",
    "# Cube(3).getCube()"
   ]
  },
  {
   "cell_type": "code",
   "execution_count": 83,
   "id": "11bbddc1",
   "metadata": {},
   "outputs": [
    {
     "data": {
      "text/plain": [
       "8"
      ]
     },
     "execution_count": 83,
     "metadata": {},
     "output_type": "execute_result"
    }
   ],
   "source": [
    "class Cube:\n",
    "    def __init__(self,number):\n",
    "        self.number=number\n",
    "    def __call__(self):\n",
    "        return (self.number**3)\n",
    "c= Cube(2)\n",
    "c()"
   ]
  },
  {
   "cell_type": "code",
   "execution_count": 103,
   "id": "393ea73b",
   "metadata": {},
   "outputs": [
    {
     "name": "stdout",
     "output_type": "stream",
     "text": [
      "Hello\n"
     ]
    },
    {
     "data": {
      "text/plain": [
       "8"
      ]
     },
     "execution_count": 103,
     "metadata": {},
     "output_type": "execute_result"
    }
   ],
   "source": [
    "class Cube:\n",
    "    def __init__(self):\n",
    "        print(\"Hello\")\n",
    "    def __call__(self,number):\n",
    "        return (number**3)\n",
    "c=Cube()\n",
    "c(2)\n"
   ]
  },
  {
   "cell_type": "code",
   "execution_count": 95,
   "id": "c6929af3",
   "metadata": {},
   "outputs": [],
   "source": [
    "class Cube:\n",
    "    def __call__(self,n):\n",
    "        return n**3"
   ]
  },
  {
   "cell_type": "code",
   "execution_count": 96,
   "id": "ac66d847",
   "metadata": {},
   "outputs": [
    {
     "data": {
      "text/plain": [
       "8"
      ]
     },
     "execution_count": 96,
     "metadata": {},
     "output_type": "execute_result"
    }
   ],
   "source": [
    "c=Cube()\n",
    "c(2)"
   ]
  },
  {
   "cell_type": "code",
   "execution_count": 97,
   "id": "94814866",
   "metadata": {},
   "outputs": [
    {
     "data": {
      "text/plain": [
       "wrapper_descriptor"
      ]
     },
     "execution_count": 97,
     "metadata": {},
     "output_type": "execute_result"
    }
   ],
   "source": [
    "type(Cube.__init__)"
   ]
  },
  {
   "cell_type": "code",
   "execution_count": 98,
   "id": "c1c9d345",
   "metadata": {},
   "outputs": [
    {
     "name": "stdout",
     "output_type": "stream",
     "text": [
      "Help on wrapper_descriptor:\n",
      "\n",
      "__init__(self, /, *args, **kwargs)\n",
      "    Initialize self.  See help(type(self)) for accurate signature.\n",
      "\n"
     ]
    }
   ],
   "source": [
    "help(Cube.__init__)"
   ]
  },
  {
   "cell_type": "code",
   "execution_count": 99,
   "id": "47b72040",
   "metadata": {},
   "outputs": [
    {
     "name": "stdout",
     "output_type": "stream",
     "text": [
      "['__call__', '__class__', '__delattr__', '__dir__', '__doc__', '__eq__', '__format__', '__ge__', '__get__', '__getattribute__', '__gt__', '__hash__', '__init__', '__init_subclass__', '__le__', '__lt__', '__name__', '__ne__', '__new__', '__objclass__', '__qualname__', '__reduce__', '__reduce_ex__', '__repr__', '__setattr__', '__sizeof__', '__str__', '__subclasshook__', '__text_signature__']\n"
     ]
    }
   ],
   "source": [
    "print(dir(Cube.__init__))"
   ]
  },
  {
   "cell_type": "code",
   "execution_count": 104,
   "id": "6644baae",
   "metadata": {},
   "outputs": [
    {
     "name": "stdout",
     "output_type": "stream",
     "text": [
      "<__main__.Cube object at 0x7f1b51aa1090> <class '__main__.Cube'>\n"
     ]
    }
   ],
   "source": [
    "print(c,Cube)"
   ]
  },
  {
   "cell_type": "code",
   "execution_count": 118,
   "id": "005ae8e7",
   "metadata": {},
   "outputs": [],
   "source": [
    "import random\n",
    "class RandomNumbers:\n",
    "    def __call__(self):\n",
    "        return(random.randint(1,100))\n",
    "        "
   ]
  },
  {
   "cell_type": "code",
   "execution_count": 119,
   "id": "1ea0e8ee",
   "metadata": {},
   "outputs": [
    {
     "data": {
      "text/plain": [
       "42"
      ]
     },
     "execution_count": 119,
     "metadata": {},
     "output_type": "execute_result"
    }
   ],
   "source": [
    "r=RandomNumbers()\n",
    "r()"
   ]
  },
  {
   "cell_type": "code",
   "execution_count": 124,
   "id": "839ba95b",
   "metadata": {},
   "outputs": [
    {
     "name": "stdout",
     "output_type": "stream",
     "text": [
      "<__main__.RandomNumbers object at 0x7f1b51d49e50>\n"
     ]
    }
   ],
   "source": [
    "print(r)"
   ]
  },
  {
   "cell_type": "code",
   "execution_count": 140,
   "id": "3e2b998c",
   "metadata": {},
   "outputs": [],
   "source": [
    "class Cube:\n",
    "    def __init__(self,n):\n",
    "        self.n=n\n",
    "    def __call__(self,n):\n",
    "        return n**3\n",
    "    def __str__(self):\n",
    "        return f'(\"Hello world\")'\n",
    "    def __repr__(self):\n",
    "        return f'(Cube(self,n))'"
   ]
  },
  {
   "cell_type": "code",
   "execution_count": 141,
   "id": "75a42f4a",
   "metadata": {},
   "outputs": [
    {
     "name": "stdout",
     "output_type": "stream",
     "text": [
      "(\"Hello world\")\n"
     ]
    },
    {
     "data": {
      "text/plain": [
       "((Cube(self,n)), None)"
      ]
     },
     "execution_count": 141,
     "metadata": {},
     "output_type": "execute_result"
    }
   ],
   "source": [
    "c1= Cube(2)\n",
    "c1,print(c1)"
   ]
  },
  {
   "cell_type": "code",
   "execution_count": 142,
   "id": "56c84920",
   "metadata": {},
   "outputs": [
    {
     "data": {
      "text/plain": [
       "(Cube(self,n))"
      ]
     },
     "execution_count": 142,
     "metadata": {},
     "output_type": "execute_result"
    }
   ],
   "source": [
    "c1"
   ]
  },
  {
   "cell_type": "code",
   "execution_count": 152,
   "id": "fbfa7421",
   "metadata": {},
   "outputs": [],
   "source": [
    "class Cube:\n",
    "    def __init__(self,n):\n",
    "        self.n=n\n",
    "    def __call__(self):\n",
    "        return self.n**3\n",
    "    def __str__(self):\n",
    "        return 'Cube{()}'.format(self,n)\n",
    "    def __repr__(self):\n",
    "        return 'Cube{()}'.format(self,n)"
   ]
  },
  {
   "cell_type": "code",
   "execution_count": 153,
   "id": "42b27d4e",
   "metadata": {},
   "outputs": [
    {
     "data": {
      "text/plain": [
       "8"
      ]
     },
     "execution_count": 153,
     "metadata": {},
     "output_type": "execute_result"
    }
   ],
   "source": [
    "c=Cube(2)\n",
    "c()"
   ]
  },
  {
   "cell_type": "markdown",
   "id": "cc01975f",
   "metadata": {},
   "source": [
    "#### Write a class that takes name,age,marks of students, writes to a file and write method to read the file"
   ]
  },
  {
   "cell_type": "code",
   "execution_count": 163,
   "id": "0c6f99d8",
   "metadata": {},
   "outputs": [],
   "source": [
    "class Details:\n",
    "    def __init__(self,name,age,marks):\n",
    "        self.name=name\n",
    "        self.age=age\n",
    "        self.marks=marks\n",
    "    def writeIntoFile(self):\n",
    "        f= open(\"students_marks.txt\",'w')\n",
    "        f.writelines([\"Name : \"+self.name+\" Age : \"+str(self.age)+\" Marks : \"+str(self.marks)])\n",
    "        f.close()\n",
    "    def readFromFile(self):\n",
    "        f=open(\"students_marks.txt\",'r')\n",
    "        print(f.read())\n",
    "        f.close()              \n",
    "    "
   ]
  },
  {
   "cell_type": "code",
   "execution_count": 164,
   "id": "1e3b0798",
   "metadata": {},
   "outputs": [
    {
     "name": "stdout",
     "output_type": "stream",
     "text": [
      "Name : Joshua Age : 25 Marks : 50\n"
     ]
    }
   ],
   "source": [
    "d=Details(\"Joshua\",25,50)\n",
    "d.writeIntoFile()\n",
    "d.readFromFile()"
   ]
  },
  {
   "cell_type": "code",
   "execution_count": null,
   "id": "14c00712",
   "metadata": {},
   "outputs": [],
   "source": []
  }
 ],
 "metadata": {
  "kernelspec": {
   "display_name": "Python 3 (ipykernel)",
   "language": "python",
   "name": "python3"
  },
  "language_info": {
   "codemirror_mode": {
    "name": "ipython",
    "version": 3
   },
   "file_extension": ".py",
   "mimetype": "text/x-python",
   "name": "python",
   "nbconvert_exporter": "python",
   "pygments_lexer": "ipython3",
   "version": "3.7.13"
  }
 },
 "nbformat": 4,
 "nbformat_minor": 5
}
