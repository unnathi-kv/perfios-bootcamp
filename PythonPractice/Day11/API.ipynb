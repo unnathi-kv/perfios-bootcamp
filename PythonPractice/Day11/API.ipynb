{
 "cells": [
  {
   "cell_type": "markdown",
   "id": "25a3f737",
   "metadata": {},
   "source": [
    "### API- Application Programming Interface\n",
    "* To build API we need architecture style\n",
    "* REST is one of the most popular architecture styles to build API's and Python is probably the best idea to   get data from API\n"
   ]
  },
  {
   "cell_type": "code",
   "execution_count": 1,
   "id": "bd54f56a",
   "metadata": {
    "scrolled": false
   },
   "outputs": [
    {
     "name": "stdout",
     "output_type": "stream",
     "text": [
      "Requirement already satisfied: requests in /home/unnathi/anaconda3/lib/python3.7/site-packages (2.28.1)\n",
      "Requirement already satisfied: idna<4,>=2.5 in /home/unnathi/anaconda3/lib/python3.7/site-packages (from requests) (3.3)\n",
      "Requirement already satisfied: urllib3<1.27,>=1.21.1 in /home/unnathi/anaconda3/lib/python3.7/site-packages (from requests) (1.26.11)\n",
      "Requirement already satisfied: charset-normalizer<3,>=2 in /home/unnathi/anaconda3/lib/python3.7/site-packages (from requests) (2.0.4)\n",
      "Requirement already satisfied: certifi>=2017.4.17 in /home/unnathi/anaconda3/lib/python3.7/site-packages (from requests) (2022.9.24)\n",
      "Note: you may need to restart the kernel to use updated packages.\n"
     ]
    }
   ],
   "source": [
    "pip install requests"
   ]
  },
  {
   "cell_type": "code",
   "execution_count": 40,
   "id": "1effe16b",
   "metadata": {},
   "outputs": [
    {
     "data": {
      "text/plain": [
       "{'userId': 1,\n",
       " 'id': 15,\n",
       " 'title': 'ab voluptatum amet voluptas',\n",
       " 'completed': True}"
      ]
     },
     "execution_count": 40,
     "metadata": {},
     "output_type": "execute_result"
    }
   ],
   "source": [
    "import requests\n",
    "api_url=\"https://jsonplaceholder.typicode.com/todos/15\"\n",
    "\n",
    "# GET \n",
    "response = requests.get(api_url) # get() - to read items from specfic url\n",
    "response  \n",
    "response.json()\n",
    "# response.status_code # gives status code\n",
    "# response.headers[\"Content-Type\"] # gives content type \n"
   ]
  },
  {
   "cell_type": "code",
   "execution_count": 41,
   "id": "21a13688",
   "metadata": {},
   "outputs": [
    {
     "data": {
      "text/plain": [
       "{'userId': 1, 'title': 'Buy milk', 'completed': False, 'id': 15}"
      ]
     },
     "execution_count": 41,
     "metadata": {},
     "output_type": "execute_result"
    }
   ],
   "source": [
    "# POST \n",
    "api_url=\"https://jsonplaceholder.typicode.com/todos/15\"\n",
    "todo = {\"userId\": 1, \"title\": \"Buy milk\", \"completed\": False} \n",
    "response = requests.put(api_url, json=todo)\n",
    "response.json()\n"
   ]
  },
  {
   "cell_type": "code",
   "execution_count": 42,
   "id": "8abd7b29",
   "metadata": {},
   "outputs": [
    {
     "data": {
      "text/plain": [
       "{'userId': 1, 'id': 15, 'title': 'Boil Milk', 'completed': True}"
      ]
     },
     "execution_count": 42,
     "metadata": {},
     "output_type": "execute_result"
    }
   ],
   "source": [
    "# PATCH - partial update \n",
    "api_url=\"https://jsonplaceholder.typicode.com/todos/15\"\n",
    "todo={\"title\":\"Boil Milk\"}\n",
    "response = requests.patch(api_url,json=todo)\n",
    "response.json()"
   ]
  },
  {
   "cell_type": "code",
   "execution_count": 43,
   "id": "bf894db6",
   "metadata": {},
   "outputs": [
    {
     "data": {
      "text/plain": [
       "{}"
      ]
     },
     "execution_count": 43,
     "metadata": {},
     "output_type": "execute_result"
    }
   ],
   "source": [
    "# DELETE \n",
    "api_url=\"https://jsonplaceholder.typicode.com/todos/15\"\n",
    "response = requests.delete(api_url)\n",
    "response.json()"
   ]
  },
  {
   "cell_type": "markdown",
   "id": "e1d15178",
   "metadata": {},
   "source": [
    " \n",
    "### REST and Python : Building API's \n",
    "https://realpython.com/api-integration-in-python/#rest-architecture \n",
    "\n",
    "* STEPS :\n",
    "    * Identify Resources  \n",
    "    * Define your endpoints  \n",
    "    * Pick your data interchange format\n",
    "    * Design Success Responses\n",
    "    * Design Error Responses \n",
    "\n",
    "* REST API Architecture - https://www.codeproject.com/Articles/5319146/How-to-use-Rest-API-with-Python"
   ]
  },
  {
   "cell_type": "code",
   "execution_count": 44,
   "id": "aca77c62",
   "metadata": {},
   "outputs": [
    {
     "name": "stdout",
     "output_type": "stream",
     "text": [
      "200\n"
     ]
    }
   ],
   "source": [
    "response = requests.get(\"https://randomfox.ca/floof\")\n",
    "print(response.status_code)"
   ]
  },
  {
   "cell_type": "code",
   "execution_count": 73,
   "id": "caabc306",
   "metadata": {},
   "outputs": [
    {
     "name": "stdout",
     "output_type": "stream",
     "text": [
      "https://randomfox.ca/images/41.jpg\n"
     ]
    }
   ],
   "source": [
    "response = requests.get(\"https://randomfox.ca/floof\")\n",
    "# print(response.json())\n",
    "fox_image=response.json()\n",
    "print(fox_image['image'])"
   ]
  },
  {
   "cell_type": "code",
   "execution_count": 81,
   "id": "a3f6ac51",
   "metadata": {},
   "outputs": [],
   "source": [
    "with open('fox_pic.jpg','w') as f:\n",
    "    f.write(fox_image['image'])"
   ]
  },
  {
   "cell_type": "code",
   "execution_count": 79,
   "id": "574a8655",
   "metadata": {},
   "outputs": [
    {
     "name": "stdout",
     "output_type": "stream",
     "text": [
      "{\"image\":\"https:\\/\\/randomfox.ca\\/images\\/41.jpg\",\"link\":\"https:\\/\\/randomfox.ca\\/?i=41\"}\n"
     ]
    }
   ],
   "source": [
    "with open('fox_pic.jpg','r') as f1:\n",
    "    pic = f1.read()\n",
    "print(pic)"
   ]
  },
  {
   "cell_type": "code",
   "execution_count": null,
   "id": "f99902a3",
   "metadata": {},
   "outputs": [],
   "source": []
  }
 ],
 "metadata": {
  "kernelspec": {
   "display_name": "Python 3 (ipykernel)",
   "language": "python",
   "name": "python3"
  },
  "language_info": {
   "codemirror_mode": {
    "name": "ipython",
    "version": 3
   },
   "file_extension": ".py",
   "mimetype": "text/x-python",
   "name": "python",
   "nbconvert_exporter": "python",
   "pygments_lexer": "ipython3",
   "version": "3.7.13"
  }
 },
 "nbformat": 4,
 "nbformat_minor": 5
}
