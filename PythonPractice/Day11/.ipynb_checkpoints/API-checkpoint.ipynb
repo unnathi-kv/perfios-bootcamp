{
 "cells": [
  {
   "cell_type": "markdown",
   "id": "32e0d9d9",
   "metadata": {},
   "source": [
    "### API- Application Programming Interface\n",
    "* To build API we need architecture style\n",
    "* REST is one of the most popular architecture styles to build API's and Python is probably the best idea to   get data from API\n"
   ]
  },
  {
   "cell_type": "code",
   "execution_count": 1,
   "id": "4c3a373b",
   "metadata": {
    "scrolled": false
   },
   "outputs": [
    {
     "name": "stdout",
     "output_type": "stream",
     "text": [
      "Requirement already satisfied: requests in /home/unnathi/anaconda3/lib/python3.7/site-packages (2.28.1)\n",
      "Requirement already satisfied: idna<4,>=2.5 in /home/unnathi/anaconda3/lib/python3.7/site-packages (from requests) (3.3)\n",
      "Requirement already satisfied: urllib3<1.27,>=1.21.1 in /home/unnathi/anaconda3/lib/python3.7/site-packages (from requests) (1.26.11)\n",
      "Requirement already satisfied: charset-normalizer<3,>=2 in /home/unnathi/anaconda3/lib/python3.7/site-packages (from requests) (2.0.4)\n",
      "Requirement already satisfied: certifi>=2017.4.17 in /home/unnathi/anaconda3/lib/python3.7/site-packages (from requests) (2022.9.24)\n",
      "Note: you may need to restart the kernel to use updated packages.\n"
     ]
    }
   ],
   "source": [
    "pip install requests"
   ]
  },
  {
   "cell_type": "code",
   "execution_count": 40,
   "id": "e2f6dc54",
   "metadata": {},
   "outputs": [
    {
     "data": {
      "text/plain": [
       "{'userId': 1,\n",
       " 'id': 15,\n",
       " 'title': 'ab voluptatum amet voluptas',\n",
       " 'completed': True}"
      ]
     },
     "execution_count": 40,
     "metadata": {},
     "output_type": "execute_result"
    }
   ],
   "source": [
    "import requests\n",
    "api_url=\"https://jsonplaceholder.typicode.com/todos/15\"\n",
    "\n",
    "# GET \n",
    "response = requests.get(api_url) # get() - to read items from specfic url\n",
    "response  \n",
    "response.json()\n",
    "# response.status_code # gives status code\n",
    "# response.headers[\"Content-Type\"] # gives content type \n"
   ]
  },
  {
   "cell_type": "code",
   "execution_count": 41,
   "id": "c56cc725",
   "metadata": {},
   "outputs": [
    {
     "data": {
      "text/plain": [
       "{'userId': 1, 'title': 'Buy milk', 'completed': False, 'id': 15}"
      ]
     },
     "execution_count": 41,
     "metadata": {},
     "output_type": "execute_result"
    }
   ],
   "source": [
    "# POST \n",
    "api_url=\"https://jsonplaceholder.typicode.com/todos/15\"\n",
    "todo = {\"userId\": 1, \"title\": \"Buy milk\", \"completed\": False} \n",
    "response = requests.put(api_url, json=todo)\n",
    "response.json()\n"
   ]
  },
  {
   "cell_type": "code",
   "execution_count": 42,
   "id": "1c6b9b2b",
   "metadata": {},
   "outputs": [
    {
     "data": {
      "text/plain": [
       "{'userId': 1, 'id': 15, 'title': 'Boil Milk', 'completed': True}"
      ]
     },
     "execution_count": 42,
     "metadata": {},
     "output_type": "execute_result"
    }
   ],
   "source": [
    "# PATCH - partial update \n",
    "api_url=\"https://jsonplaceholder.typicode.com/todos/15\"\n",
    "todo={\"title\":\"Boil Milk\"}\n",
    "response = requests.patch(api_url,json=todo)\n",
    "response.json()"
   ]
  },
  {
   "cell_type": "code",
   "execution_count": 43,
   "id": "4252f128",
   "metadata": {},
   "outputs": [
    {
     "data": {
      "text/plain": [
       "{}"
      ]
     },
     "execution_count": 43,
     "metadata": {},
     "output_type": "execute_result"
    }
   ],
   "source": [
    "# DELETE \n",
    "api_url=\"https://jsonplaceholder.typicode.com/todos/15\"\n",
    "response = requests.delete(api_url)\n",
    "response.json()"
   ]
  },
  {
   "cell_type": "markdown",
   "id": "3fc22410",
   "metadata": {},
   "source": [
    " https://realpython.com/api-integration-in-python/#rest-architecture \n",
    "\n",
    "### REST and Python : Building API's \n",
    "* STEPS :\n",
    "    * Identify Resources  \n",
    "    * Define your endpoints  \n",
    "    * Pick your data interchange format\n",
    "    * Design Success Responses\n",
    "    * Design Error Responses \n",
    "\n",
    "* REST API Architecture - https://www.codeproject.com/Articles/5319146/How-to-use-Rest-API-with-Python"
   ]
  },
  {
   "cell_type": "code",
   "execution_count": 44,
   "id": "4ff271f0",
   "metadata": {},
   "outputs": [
    {
     "name": "stdout",
     "output_type": "stream",
     "text": [
      "200\n"
     ]
    }
   ],
   "source": [
    "response = requests.get(\"https://randomfox.ca/floof\")\n",
    "print(response.status_code)"
   ]
  },
  {
   "cell_type": "code",
   "execution_count": 48,
   "id": "62aae75f",
   "metadata": {},
   "outputs": [
    {
     "name": "stdout",
     "output_type": "stream",
     "text": [
      "https://randomfox.ca/images/30.jpg\n"
     ]
    }
   ],
   "source": [
    "response = requests.get(\"https://randomfox.ca/floof\")\n",
    "# print(response.json())\n",
    "fox_image=response.json()\n",
    "print(fox_image['image'])"
   ]
  },
  {
   "cell_type": "code",
   "execution_count": 56,
   "id": "02a966c4",
   "metadata": {},
   "outputs": [
    {
     "ename": "TypeError",
     "evalue": "write() argument must be str, not dict",
     "output_type": "error",
     "traceback": [
      "\u001b[0;31m---------------------------------------------------------------------------\u001b[0m",
      "\u001b[0;31mTypeError\u001b[0m                                 Traceback (most recent call last)",
      "\u001b[0;32m/tmp/ipykernel_25578/480408909.py\u001b[0m in \u001b[0;36m<module>\u001b[0;34m\u001b[0m\n\u001b[1;32m      1\u001b[0m \u001b[0;32mwith\u001b[0m \u001b[0mopen\u001b[0m\u001b[0;34m(\u001b[0m\u001b[0;34m'fox_pic.jpg'\u001b[0m\u001b[0;34m,\u001b[0m\u001b[0;34m'w'\u001b[0m\u001b[0;34m)\u001b[0m \u001b[0;32mas\u001b[0m \u001b[0mf\u001b[0m\u001b[0;34m:\u001b[0m\u001b[0;34m\u001b[0m\u001b[0;34m\u001b[0m\u001b[0m\n\u001b[0;32m----> 2\u001b[0;31m     \u001b[0mf\u001b[0m\u001b[0;34m.\u001b[0m\u001b[0mwrite\u001b[0m\u001b[0;34m(\u001b[0m\u001b[0mfox_image\u001b[0m\u001b[0;34m)\u001b[0m\u001b[0;34m\u001b[0m\u001b[0;34m\u001b[0m\u001b[0m\n\u001b[0m",
      "\u001b[0;31mTypeError\u001b[0m: write() argument must be str, not dict"
     ]
    }
   ],
   "source": [
    "with open('fox_pic.jpg','w') as f:\n",
    "    f.write(fox_image)"
   ]
  },
  {
   "cell_type": "code",
   "execution_count": null,
   "id": "dd699e68",
   "metadata": {},
   "outputs": [],
   "source": []
  }
 ],
 "metadata": {
  "kernelspec": {
   "display_name": "Python 3 (ipykernel)",
   "language": "python",
   "name": "python3"
  },
  "language_info": {
   "codemirror_mode": {
    "name": "ipython",
    "version": 3
   },
   "file_extension": ".py",
   "mimetype": "text/x-python",
   "name": "python",
   "nbconvert_exporter": "python",
   "pygments_lexer": "ipython3",
   "version": "3.7.13"
  }
 },
 "nbformat": 4,
 "nbformat_minor": 5
}
