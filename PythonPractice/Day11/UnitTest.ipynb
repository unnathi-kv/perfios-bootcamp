{
 "cells": [
  {
   "cell_type": "markdown",
   "id": "0005966b",
   "metadata": {},
   "source": [
    "### Unit Testing :-\n",
    "* https://www.educba.com/unit-testing-in-python"
   ]
  },
  {
   "cell_type": "code",
   "execution_count": null,
   "id": "b269d545",
   "metadata": {},
   "outputs": [],
   "source": []
  }
 ],
 "metadata": {
  "kernelspec": {
   "display_name": "Python 3 (ipykernel)",
   "language": "python",
   "name": "python3"
  },
  "language_info": {
   "codemirror_mode": {
    "name": "ipython",
    "version": 3
   },
   "file_extension": ".py",
   "mimetype": "text/x-python",
   "name": "python",
   "nbconvert_exporter": "python",
   "pygments_lexer": "ipython3",
   "version": "3.7.13"
  }
 },
 "nbformat": 4,
 "nbformat_minor": 5
}
