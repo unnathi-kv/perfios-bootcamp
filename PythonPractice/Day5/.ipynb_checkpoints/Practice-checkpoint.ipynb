{
 "cells": [
  {
   "cell_type": "code",
   "execution_count": 17,
   "id": "b936ff4c",
   "metadata": {},
   "outputs": [],
   "source": [
    "class Test:\n",
    "    def hello(args='default'):\n",
    "        print(\"Hello from {}\".format(args))"
   ]
  },
  {
   "cell_type": "code",
   "execution_count": 18,
   "id": "8c163494",
   "metadata": {},
   "outputs": [],
   "source": [
    "t=Test()"
   ]
  },
  {
   "cell_type": "code",
   "execution_count": 19,
   "id": "87b90c30",
   "metadata": {},
   "outputs": [
    {
     "data": {
      "text/plain": [
       "<function __main__.Test.hello(args='default')>"
      ]
     },
     "execution_count": 19,
     "metadata": {},
     "output_type": "execute_result"
    }
   ],
   "source": [
    "Test.hello"
   ]
  },
  {
   "cell_type": "code",
   "execution_count": 20,
   "id": "658239f3",
   "metadata": {},
   "outputs": [
    {
     "name": "stdout",
     "output_type": "stream",
     "text": [
      "Hello from default\n"
     ]
    }
   ],
   "source": [
    "Test.hello()"
   ]
  },
  {
   "cell_type": "code",
   "execution_count": 21,
   "id": "0eab2e31",
   "metadata": {},
   "outputs": [
    {
     "data": {
      "text/plain": [
       "<bound method Test.hello of <__main__.Test object at 0x7efeab8b9c90>>"
      ]
     },
     "execution_count": 21,
     "metadata": {},
     "output_type": "execute_result"
    }
   ],
   "source": [
    "t.hello"
   ]
  },
  {
   "cell_type": "code",
   "execution_count": 22,
   "id": "ef0c4cf9",
   "metadata": {},
   "outputs": [
    {
     "name": "stdout",
     "output_type": "stream",
     "text": [
      "Hello from <__main__.Test object at 0x7efeab8b9c90>\n"
     ]
    }
   ],
   "source": [
    "t.hello()"
   ]
  },
  {
   "cell_type": "code",
   "execution_count": 41,
   "id": "3df6f0d3",
   "metadata": {},
   "outputs": [],
   "source": [
    "class Test1:\n",
    "    def instance_method(self):\n",
    "        print(\"Hello from {}\".format(self))\n",
    "    @classmethod\n",
    "    def class_method(cls):\n",
    "        print(\"Hello from {}\".format(cls))\n",
    "    @staticmethod\n",
    "    def static_method():\n",
    "        print(\"Called from class Test\")"
   ]
  },
  {
   "cell_type": "code",
   "execution_count": 42,
   "id": "3e7da8b4",
   "metadata": {},
   "outputs": [],
   "source": [
    "t1=Test1()"
   ]
  },
  {
   "cell_type": "code",
   "execution_count": 43,
   "id": "2281c9a3",
   "metadata": {},
   "outputs": [
    {
     "data": {
      "text/plain": [
       "<__main__.Test1 at 0x7efeab6a9110>"
      ]
     },
     "execution_count": 43,
     "metadata": {},
     "output_type": "execute_result"
    }
   ],
   "source": [
    "t1"
   ]
  },
  {
   "cell_type": "code",
   "execution_count": 44,
   "id": "42b6fe8c",
   "metadata": {},
   "outputs": [
    {
     "data": {
      "text/plain": [
       "<bound method Test1.instance_method of <__main__.Test1 object at 0x7efeab6a9110>>"
      ]
     },
     "execution_count": 44,
     "metadata": {},
     "output_type": "execute_result"
    }
   ],
   "source": [
    "t1.instance_method"
   ]
  },
  {
   "cell_type": "code",
   "execution_count": 45,
   "id": "16896f3d",
   "metadata": {},
   "outputs": [
    {
     "data": {
      "text/plain": [
       "<bound method Test1.class_method of <class '__main__.Test1'>>"
      ]
     },
     "execution_count": 45,
     "metadata": {},
     "output_type": "execute_result"
    }
   ],
   "source": [
    "t1.class_method"
   ]
  },
  {
   "cell_type": "code",
   "execution_count": 46,
   "id": "b2c9b149",
   "metadata": {},
   "outputs": [
    {
     "data": {
      "text/plain": [
       "<function __main__.Test1.static_method()>"
      ]
     },
     "execution_count": 46,
     "metadata": {},
     "output_type": "execute_result"
    }
   ],
   "source": [
    "t1.static_method"
   ]
  },
  {
   "cell_type": "code",
   "execution_count": 47,
   "id": "cbd66e13",
   "metadata": {},
   "outputs": [
    {
     "data": {
      "text/plain": [
       "<bound method Test1.class_method of <class '__main__.Test1'>>"
      ]
     },
     "execution_count": 47,
     "metadata": {},
     "output_type": "execute_result"
    }
   ],
   "source": [
    "Test1.class_method"
   ]
  },
  {
   "cell_type": "code",
   "execution_count": 48,
   "id": "f3cd0f51",
   "metadata": {},
   "outputs": [
    {
     "data": {
      "text/plain": [
       "<function __main__.Test1.static_method()>"
      ]
     },
     "execution_count": 48,
     "metadata": {},
     "output_type": "execute_result"
    }
   ],
   "source": [
    "Test1.static_method"
   ]
  },
  {
   "cell_type": "code",
   "execution_count": 49,
   "id": "0b2e60b8",
   "metadata": {},
   "outputs": [],
   "source": [
    "t2=Test1()"
   ]
  },
  {
   "cell_type": "code",
   "execution_count": 50,
   "id": "e153487f",
   "metadata": {},
   "outputs": [
    {
     "ename": "TypeError",
     "evalue": "unsupported operand type(s) for +: 'Test1' and 'Test1'",
     "output_type": "error",
     "traceback": [
      "\u001b[0;31m---------------------------------------------------------------------------\u001b[0m",
      "\u001b[0;31mTypeError\u001b[0m                                 Traceback (most recent call last)",
      "\u001b[0;32m/tmp/ipykernel_93424/551289101.py\u001b[0m in \u001b[0;36m<module>\u001b[0;34m\u001b[0m\n\u001b[0;32m----> 1\u001b[0;31m \u001b[0mt1\u001b[0m\u001b[0;34m+\u001b[0m\u001b[0mt2\u001b[0m\u001b[0;34m\u001b[0m\u001b[0;34m\u001b[0m\u001b[0m\n\u001b[0m",
      "\u001b[0;31mTypeError\u001b[0m: unsupported operand type(s) for +: 'Test1' and 'Test1'"
     ]
    }
   ],
   "source": [
    "t1+t2"
   ]
  },
  {
   "cell_type": "code",
   "execution_count": 51,
   "id": "49fa8e61",
   "metadata": {},
   "outputs": [
    {
     "name": "stdout",
     "output_type": "stream",
     "text": [
      "['__class__', '__delattr__', '__dict__', '__dir__', '__doc__', '__eq__', '__format__', '__ge__', '__getattribute__', '__gt__', '__hash__', '__init__', '__init_subclass__', '__le__', '__lt__', '__module__', '__ne__', '__new__', '__reduce__', '__reduce_ex__', '__repr__', '__setattr__', '__sizeof__', '__str__', '__subclasshook__', '__weakref__', 'class_method', 'instance_method', 'static_method']\n"
     ]
    }
   ],
   "source": [
    "print(dir(Test1))"
   ]
  },
  {
   "cell_type": "markdown",
   "id": "0c6b58f9",
   "metadata": {},
   "source": [
    "### Adding two objects by overriding __add__"
   ]
  },
  {
   "cell_type": "code",
   "execution_count": 77,
   "id": "acf99f13",
   "metadata": {},
   "outputs": [],
   "source": [
    "class Test2:\n",
    "    def __init__(self,name):\n",
    "        self.name=name\n",
    "    def __add__(self,other_obj):\n",
    "        c = Test2(self.name+\" \"+other_obj.name)\n",
    "        return c\n",
    "    def show(self):\n",
    "        print(\"Hello {}\".format(self.name))"
   ]
  },
  {
   "cell_type": "code",
   "execution_count": 78,
   "id": "12bcb1d8",
   "metadata": {},
   "outputs": [
    {
     "name": "stdout",
     "output_type": "stream",
     "text": [
      "Hello Hi\n"
     ]
    }
   ],
   "source": [
    "t11=Test2(\"Hi\")\n",
    "t11.show()"
   ]
  },
  {
   "cell_type": "code",
   "execution_count": 79,
   "id": "c207c4cf",
   "metadata": {},
   "outputs": [
    {
     "name": "stdout",
     "output_type": "stream",
     "text": [
      "Hello Hello\n"
     ]
    }
   ],
   "source": [
    "t22=Test2(\"Hello\")\n",
    "t22.show()"
   ]
  },
  {
   "cell_type": "code",
   "execution_count": 80,
   "id": "ac03271e",
   "metadata": {},
   "outputs": [
    {
     "name": "stdout",
     "output_type": "stream",
     "text": [
      "Hello Hi Hello\n"
     ]
    }
   ],
   "source": [
    "t3=t11+t22\n",
    "t3.show()"
   ]
  },
  {
   "cell_type": "code",
   "execution_count": 81,
   "id": "34486ee6",
   "metadata": {},
   "outputs": [],
   "source": [
    "class Bucket:\n",
    "    def __init__(self,name):\n",
    "        self.name=name\n",
    "    def __repr__(self):\n",
    "        return f'Bucket(self,name)'\n",
    "    def __add__(self,obj):\n",
    "        return self.name+obj.name"
   ]
  },
  {
   "cell_type": "markdown",
   "id": "becf32f7",
   "metadata": {},
   "source": [
    "### Create a class square that gives you a list of first n squares"
   ]
  },
  {
   "cell_type": "code",
   "execution_count": 87,
   "id": "8a5e9a77",
   "metadata": {},
   "outputs": [],
   "source": [
    "class Squares:\n",
    "    def __init__(self,n):\n",
    "        self.n=n\n",
    "    def __call__(self):\n",
    "        return [i**2 for i in range(self.n)]"
   ]
  },
  {
   "cell_type": "code",
   "execution_count": 93,
   "id": "afa259cd",
   "metadata": {},
   "outputs": [
    {
     "data": {
      "text/plain": [
       "[0, 1, 4]"
      ]
     },
     "execution_count": 93,
     "metadata": {},
     "output_type": "execute_result"
    }
   ],
   "source": [
    "Squares(3)()\n",
    "4"
   ]
  },
  {
   "cell_type": "markdown",
   "id": "da9e5895",
   "metadata": {},
   "source": [
    "### Create a class container that gives you a two digit number everytime you call its object"
   ]
  },
  {
   "cell_type": "code",
   "execution_count": 89,
   "id": "ba9741ee",
   "metadata": {},
   "outputs": [],
   "source": [
    "import random\n",
    "class Container:\n",
    "    def __call__(self):\n",
    "        return random.randrange(10,99)"
   ]
  },
  {
   "cell_type": "code",
   "execution_count": 96,
   "id": "c46f782a",
   "metadata": {},
   "outputs": [
    {
     "name": "stdout",
     "output_type": "stream",
     "text": [
      "65\n"
     ]
    }
   ],
   "source": [
    "print(Container()())"
   ]
  },
  {
   "cell_type": "code",
   "execution_count": 98,
   "id": "aca519b4",
   "metadata": {},
   "outputs": [
    {
     "name": "stdout",
     "output_type": "stream",
     "text": [
      "['__call__', '__class__', '__delattr__', '__dict__', '__dir__', '__doc__', '__eq__', '__format__', '__ge__', '__getattribute__', '__gt__', '__hash__', '__init__', '__init_subclass__', '__le__', '__lt__', '__module__', '__ne__', '__new__', '__reduce__', '__reduce_ex__', '__repr__', '__setattr__', '__sizeof__', '__str__', '__subclasshook__', '__weakref__']\n"
     ]
    }
   ],
   "source": [
    "print(dir(Container))"
   ]
  },
  {
   "cell_type": "markdown",
   "id": "998015a8",
   "metadata": {},
   "source": [
    "### Using __next__ dunder"
   ]
  },
  {
   "cell_type": "code",
   "execution_count": 103,
   "id": "250b60ff",
   "metadata": {},
   "outputs": [],
   "source": [
    "import random\n",
    "class Container:\n",
    "    def __next__(self):\n",
    "        return random.randrange(10,99)"
   ]
  },
  {
   "cell_type": "code",
   "execution_count": 104,
   "id": "144b791b",
   "metadata": {},
   "outputs": [],
   "source": [
    "c1=Container()"
   ]
  },
  {
   "cell_type": "code",
   "execution_count": 105,
   "id": "634526a6",
   "metadata": {},
   "outputs": [
    {
     "data": {
      "text/plain": [
       "23"
      ]
     },
     "execution_count": 105,
     "metadata": {},
     "output_type": "execute_result"
    }
   ],
   "source": [
    "next(c1)"
   ]
  },
  {
   "cell_type": "code",
   "execution_count": 106,
   "id": "8d39503e",
   "metadata": {},
   "outputs": [
    {
     "data": {
      "text/plain": [
       "85"
      ]
     },
     "execution_count": 106,
     "metadata": {},
     "output_type": "execute_result"
    }
   ],
   "source": [
    "next(c1)"
   ]
  },
  {
   "cell_type": "code",
   "execution_count": 117,
   "id": "cc215b99",
   "metadata": {},
   "outputs": [
    {
     "name": "stdout",
     "output_type": "stream",
     "text": [
      "57\t44\t98\t30\t65\t87\t76\t81\t36\t95\t94\t98\t15\t25\t82\t40\t79\t45\t74\t17\t34\t18\t19\t18\t93\t87\t34\t13\t21\t52\t51\t70\t25\t61\t57\t70\t35\t97\t51\t16\t35\t52\t90\t48\t77\t34\t74\t64\t67\t49\t30\t93\t98\t25\t90\t39\t66\t29\t36\t41\t81\t26\t10\t77\t79\t49\t62\t78\t81\t80\t54\t23\t16\t11\t27\t13\t79\t92\t97\t13\t48\t59\t37\t14\t64\t51\t33\t61\t38\t25\t66\t53\t52\t56\t20\t66\t97\t43\t39\t74\t"
     ]
    },
    {
     "data": {
      "text/plain": [
       "100"
      ]
     },
     "execution_count": 117,
     "metadata": {},
     "output_type": "execute_result"
    }
   ],
   "source": [
    "c=0\n",
    "for _ in range(100):\n",
    "    print(next(c1),end='\\t')\n",
    "    c+=1\n",
    "c"
   ]
  },
  {
   "cell_type": "code",
   "execution_count": 118,
   "id": "cc949adb",
   "metadata": {},
   "outputs": [
    {
     "name": "stdout",
     "output_type": "stream",
     "text": [
      "53\t88\t80\t34\t63\t90\t77\t10\t63\t49\t88\t80\t62\t58\t97\t78\t10\t69\t15\t26\t22\t97\t51\t40\t70\t91\t21\t14\t33\t90\t42\t65\t47\t63\t57\t98\t82\t60\t92\t25\t62\t53\t48\t18\t54\t92\t82\t35\t69\t96\t67\t74\t87\t98\t55\t79\t28\t64\t34\t47\t80\t47\t71\t28\t51\t26\t24\t47\t89\t67\t69\t83\t65\t13\t30\t98\t43\t84\t63\t56\t14\t66\t60\t87\t72\t75\t24\t87\t83\t55\t48\t73\t44\t31\t78\t87\t26\t11\t75\t79\t"
     ]
    }
   ],
   "source": [
    "i=0\n",
    "while(i<100):\n",
    "    print(next(c1),end='\\t')\n",
    "    i+=1"
   ]
  },
  {
   "cell_type": "markdown",
   "id": "9431cd9f",
   "metadata": {},
   "source": [
    "### Make the Container Finite \n",
    "            * You have to raise a StopIteration Exception"
   ]
  },
  {
   "cell_type": "code",
   "execution_count": 119,
   "id": "5e59e3dd",
   "metadata": {
    "collapsed": true
   },
   "outputs": [
    {
     "name": "stdout",
     "output_type": "stream",
     "text": [
      "Help on class StopIteration in module builtins:\n",
      "\n",
      "class StopIteration(Exception)\n",
      " |  Signal the end from iterator.__next__().\n",
      " |  \n",
      " |  Method resolution order:\n",
      " |      StopIteration\n",
      " |      Exception\n",
      " |      BaseException\n",
      " |      object\n",
      " |  \n",
      " |  Methods defined here:\n",
      " |  \n",
      " |  __init__(self, /, *args, **kwargs)\n",
      " |      Initialize self.  See help(type(self)) for accurate signature.\n",
      " |  \n",
      " |  ----------------------------------------------------------------------\n",
      " |  Data descriptors defined here:\n",
      " |  \n",
      " |  value\n",
      " |      generator return value\n",
      " |  \n",
      " |  ----------------------------------------------------------------------\n",
      " |  Static methods inherited from Exception:\n",
      " |  \n",
      " |  __new__(*args, **kwargs) from builtins.type\n",
      " |      Create and return a new object.  See help(type) for accurate signature.\n",
      " |  \n",
      " |  ----------------------------------------------------------------------\n",
      " |  Methods inherited from BaseException:\n",
      " |  \n",
      " |  __delattr__(self, name, /)\n",
      " |      Implement delattr(self, name).\n",
      " |  \n",
      " |  __getattribute__(self, name, /)\n",
      " |      Return getattr(self, name).\n",
      " |  \n",
      " |  __reduce__(...)\n",
      " |      Helper for pickle.\n",
      " |  \n",
      " |  __repr__(self, /)\n",
      " |      Return repr(self).\n",
      " |  \n",
      " |  __setattr__(self, name, value, /)\n",
      " |      Implement setattr(self, name, value).\n",
      " |  \n",
      " |  __setstate__(...)\n",
      " |  \n",
      " |  __str__(self, /)\n",
      " |      Return str(self).\n",
      " |  \n",
      " |  with_traceback(...)\n",
      " |      Exception.with_traceback(tb) --\n",
      " |      set self.__traceback__ to tb and return self.\n",
      " |  \n",
      " |  ----------------------------------------------------------------------\n",
      " |  Data descriptors inherited from BaseException:\n",
      " |  \n",
      " |  __cause__\n",
      " |      exception cause\n",
      " |  \n",
      " |  __context__\n",
      " |      exception context\n",
      " |  \n",
      " |  __dict__\n",
      " |  \n",
      " |  __suppress_context__\n",
      " |  \n",
      " |  __traceback__\n",
      " |  \n",
      " |  args\n",
      "\n"
     ]
    }
   ],
   "source": [
    "help(StopIteration)"
   ]
  },
  {
   "cell_type": "code",
   "execution_count": 124,
   "id": "f350fb32",
   "metadata": {},
   "outputs": [
    {
     "name": "stdout",
     "output_type": "stream",
     "text": [
      "1\n",
      "2\n",
      "3\n",
      "4\n",
      "5\n",
      "6\n",
      "7\n",
      "8\n",
      "9\n",
      "10\n",
      "11\n",
      "12\n",
      "13\n",
      "14\n",
      "15\n",
      "16\n",
      "17\n",
      "18\n",
      "19\n",
      "20\n"
     ]
    }
   ],
   "source": [
    "class MyNumbers:\n",
    "    def __iter__(self):\n",
    "        self.a = 1\n",
    "        return self\n",
    "\n",
    "    def __next__(self):\n",
    "        if self.a <= 20:\n",
    "            x = self.a\n",
    "            self.a += 1\n",
    "            return x\n",
    "        else:\n",
    "            raise StopIteration\n",
    "\n",
    "myclass = MyNumbers()\n",
    "myiter = iter(myclass)\n",
    "\n",
    "for x in myiter:\n",
    "    print(x)\n",
    "\n",
    "        "
   ]
  },
  {
   "cell_type": "markdown",
   "id": "cbdcb591",
   "metadata": {},
   "source": [
    "### Create a class that helps you to create a FriendsList. Should have methods to update and delete Friendslist."
   ]
  },
  {
   "cell_type": "code",
   "execution_count": 157,
   "id": "7515aaa9",
   "metadata": {},
   "outputs": [],
   "source": [
    "class MyFriends:\n",
    "    def __init__(self,l):\n",
    "        self.l=l\n",
    "    def update(self,name):\n",
    "        self.l.append(name)\n",
    "    def __getitem__(self,i):\n",
    "        return self.l[i]\n",
    "    def delete(self):\n",
    "        del self.l\n",
    "        print(\"List deleted\")\n",
    "        \n",
    "        \n",
    "        \n",
    "        "
   ]
  },
  {
   "cell_type": "code",
   "execution_count": 158,
   "id": "262e20f7",
   "metadata": {},
   "outputs": [],
   "source": [
    "friends1=MyFriends([\"Dilip\",\"Teju\",\"Saurav\"])"
   ]
  },
  {
   "cell_type": "code",
   "execution_count": 159,
   "id": "809ae4be",
   "metadata": {},
   "outputs": [
    {
     "data": {
      "text/plain": [
       "'Teju'"
      ]
     },
     "execution_count": 159,
     "metadata": {},
     "output_type": "execute_result"
    }
   ],
   "source": [
    "friends1[1]"
   ]
  },
  {
   "cell_type": "code",
   "execution_count": 160,
   "id": "42a40923",
   "metadata": {},
   "outputs": [
    {
     "data": {
      "text/plain": [
       "['Dilip', 'Teju']"
      ]
     },
     "execution_count": 160,
     "metadata": {},
     "output_type": "execute_result"
    }
   ],
   "source": [
    "friends1[:2]"
   ]
  },
  {
   "cell_type": "code",
   "execution_count": 153,
   "id": "06ae5b30",
   "metadata": {},
   "outputs": [
    {
     "name": "stdout",
     "output_type": "stream",
     "text": [
      "List deleted\n"
     ]
    }
   ],
   "source": [
    "friends1.delete()"
   ]
  },
  {
   "cell_type": "code",
   "execution_count": 156,
   "id": "4071af07",
   "metadata": {},
   "outputs": [
    {
     "ename": "AttributeError",
     "evalue": "'MyFriends' object has no attribute 'l'",
     "output_type": "error",
     "traceback": [
      "\u001b[0;31m---------------------------------------------------------------------------\u001b[0m",
      "\u001b[0;31mAttributeError\u001b[0m                            Traceback (most recent call last)",
      "\u001b[0;32m/tmp/ipykernel_93424/1498674062.py\u001b[0m in \u001b[0;36m<module>\u001b[0;34m\u001b[0m\n\u001b[0;32m----> 1\u001b[0;31m \u001b[0mfriends1\u001b[0m\u001b[0;34m[\u001b[0m\u001b[0;36m1\u001b[0m\u001b[0;34m]\u001b[0m\u001b[0;34m\u001b[0m\u001b[0;34m\u001b[0m\u001b[0m\n\u001b[0m",
      "\u001b[0;32m/tmp/ipykernel_93424/90467195.py\u001b[0m in \u001b[0;36m__getitem__\u001b[0;34m(self, i)\u001b[0m\n\u001b[1;32m      5\u001b[0m         \u001b[0mself\u001b[0m\u001b[0;34m.\u001b[0m\u001b[0ml\u001b[0m\u001b[0;34m.\u001b[0m\u001b[0mappend\u001b[0m\u001b[0;34m(\u001b[0m\u001b[0mname\u001b[0m\u001b[0;34m)\u001b[0m\u001b[0;34m\u001b[0m\u001b[0;34m\u001b[0m\u001b[0m\n\u001b[1;32m      6\u001b[0m     \u001b[0;32mdef\u001b[0m \u001b[0m__getitem__\u001b[0m\u001b[0;34m(\u001b[0m\u001b[0mself\u001b[0m\u001b[0;34m,\u001b[0m\u001b[0mi\u001b[0m\u001b[0;34m)\u001b[0m\u001b[0;34m:\u001b[0m\u001b[0;34m\u001b[0m\u001b[0;34m\u001b[0m\u001b[0m\n\u001b[0;32m----> 7\u001b[0;31m         \u001b[0;32mreturn\u001b[0m \u001b[0mself\u001b[0m\u001b[0;34m.\u001b[0m\u001b[0ml\u001b[0m\u001b[0;34m[\u001b[0m\u001b[0mi\u001b[0m\u001b[0;34m]\u001b[0m\u001b[0;34m\u001b[0m\u001b[0;34m\u001b[0m\u001b[0m\n\u001b[0m\u001b[1;32m      8\u001b[0m     \u001b[0;32mdef\u001b[0m \u001b[0mdelete\u001b[0m\u001b[0;34m(\u001b[0m\u001b[0mself\u001b[0m\u001b[0;34m)\u001b[0m\u001b[0;34m:\u001b[0m\u001b[0;34m\u001b[0m\u001b[0;34m\u001b[0m\u001b[0m\n\u001b[1;32m      9\u001b[0m         \u001b[0;32mdel\u001b[0m \u001b[0mself\u001b[0m\u001b[0;34m.\u001b[0m\u001b[0ml\u001b[0m\u001b[0;34m\u001b[0m\u001b[0;34m\u001b[0m\u001b[0m\n",
      "\u001b[0;31mAttributeError\u001b[0m: 'MyFriends' object has no attribute 'l'"
     ]
    }
   ],
   "source": [
    "friends1[1]"
   ]
  },
  {
   "cell_type": "code",
   "execution_count": 162,
   "id": "3719f073",
   "metadata": {},
   "outputs": [],
   "source": [
    "import functools"
   ]
  },
  {
   "cell_type": "code",
   "execution_count": 163,
   "id": "ec2b0566",
   "metadata": {},
   "outputs": [
    {
     "name": "stdout",
     "output_type": "stream",
     "text": [
      "['RLock', 'WRAPPER_ASSIGNMENTS', 'WRAPPER_UPDATES', '_CacheInfo', '_HashedSeq', '__all__', '__builtins__', '__cached__', '__doc__', '__file__', '__loader__', '__name__', '__package__', '__spec__', '_c3_merge', '_c3_mro', '_compose_mro', '_convert', '_find_impl', '_ge_from_gt', '_ge_from_le', '_ge_from_lt', '_gt_from_ge', '_gt_from_le', '_gt_from_lt', '_le_from_ge', '_le_from_gt', '_le_from_lt', '_lru_cache_wrapper', '_lt_from_ge', '_lt_from_gt', '_lt_from_le', '_make_key', 'cmp_to_key', 'get_cache_token', 'lru_cache', 'namedtuple', 'partial', 'partialmethod', 'recursive_repr', 'reduce', 'singledispatch', 'total_ordering', 'update_wrapper', 'wraps']\n"
     ]
    }
   ],
   "source": [
    "print(dir(functools))"
   ]
  },
  {
   "cell_type": "code",
   "execution_count": 168,
   "id": "92b03eef",
   "metadata": {},
   "outputs": [
    {
     "name": "stdout",
     "output_type": "stream",
     "text": [
      "No Python documentation found for '/home/unnathi/anaconda3/lib/python3.7/__pycache__/functools.cpython-37.pyc'.\n",
      "Use help() to get the interactive help utility.\n",
      "Use help(str) for help on the str class.\n",
      "\n"
     ]
    }
   ],
   "source": [
    "help(functools.__cached__)"
   ]
  },
  {
   "cell_type": "code",
   "execution_count": 170,
   "id": "80e3e9f1",
   "metadata": {},
   "outputs": [
    {
     "name": "stdout",
     "output_type": "stream",
     "text": [
      "Help on function namedtuple in module collections:\n",
      "\n",
      "namedtuple(typename, field_names, *, rename=False, defaults=None, module=None)\n",
      "    Returns a new subclass of tuple with named fields.\n",
      "    \n",
      "    >>> Point = namedtuple('Point', ['x', 'y'])\n",
      "    >>> Point.__doc__                   # docstring for the new class\n",
      "    'Point(x, y)'\n",
      "    >>> p = Point(11, y=22)             # instantiate with positional args or keywords\n",
      "    >>> p[0] + p[1]                     # indexable like a plain tuple\n",
      "    33\n",
      "    >>> x, y = p                        # unpack like a regular tuple\n",
      "    >>> x, y\n",
      "    (11, 22)\n",
      "    >>> p.x + p.y                       # fields also accessible by name\n",
      "    33\n",
      "    >>> d = p._asdict()                 # convert to a dictionary\n",
      "    >>> d['x']\n",
      "    11\n",
      "    >>> Point(**d)                      # convert from a dictionary\n",
      "    Point(x=11, y=22)\n",
      "    >>> p._replace(x=100)               # _replace() is like str.replace() but targets named fields\n",
      "    Point(x=100, y=22)\n",
      "\n"
     ]
    }
   ],
   "source": [
    "help(functools.namedtuple)"
   ]
  },
  {
   "cell_type": "code",
   "execution_count": 175,
   "id": "f853c4c0",
   "metadata": {},
   "outputs": [
    {
     "name": "stdout",
     "output_type": "stream",
     "text": [
      "The Student age using index is : "
     ]
    },
    {
     "ename": "NameError",
     "evalue": "name 'Students' is not defined",
     "output_type": "error",
     "traceback": [
      "\u001b[0;31m---------------------------------------------------------------------------\u001b[0m",
      "\u001b[0;31mNameError\u001b[0m                                 Traceback (most recent call last)",
      "\u001b[0;32m/tmp/ipykernel_93424/1282302324.py\u001b[0m in \u001b[0;36m<module>\u001b[0;34m\u001b[0m\n\u001b[1;32m     11\u001b[0m \u001b[0;31m# Access using index\u001b[0m\u001b[0;34m\u001b[0m\u001b[0;34m\u001b[0m\u001b[0;34m\u001b[0m\u001b[0m\n\u001b[1;32m     12\u001b[0m \u001b[0mprint\u001b[0m\u001b[0;34m(\u001b[0m\u001b[0;34m\"The Student age using index is : \"\u001b[0m\u001b[0;34m,\u001b[0m \u001b[0mend\u001b[0m\u001b[0;34m=\u001b[0m\u001b[0;34m\"\"\u001b[0m\u001b[0;34m)\u001b[0m\u001b[0;34m\u001b[0m\u001b[0;34m\u001b[0m\u001b[0m\n\u001b[0;32m---> 13\u001b[0;31m \u001b[0mprint\u001b[0m\u001b[0;34m(\u001b[0m\u001b[0mStudents\u001b[0m\u001b[0;34m[\u001b[0m\u001b[0;36m1\u001b[0m\u001b[0;34m]\u001b[0m\u001b[0;34m)\u001b[0m\u001b[0;34m\u001b[0m\u001b[0;34m\u001b[0m\u001b[0m\n\u001b[0m\u001b[1;32m     14\u001b[0m \u001b[0;34m\u001b[0m\u001b[0m\n\u001b[1;32m     15\u001b[0m \u001b[0;31m# Access using name\u001b[0m\u001b[0;34m\u001b[0m\u001b[0;34m\u001b[0m\u001b[0;34m\u001b[0m\u001b[0m\n",
      "\u001b[0;31mNameError\u001b[0m: name 'Students' is not defined"
     ]
    }
   ],
   "source": [
    "# Python code to demonstrate namedtuple()\n",
    "\n",
    "from collections import namedtuple\n",
    "\n",
    "# Declaring namedtuple()\n",
    "Student = namedtuple('Students', ['name', 'age', 'DOB'])\n",
    "\n",
    "# Adding values\n",
    "S = Student('Nandini', '19', '2541997')\n",
    "\n",
    "# Access using index\n",
    "print(\"The Student age using index is : \", end=\"\")\n",
    "print(S[1])\n",
    "\n",
    "# Access using name\n",
    "print(\"The Student name using keyname is : \", end=\"\")\n",
    "print(S.name)\n"
   ]
  },
  {
   "cell_type": "code",
   "execution_count": null,
   "id": "c42318dc",
   "metadata": {},
   "outputs": [],
   "source": []
  }
 ],
 "metadata": {
  "kernelspec": {
   "display_name": "Python 3 (ipykernel)",
   "language": "python",
   "name": "python3"
  },
  "language_info": {
   "codemirror_mode": {
    "name": "ipython",
    "version": 3
   },
   "file_extension": ".py",
   "mimetype": "text/x-python",
   "name": "python",
   "nbconvert_exporter": "python",
   "pygments_lexer": "ipython3",
   "version": "3.7.13"
  }
 },
 "nbformat": 4,
 "nbformat_minor": 5
}
