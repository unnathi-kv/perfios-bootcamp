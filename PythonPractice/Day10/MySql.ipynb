{
 "cells": [
  {
   "cell_type": "markdown",
   "id": "1b782b4a",
   "metadata": {},
   "source": [
    "## Accessing MySql objects through python"
   ]
  },
  {
   "cell_type": "code",
   "execution_count": 1,
   "id": "2993e5df",
   "metadata": {},
   "outputs": [
    {
     "name": "stdout",
     "output_type": "stream",
     "text": [
      "Collecting mysql-connector-python\n",
      "  Downloading mysql_connector_python-8.0.31-cp37-cp37m-manylinux1_x86_64.whl (23.5 MB)\n",
      "\u001b[2K     \u001b[38;2;114;156;31m━━━━━━━━━━━━━━━━━━━━━━━━━━━━━━━━━━━━━━━━\u001b[0m \u001b[32m23.5/23.5 MB\u001b[0m \u001b[31m11.3 MB/s\u001b[0m eta \u001b[36m0:00:00\u001b[0mm eta \u001b[36m0:00:01\u001b[0m0:01\u001b[0m:01\u001b[0m\n",
      "\u001b[?25hRequirement already satisfied: protobuf<=3.20.1,>=3.11.0 in /home/unnathi/anaconda3/lib/python3.7/site-packages (from mysql-connector-python) (3.20.1)\n",
      "Installing collected packages: mysql-connector-python\n",
      "Successfully installed mysql-connector-python-8.0.31\n",
      "Note: you may need to restart the kernel to use updated packages.\n"
     ]
    }
   ],
   "source": [
    "pip install mysql-connector-python"
   ]
  },
  {
   "cell_type": "markdown",
   "id": "0497bb7f",
   "metadata": {},
   "source": [
    "#### MVC - Model View Controller\n",
    "#### ORM - Object Relational Model"
   ]
  },
  {
   "cell_type": "markdown",
   "id": "cd6ddf60",
   "metadata": {},
   "source": [
    "### Importing requried libraries"
   ]
  },
  {
   "cell_type": "code",
   "execution_count": 51,
   "id": "500980e4",
   "metadata": {},
   "outputs": [],
   "source": [
    "import mysql.connector"
   ]
  },
  {
   "cell_type": "code",
   "execution_count": 52,
   "id": "bec2f2bf",
   "metadata": {},
   "outputs": [
    {
     "data": {
      "text/plain": [
       "<mysql.connector.connection_cext.CMySQLConnection at 0x7f839a56b390>"
      ]
     },
     "execution_count": 52,
     "metadata": {},
     "output_type": "execute_result"
    }
   ],
   "source": [
    "# connect() - will open a connection to a  MySQL server and return a MySQLConnection object.\n",
    "database = mysql.connector.connect(host=\"localhost\",database=\"pytrain\",user=\"root\",password=\"password\") \n",
    "database"
   ]
  },
  {
   "cell_type": "code",
   "execution_count": 10,
   "id": "7b1b57bc",
   "metadata": {
    "collapsed": true
   },
   "outputs": [
    {
     "name": "stdout",
     "output_type": "stream",
     "text": [
      "Help on function connect in module mysql.connector.pooling:\n",
      "\n",
      "connect(*args, **kwargs)\n",
      "    Create or get a MySQL connection object.\n",
      "    \n",
      "    In its simpliest form, connect() will open a connection to a\n",
      "    MySQL server and return a MySQLConnection object.\n",
      "    \n",
      "    When any connection pooling arguments are given, for example pool_name\n",
      "    or pool_size, a pool is created or a previously one is used to return\n",
      "    a PooledMySQLConnection.\n",
      "    \n",
      "    Returns MySQLConnection or PooledMySQLConnection.\n",
      "\n"
     ]
    }
   ],
   "source": [
    "help(mysql.connector.connect)"
   ]
  },
  {
   "cell_type": "code",
   "execution_count": 53,
   "id": "0769c720",
   "metadata": {},
   "outputs": [],
   "source": [
    "# preparing a cursor object\n",
    "cursorObject=database.cursor()"
   ]
  },
  {
   "cell_type": "code",
   "execution_count": null,
   "id": "75aadf73",
   "metadata": {},
   "outputs": [],
   "source": [
    "# creating a database \n",
    "# cursorObject.execute(\"create database pytrain\")"
   ]
  },
  {
   "cell_type": "code",
   "execution_count": 34,
   "id": "19326737",
   "metadata": {},
   "outputs": [],
   "source": [
    "# creating a table \n",
    "studentRecord = \"\"\" create table student(name varchar(40) not null ,branch varchar(60),roll int not null,\n",
    "section varchar(40),age int ) \"\"\"\n",
    "cursorObject.execute(studentRecord)"
   ]
  },
  {
   "cell_type": "code",
   "execution_count": 54,
   "id": "cf25bbb8",
   "metadata": {},
   "outputs": [],
   "source": [
    "# disconnecting from server\n",
    "database.close()"
   ]
  },
  {
   "cell_type": "code",
   "execution_count": 37,
   "id": "ef2228af",
   "metadata": {},
   "outputs": [],
   "source": [
    "# Insert data into tables : \n",
    "# Example1 : Inserting Single Row - use execute() method\n",
    "db = mysql.connector.connect(host=\"localhost\",database=\"pytrain\",user=\"root\",password=\"password\") \n",
    "curObject=db.cursor()\n",
    "sql=\"\"\" insert into student(name,branch,roll,section,age) values(%s,%s,%s,%s,%s)\"\"\"\n",
    "val=(\"Joshua\",\"CSE\",\"17\",\"K\",\"25\")\n",
    "curObject.execute(sql,val)\n",
    "db.commit()\n",
    "db.close()"
   ]
  },
  {
   "cell_type": "code",
   "execution_count": 40,
   "id": "8fca208a",
   "metadata": {},
   "outputs": [],
   "source": [
    "# Example2 : Inserting mutliple rows - use executemany() method\n",
    "db = mysql.connector.connect(host=\"localhost\",database=\"pytrain\",user=\"root\",password=\"password\") \n",
    "curObject=db.cursor()\n",
    "sql=\"\"\" insert into student(name,branch,roll,section,age) values(%s,%s,%s,%s,%s)\"\"\"\n",
    "val=[(\"Vernon\",\"CSE\",\"18\",\"A\",\"22\"),(\"Scoups\",\"ISE\",\"19\",\"B\",\"27\"),(\"Mingyu\",\"Mech.\",\"20\",\"C\",\"25\")]\n",
    "curObject.executemany(sql,val)\n",
    "db.commit()\n",
    "db.close()"
   ]
  },
  {
   "cell_type": "code",
   "execution_count": 57,
   "id": "2111c8c9",
   "metadata": {},
   "outputs": [
    {
     "data": {
      "text/plain": [
       "[('Joshua', 'CSE', 17, 'K', 25),\n",
       " ('Vernon', 'CSE', 18, 'A', 22),\n",
       " ('Scoups', 'ISE', 19, 'B', 27),\n",
       " ('Mingyu', 'Mech.', 20, 'C', 25)]"
      ]
     },
     "execution_count": 57,
     "metadata": {},
     "output_type": "execute_result"
    }
   ],
   "source": [
    "# Fetching values from database - use fetchall() method\n",
    "db = mysql.connector.connect(host=\"localhost\",database=\"pytrain\",user=\"root\",password=\"password\") \n",
    "curObject=db.cursor()\n",
    "curObject.execute(\"select * from student\")\n",
    "c=curObject.fetchall()\n",
    "c\n"
   ]
  },
  {
   "cell_type": "code",
   "execution_count": 58,
   "id": "61598959",
   "metadata": {},
   "outputs": [
    {
     "name": "stdout",
     "output_type": "stream",
     "text": [
      "('Joshua', 17)\n",
      "('Vernon', 18)\n",
      "('Scoups', 19)\n",
      "('Mingyu', 20)\n"
     ]
    }
   ],
   "source": [
    "# Fetching two columns from database\n",
    "query=\"\"\" select name,roll from student \"\"\"\n",
    "curObject.execute(query)\n",
    "myresult=curObject.fetchall()\n",
    "for i in myresult:\n",
    "    print(i)\n",
    "db.close()"
   ]
  },
  {
   "cell_type": "code",
   "execution_count": 60,
   "id": "2e66ed8b",
   "metadata": {},
   "outputs": [],
   "source": [
    "# Self-Join - A table joins itself is called self join\n",
    "db = mysql.connector.connect(host=\"localhost\",database=\"pytrain\",user=\"root\",password=\"password\") \n",
    "curObject=db.cursor()\n",
    "empRecord = \"\"\" create table emp(empid int not null,\n",
    "name varchar(40),mgrid int ) \"\"\"\n",
    "curObject.execute(empRecord)\n"
   ]
  },
  {
   "cell_type": "code",
   "execution_count": 63,
   "id": "e1cc59c6",
   "metadata": {},
   "outputs": [],
   "source": [
    "sql=\"\"\" insert into emp(empid,name,mgrid) values(%s,%s,%s)\"\"\"\n",
    "val=[(\"10\",\"A\",\"20\"),(\"20\",\"B\",\"30\"),(\"30\",\"C\",\"10\"),(\"40\",\"D\",\"15\")]\n",
    "curObject.executemany(sql,val)\n",
    "db.commit()\n",
    "db.close()"
   ]
  },
  {
   "cell_type": "code",
   "execution_count": 68,
   "id": "bbf1ca10",
   "metadata": {},
   "outputs": [
    {
     "data": {
      "text/plain": [
       "[(10, 'A', 20),\n",
       " (20, 'B', 30),\n",
       " (30, 'C', 10),\n",
       " (10, 'A', 20),\n",
       " (20, 'B', 30),\n",
       " (30, 'C', 10),\n",
       " (10, 'A', 20),\n",
       " (20, 'B', 30),\n",
       " (30, 'C', 10),\n",
       " (40, 'D', 15)]"
      ]
     },
     "execution_count": 68,
     "metadata": {},
     "output_type": "execute_result"
    }
   ],
   "source": [
    "db = mysql.connector.connect(host=\"localhost\",database=\"pytrain\",user=\"root\",password=\"password\") \n",
    "curObject=db.cursor()\n",
    "curObject.execute(\"select * from emp\")\n",
    "c=curObject.fetchall()\n",
    "c"
   ]
  },
  {
   "cell_type": "code",
   "execution_count": 69,
   "id": "d95c9911",
   "metadata": {},
   "outputs": [
    {
     "name": "stdout",
     "output_type": "stream",
     "text": [
      "(30, 'C', 'A')\n",
      "(30, 'C', 'A')\n",
      "(30, 'C', 'A')\n",
      "(10, 'A', 'B')\n",
      "(10, 'A', 'B')\n",
      "(10, 'A', 'B')\n",
      "(20, 'B', 'C')\n",
      "(20, 'B', 'C')\n",
      "(20, 'B', 'C')\n",
      "(30, 'C', 'A')\n",
      "(30, 'C', 'A')\n",
      "(30, 'C', 'A')\n",
      "(10, 'A', 'B')\n",
      "(10, 'A', 'B')\n",
      "(10, 'A', 'B')\n",
      "(20, 'B', 'C')\n",
      "(20, 'B', 'C')\n",
      "(20, 'B', 'C')\n",
      "(30, 'C', 'A')\n",
      "(30, 'C', 'A')\n",
      "(30, 'C', 'A')\n",
      "(10, 'A', 'B')\n",
      "(10, 'A', 'B')\n",
      "(10, 'A', 'B')\n",
      "(20, 'B', 'C')\n",
      "(20, 'B', 'C')\n",
      "(20, 'B', 'C')\n"
     ]
    }
   ],
   "source": [
    "q1=\"\"\" SELECT a.empid, a.name,b.name\n",
    "FROM emp a , emp b\n",
    "WHERE  a.mgrid=b.empid \"\"\"\n",
    "curObject.execute(q1)\n",
    "myresult=curObject.fetchall()\n",
    "for i in myresult:\n",
    "    print(i)\n",
    "db.close()"
   ]
  },
  {
   "cell_type": "markdown",
   "id": "c53ff231",
   "metadata": {},
   "source": [
    "### Temp Table spaces where order by happens in databases"
   ]
  },
  {
   "cell_type": "code",
   "execution_count": 70,
   "id": "242a9153",
   "metadata": {},
   "outputs": [
    {
     "data": {
      "text/plain": [
       "[('Joshua', 'CSE', 17, 'K', 25),\n",
       " ('Vernon', 'CSE', 18, 'A', 22),\n",
       " ('Scoups', 'ISE', 19, 'B', 27),\n",
       " ('Mingyu', 'Mech.', 20, 'C', 25)]"
      ]
     },
     "execution_count": 70,
     "metadata": {},
     "output_type": "execute_result"
    }
   ],
   "source": [
    "db = mysql.connector.connect(host=\"localhost\",database=\"pytrain\",user=\"root\",password=\"password\") \n",
    "curObject=db.cursor()\n",
    "curObject.execute(\"select * from student\")\n",
    "c=curObject.fetchall()\n",
    "c\n"
   ]
  },
  {
   "cell_type": "code",
   "execution_count": 76,
   "id": "0e89ae7e",
   "metadata": {},
   "outputs": [
    {
     "name": "stdout",
     "output_type": "stream",
     "text": [
      "('Joshua', 'CSE', 17, 'K', 25)\n",
      "('Vernon', 'CSE', 18, 'A', 22)\n",
      "('Scoups', 'ISE', 19, 'B', 27)\n",
      "('Mingyu', 'Mech.', 20, 'C', 25)\n"
     ]
    }
   ],
   "source": [
    "q2=\"\"\" select * from student order by roll \"\"\"\n",
    "curObject.execute(q2)\n",
    "myresult=curObject.fetchall()\n",
    "for i in myresult:\n",
    "    print(i)"
   ]
  },
  {
   "cell_type": "code",
   "execution_count": 77,
   "id": "3eb62cef",
   "metadata": {},
   "outputs": [],
   "source": [
    "db.close()"
   ]
  },
  {
   "cell_type": "code",
   "execution_count": null,
   "id": "33bd5379",
   "metadata": {},
   "outputs": [],
   "source": []
  }
 ],
 "metadata": {
  "kernelspec": {
   "display_name": "Python 3 (ipykernel)",
   "language": "python",
   "name": "python3"
  },
  "language_info": {
   "codemirror_mode": {
    "name": "ipython",
    "version": 3
   },
   "file_extension": ".py",
   "mimetype": "text/x-python",
   "name": "python",
   "nbconvert_exporter": "python",
   "pygments_lexer": "ipython3",
   "version": "3.7.13"
  }
 },
 "nbformat": 4,
 "nbformat_minor": 5
}
