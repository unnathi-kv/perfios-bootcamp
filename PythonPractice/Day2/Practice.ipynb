{
 "cells": [
  {
   "cell_type": "code",
   "execution_count": 37,
   "id": "c7afb486",
   "metadata": {},
   "outputs": [
    {
     "name": "stdout",
     "output_type": "stream",
     "text": [
      "Enter no of integers : 2\n",
      "Enter the number : 1\n",
      "Enter the number : 2\n",
      "[2] [1]\n"
     ]
    },
    {
     "data": {
      "text/plain": [
       "(2, 1)"
      ]
     },
     "execution_count": 37,
     "metadata": {},
     "output_type": "execute_result"
    }
   ],
   "source": [
    "def disp():\n",
    "    n=input(\"Enter no of integers : \") # input() - returns string  \n",
    "    el=[]\n",
    "    ol=[]\n",
    "    for i in range(int(n)):\n",
    "        x=input(\"Enter the number : \")\n",
    "        if (int(x))%2==0:\n",
    "            el.append(int(x))\n",
    "        else:\n",
    "            ol.append(int(x))\n",
    "    print(el,ol)\n",
    "    return sum(el),sum(ol)\n",
    "disp()"
   ]
  },
  {
   "cell_type": "code",
   "execution_count": 39,
   "id": "235969cc",
   "metadata": {},
   "outputs": [
    {
     "name": "stdout",
     "output_type": "stream",
     "text": [
      "thisisapythondeepdivingsession\n",
      "{'t': 2, 'h': 2, 'i': 5, 's': 5, 'a': 1, 'p': 2, 'y': 1, 'o': 2, 'n': 3, 'd': 2, 'e': 3, 'v': 1, 'g': 1}\n"
     ]
    }
   ],
   "source": [
    "def show():\n",
    "    str1=\"This is a python deep diving session\"\n",
    "    str2=str1.replace(\" \",\"\").lower()\n",
    "    print(str2)\n",
    "    d={}\n",
    "    \n",
    "    for i in str2:\n",
    "        # print(i)\n",
    "        if i in d.keys():        \n",
    "            d[i]+=1\n",
    "        else:\n",
    "            d[i]=1\n",
    "    print(d)\n",
    "show()"
   ]
  },
  {
   "cell_type": "code",
   "execution_count": 40,
   "id": "7290703c",
   "metadata": {},
   "outputs": [],
   "source": [
    "import random\n",
    "from random import randint"
   ]
  },
  {
   "cell_type": "code",
   "execution_count": 41,
   "id": "cf2aef90",
   "metadata": {},
   "outputs": [
    {
     "name": "stdout",
     "output_type": "stream",
     "text": [
      "[4, 4, 1, 5, 6, 1, 1, 3, 4, 5] [5, 5, 5, 1, 3, 1, 2, 1, 1, 4]\n"
     ]
    }
   ],
   "source": [
    "def dice():\n",
    "    p1=[]\n",
    "    p2=[]\n",
    "    for i in range(10):\n",
    "        v= random.randint(1,6)\n",
    "        p1.append(v)\n",
    "        v2 = random.randint(1,6)\n",
    "        p2.append(v2)\n",
    "    print(p1,p2)\n",
    "dice()"
   ]
  },
  {
   "cell_type": "code",
   "execution_count": 43,
   "id": "377525f8",
   "metadata": {},
   "outputs": [
    {
     "data": {
      "text/plain": [
       "'abcdefghijklmnopqrstuvwxyz'"
      ]
     },
     "execution_count": 43,
     "metadata": {},
     "output_type": "execute_result"
    }
   ],
   "source": [
    "import string\n",
    "string.ascii_lowercase\n"
   ]
  },
  {
   "cell_type": "code",
   "execution_count": 48,
   "id": "34241503",
   "metadata": {},
   "outputs": [
    {
     "name": "stdout",
     "output_type": "stream",
     "text": [
      "{'a': 0, 'b': 0, 'c': 0, 'd': 0, 'e': 0, 'f': 0, 'g': 0, 'h': 0, 'i': 0, 'j': 0, 'k': 0, 'l': 0, 'm': 0, 'n': 0, 'o': 0, 'p': 0, 'q': 0, 'r': 0, 's': 0, 't': 0, 'u': 0, 'v': 0, 'w': 0, 'x': 0, 'y': 0, 'z': 0}\n"
     ]
    }
   ],
   "source": [
    "print(dict(zip(list(string.ascii_lowercase),[0]*26)))"
   ]
  },
  {
   "cell_type": "code",
   "execution_count": 59,
   "id": "8aaa9d8b",
   "metadata": {},
   "outputs": [
    {
     "name": "stdout",
     "output_type": "stream",
     "text": [
      "{'a': 0, 'b': 0, 'c': 0, 'd': 0, 'e': 0, 'f': 0, 'g': 0, 'h': 0, 'i': 0, 'j': 0, 'k': 0, 'l': 0, 'm': 0, 'n': 0, 'o': 0, 'p': 0, 'q': 0, 'r': 0, 's': 0, 't': 0, 'u': 0, 'v': 0, 'w': 0, 'x': 0, 'y': 0, 'z': 0}\n"
     ]
    }
   ],
   "source": [
    "print(dict(zip(('abcdefghijklmnopqrstuvwxyz'),[i*0 for i in range(26)])))"
   ]
  },
  {
   "cell_type": "code",
   "execution_count": 50,
   "id": "1a51e68e",
   "metadata": {},
   "outputs": [
    {
     "data": {
      "text/plain": [
       "0"
      ]
     },
     "execution_count": 50,
     "metadata": {},
     "output_type": "execute_result"
    }
   ],
   "source": [
    "def display(*args):\n",
    "    res=1\n",
    "    for i in args:\n",
    "        res=res*i\n",
    "    return res\n",
    "display(0,2,3)\n",
    "        "
   ]
  },
  {
   "cell_type": "code",
   "execution_count": 77,
   "id": "1fe28461",
   "metadata": {},
   "outputs": [
    {
     "name": "stdout",
     "output_type": "stream",
     "text": [
      "Parallel to X-axis\n",
      "1.0\n"
     ]
    }
   ],
   "source": [
    "import math\n",
    "def calculateDistance(x1,y1,x2,y2):\n",
    "    dist = math.sqrt((x2 - x1)**2 + (y2 - y1)**2)\n",
    "    if(y1==y2):\n",
    "        print(\"Parallel to X-axis\")\n",
    "    elif(x1==x2):\n",
    "        print(\"Parallel to Y-axis\")\n",
    "    print(dist)\n",
    "calculateDistance(1, 1, 2, 1)"
   ]
  },
  {
   "cell_type": "code",
   "execution_count": 81,
   "id": "b767061b",
   "metadata": {},
   "outputs": [
    {
     "name": "stdout",
     "output_type": "stream",
     "text": [
      "{'microsoft', 'banana', 'google', 'cherry', 'apple'} {'apple'} {'banana', 'cherry'}\n"
     ]
    }
   ],
   "source": [
    "x = {\"apple\", \"banana\", \"cherry\"}\n",
    "y = {\"google\", \"microsoft\", \"apple\"}\n",
    "\n",
    "z = x.union(y)\n",
    "a =  x.intersection(y)\n",
    "b= x-y\n",
    "print(z,a,b)"
   ]
  },
  {
   "cell_type": "code",
   "execution_count": 79,
   "id": "ca0c5195",
   "metadata": {},
   "outputs": [],
   "source": []
  },
  {
   "cell_type": "code",
   "execution_count": null,
   "id": "caf10425",
   "metadata": {},
   "outputs": [],
   "source": []
  }
 ],
 "metadata": {
  "kernelspec": {
   "display_name": "Python 3 (ipykernel)",
   "language": "python",
   "name": "python3"
  },
  "language_info": {
   "codemirror_mode": {
    "name": "ipython",
    "version": 3
   },
   "file_extension": ".py",
   "mimetype": "text/x-python",
   "name": "python",
   "nbconvert_exporter": "python",
   "pygments_lexer": "ipython3",
   "version": "3.7.13"
  }
 },
 "nbformat": 4,
 "nbformat_minor": 5
}
