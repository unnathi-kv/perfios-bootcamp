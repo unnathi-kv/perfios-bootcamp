{
 "cells": [
  {
   "cell_type": "markdown",
   "id": "82dc81fd",
   "metadata": {},
   "source": [
    "### List Comprehensions :- \n",
    "           * Concise way to create lists"
   ]
  },
  {
   "cell_type": "code",
   "execution_count": 1,
   "id": "3bd1039f",
   "metadata": {},
   "outputs": [
    {
     "name": "stdout",
     "output_type": "stream",
     "text": [
      "[0, 1, 4, 9, 16, 25, 36, 49, 64, 81]\n"
     ]
    }
   ],
   "source": [
    "def squared():\n",
    "    l=[]\n",
    "    for i in range(10):\n",
    "        l.append(i*i)\n",
    "    print(l)\n",
    "squared()"
   ]
  },
  {
   "cell_type": "code",
   "execution_count": 38,
   "id": "fc52e0af",
   "metadata": {},
   "outputs": [
    {
     "name": "stdout",
     "output_type": "stream",
     "text": [
      "[0, 1, 4, 9, 16]\n"
     ]
    }
   ],
   "source": [
    "l1=[i**2 for i in range(5)]\n",
    "print(l1)"
   ]
  },
  {
   "cell_type": "code",
   "execution_count": 4,
   "id": "487ac663",
   "metadata": {},
   "outputs": [
    {
     "name": "stdout",
     "output_type": "stream",
     "text": [
      "[1, 3]\n"
     ]
    }
   ],
   "source": [
    "l2 = [i for i in range(5) if i%2!=0]\n",
    "print(l2)"
   ]
  },
  {
   "cell_type": "code",
   "execution_count": 11,
   "id": "7f57c34b",
   "metadata": {},
   "outputs": [],
   "source": [
    "t=(i**3 for i in range(3))\n",
    "# print(type(t))"
   ]
  },
  {
   "cell_type": "code",
   "execution_count": 12,
   "id": "f90f3018",
   "metadata": {},
   "outputs": [],
   "source": [
    "# list(t)"
   ]
  },
  {
   "cell_type": "code",
   "execution_count": 13,
   "id": "82a850e8",
   "metadata": {},
   "outputs": [
    {
     "data": {
      "text/plain": [
       "0"
      ]
     },
     "execution_count": 13,
     "metadata": {},
     "output_type": "execute_result"
    }
   ],
   "source": [
    "next(t)"
   ]
  },
  {
   "cell_type": "code",
   "execution_count": 37,
   "id": "f0714443",
   "metadata": {},
   "outputs": [
    {
     "data": {
      "text/plain": [
       "{'✷'}"
      ]
     },
     "execution_count": 37,
     "metadata": {},
     "output_type": "execute_result"
    }
   ],
   "source": [
    "stars={\"\\u2737\"}\n",
    "stars"
   ]
  },
  {
   "cell_type": "code",
   "execution_count": null,
   "id": "28785809",
   "metadata": {},
   "outputs": [],
   "source": []
  }
 ],
 "metadata": {
  "kernelspec": {
   "display_name": "Python 3 (ipykernel)",
   "language": "python",
   "name": "python3"
  },
  "language_info": {
   "codemirror_mode": {
    "name": "ipython",
    "version": 3
   },
   "file_extension": ".py",
   "mimetype": "text/x-python",
   "name": "python",
   "nbconvert_exporter": "python",
   "pygments_lexer": "ipython3",
   "version": "3.7.13"
  }
 },
 "nbformat": 4,
 "nbformat_minor": 5
}
