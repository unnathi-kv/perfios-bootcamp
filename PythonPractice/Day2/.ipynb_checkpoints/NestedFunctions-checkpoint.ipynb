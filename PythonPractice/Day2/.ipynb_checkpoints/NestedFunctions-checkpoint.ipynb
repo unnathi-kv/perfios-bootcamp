{
 "cells": [
  {
   "cell_type": "markdown",
   "id": "5551ea67",
   "metadata": {},
   "source": [
    "#### Nested Functions :-\n",
    "        * Functions within functions"
   ]
  },
  {
   "cell_type": "code",
   "execution_count": 30,
   "id": "6bf55f67",
   "metadata": {},
   "outputs": [],
   "source": [
    "def first():\n",
    "    l = \"python\"\n",
    "    print(\"Hi I m {}\".format(l))\n",
    "    def second():\n",
    "        l=\"java\"\n",
    "        print(\"Hi I m {}\".format(l))\n",
    "    second()"
   ]
  },
  {
   "cell_type": "code",
   "execution_count": 31,
   "id": "15edd59f",
   "metadata": {},
   "outputs": [
    {
     "data": {
      "text/plain": [
       "<function __main__.first()>"
      ]
     },
     "execution_count": 31,
     "metadata": {},
     "output_type": "execute_result"
    }
   ],
   "source": [
    "first"
   ]
  },
  {
   "cell_type": "code",
   "execution_count": 32,
   "id": "cff89d9d",
   "metadata": {},
   "outputs": [
    {
     "name": "stdout",
     "output_type": "stream",
     "text": [
      "Hi I m python\n",
      "Hi I m java\n"
     ]
    }
   ],
   "source": [
    "first()"
   ]
  },
  {
   "cell_type": "code",
   "execution_count": 33,
   "id": "a273091d",
   "metadata": {},
   "outputs": [],
   "source": [
    "l=\"Maven\" # global variable\n",
    "def first():\n",
    "    l = \"python\"\n",
    "    print(\"Hi I m {}\".format(l))\n",
    "    def second():\n",
    "        l=\"java\"\n",
    "        print(\"Hi I m {}\".format(l))\n",
    "    second()"
   ]
  },
  {
   "cell_type": "code",
   "execution_count": 34,
   "id": "7ce7e18c",
   "metadata": {},
   "outputs": [
    {
     "name": "stdout",
     "output_type": "stream",
     "text": [
      "Hi I m python\n",
      "Hi I m java\n"
     ]
    }
   ],
   "source": [
    "first()"
   ]
  },
  {
   "cell_type": "code",
   "execution_count": 35,
   "id": "04b7028f",
   "metadata": {},
   "outputs": [
    {
     "data": {
      "text/plain": [
       "'Maven'"
      ]
     },
     "execution_count": 35,
     "metadata": {},
     "output_type": "execute_result"
    }
   ],
   "source": [
    "l"
   ]
  },
  {
   "cell_type": "code",
   "execution_count": 48,
   "id": "a7a85eff",
   "metadata": {},
   "outputs": [],
   "source": [
    "l=\"Maven\" # global variable\n",
    "def first():\n",
    "    l = \"python\" # first it tries to find the local variable l if not it finds global variable l \n",
    "    print(\"Hi I m {}\".format(l))\n",
    "    def second():\n",
    "        l=\"java\"\n",
    "        print(\"Hi I m {}\".format(l))\n",
    "    second()"
   ]
  },
  {
   "cell_type": "code",
   "execution_count": 49,
   "id": "90775067",
   "metadata": {},
   "outputs": [
    {
     "name": "stdout",
     "output_type": "stream",
     "text": [
      "Hi I m python\n",
      "Hi I m java\n"
     ]
    }
   ],
   "source": [
    "first()"
   ]
  },
  {
   "cell_type": "code",
   "execution_count": 50,
   "id": "4b1942f0",
   "metadata": {},
   "outputs": [],
   "source": [
    "def first():\n",
    "    value = 100\n",
    "    print(value)\n",
    "    def second():\n",
    "        print(\"Value in the second function = {}\".format(value))\n",
    "    second()"
   ]
  },
  {
   "cell_type": "code",
   "execution_count": 51,
   "id": "c1bcfff7",
   "metadata": {},
   "outputs": [
    {
     "name": "stdout",
     "output_type": "stream",
     "text": [
      "100\n",
      "Value in the second function = 100\n"
     ]
    }
   ],
   "source": [
    "first()"
   ]
  },
  {
   "cell_type": "code",
   "execution_count": 52,
   "id": "7f323fc2",
   "metadata": {},
   "outputs": [],
   "source": [
    "value=120 # gloabl variable\n",
    "def first():\n",
    "   # value = 100\n",
    "    print(value)\n",
    "    def second():\n",
    "        print(\"Value in the second function = {}\".format(value))\n",
    "    second()"
   ]
  },
  {
   "cell_type": "code",
   "execution_count": 53,
   "id": "be88f388",
   "metadata": {},
   "outputs": [
    {
     "name": "stdout",
     "output_type": "stream",
     "text": [
      "120\n",
      "Value in the second function = 120\n"
     ]
    }
   ],
   "source": [
    "first()"
   ]
  },
  {
   "cell_type": "code",
   "execution_count": 54,
   "id": "6216d138",
   "metadata": {},
   "outputs": [
    {
     "name": "stdout",
     "output_type": "stream",
     "text": [
      "100\n",
      "Value in the second function = 120\n"
     ]
    }
   ],
   "source": [
    "value=100\n",
    "def first():\n",
    "   # value = 100\n",
    "    print(value)\n",
    "    def second():\n",
    "        value=120\n",
    "        print(\"Value in the second function = {}\".format(value))\n",
    "    second()\n",
    "first()"
   ]
  },
  {
   "cell_type": "code",
   "execution_count": 55,
   "id": "a99343ef",
   "metadata": {},
   "outputs": [
    {
     "data": {
      "text/plain": [
       "100"
      ]
     },
     "execution_count": 55,
     "metadata": {},
     "output_type": "execute_result"
    }
   ],
   "source": [
    "value"
   ]
  },
  {
   "cell_type": "code",
   "execution_count": 61,
   "id": "423e6a65",
   "metadata": {},
   "outputs": [
    {
     "name": "stdout",
     "output_type": "stream",
     "text": [
      "c =1\n",
      "c=1\n"
     ]
    }
   ],
   "source": [
    "c=0 # global varibale\n",
    "def f():\n",
    "    global c\n",
    "    c=c+1\n",
    "    print(\"c ={}\".format(c))\n",
    "    def s():\n",
    "        print(\"c={}\".format(c))\n",
    "    s()\n",
    "f()    \n",
    "    "
   ]
  },
  {
   "cell_type": "code",
   "execution_count": 62,
   "id": "84160b16",
   "metadata": {},
   "outputs": [
    {
     "data": {
      "text/plain": [
       "1"
      ]
     },
     "execution_count": 62,
     "metadata": {},
     "output_type": "execute_result"
    }
   ],
   "source": [
    "c"
   ]
  },
  {
   "cell_type": "markdown",
   "id": "628aed45",
   "metadata": {},
   "source": [
    "If we make any changes inside the bar() function, the changes appear outside the local scope, i.e. foo()."
   ]
  },
  {
   "cell_type": "code",
   "execution_count": 63,
   "id": "95fac66f",
   "metadata": {},
   "outputs": [
    {
     "name": "stdout",
     "output_type": "stream",
     "text": [
      "Before calling bar:  20\n",
      "Calling bar now\n",
      "After calling bar:  20\n",
      "x in main:  25\n"
     ]
    }
   ],
   "source": [
    "def foo():\n",
    "    x = 20\n",
    "\n",
    "    def bar():\n",
    "        global x\n",
    "        x = 25\n",
    "    \n",
    "    print(\"Before calling bar: \", x)\n",
    "    print(\"Calling bar now\")\n",
    "    bar()\n",
    "    print(\"After calling bar: \", x)\n",
    "\n",
    "foo()\n",
    "print(\"x in main: \", x)\n"
   ]
  },
  {
   "cell_type": "code",
   "execution_count": 71,
   "id": "131bc87c",
   "metadata": {},
   "outputs": [
    {
     "name": "stdout",
     "output_type": "stream",
     "text": [
      "Id of val in main 94463671943200\n",
      "Joshua 140453016458672\n",
      "Vernon 140453016441776\n"
     ]
    }
   ],
   "source": [
    "val = 100\n",
    "print(\"Id of val in main {}\".format(id(val)))\n",
    "def outer():\n",
    "#     global val\n",
    "#     val=200 # whenever you use a assignment operator the address of the variable changes\n",
    "#     print(\"Id of val in outer {}\".format(id(val)))\n",
    "    \n",
    "    name=\"Joshua\"  \n",
    "    print(name,id(name))\n",
    "    def inner():\n",
    "#         val=300\n",
    "#         print(\"Id of val in inner {}\".format(id(val)))\n",
    "        \n",
    "        nonlocal name # nonlocal keyword to declare that the variable is not local.\n",
    "        name =\"Vernon\"\n",
    "        print(name,id(name))\n",
    "        \n",
    "    inner()\n",
    "outer() "
   ]
  },
  {
   "cell_type": "code",
   "execution_count": 72,
   "id": "94fb7cb1",
   "metadata": {},
   "outputs": [
    {
     "data": {
      "text/plain": [
       "100"
      ]
     },
     "execution_count": 72,
     "metadata": {},
     "output_type": "execute_result"
    }
   ],
   "source": [
    "val"
   ]
  },
  {
   "cell_type": "markdown",
   "id": "a14f1148",
   "metadata": {},
   "source": [
    "\n"
   ]
  },
  {
   "cell_type": "code",
   "execution_count": 19,
   "id": "94aaf9c7",
   "metadata": {},
   "outputs": [
    {
     "name": "stdout",
     "output_type": "stream",
     "text": [
      "Josh-Vernon-Mingyu-Scoups\n",
      "<class 'str'>\n"
     ]
    }
   ],
   "source": [
    "def f2(l:\"list\")-> \"list of names\":\n",
    "    \"\"\" This function returns a list of names\n",
    "        with '-' in between them \n",
    "        >>> l=[\"Josh\",\"Vernon\"]\n",
    "        >>> f2(l)\n",
    "        Output :- \n",
    "        >>> Josh-Vernon\n",
    "    \"\"\"\n",
    "    res='-'.join(x for x in l)\n",
    "   # type(res)\n",
    "    print(res)\n",
    "    print(type(res))\n",
    "           \n",
    "(f2([\"Josh\",\"Vernon\",\"Mingyu\",\"Scoups\"]))"
   ]
  },
  {
   "cell_type": "code",
   "execution_count": 20,
   "id": "3861a07a",
   "metadata": {},
   "outputs": [
    {
     "data": {
      "text/plain": [
       "<function __main__.f2(l: 'list') -> 'list of names'>"
      ]
     },
     "execution_count": 20,
     "metadata": {},
     "output_type": "execute_result"
    }
   ],
   "source": [
    "f2"
   ]
  },
  {
   "cell_type": "code",
   "execution_count": 21,
   "id": "cf74b551",
   "metadata": {},
   "outputs": [
    {
     "name": "stdout",
     "output_type": "stream",
     "text": [
      "Help on function f2 in module __main__:\n",
      "\n",
      "f2(l: 'list') -> 'list of names'\n",
      "    This function returns a list of names\n",
      "    with '-' in between them \n",
      "    >>> l=[\"Josh\",\"Vernon\"]\n",
      "    >>> f2(l)\n",
      "    Output :- \n",
      "    >>> Josh-Vernon\n",
      "\n"
     ]
    }
   ],
   "source": [
    "help(f2)"
   ]
  },
  {
   "cell_type": "code",
   "execution_count": 23,
   "id": "34c64fe3",
   "metadata": {},
   "outputs": [
    {
     "data": {
      "text/plain": [
       "6"
      ]
     },
     "execution_count": 23,
     "metadata": {},
     "output_type": "execute_result"
    }
   ],
   "source": [
    "def adder(iterables):\n",
    "    return sum(iterables)\n",
    "adder([1,2,3])"
   ]
  },
  {
   "cell_type": "code",
   "execution_count": 24,
   "id": "4ef8ade6",
   "metadata": {},
   "outputs": [
    {
     "name": "stdout",
     "output_type": "stream",
     "text": [
      "['__annotations__', '__call__', '__class__', '__closure__', '__code__', '__defaults__', '__delattr__', '__dict__', '__dir__', '__doc__', '__eq__', '__format__', '__ge__', '__get__', '__getattribute__', '__globals__', '__gt__', '__hash__', '__init__', '__init_subclass__', '__kwdefaults__', '__le__', '__lt__', '__module__', '__name__', '__ne__', '__new__', '__qualname__', '__reduce__', '__reduce_ex__', '__repr__', '__setattr__', '__sizeof__', '__str__', '__subclasshook__']\n"
     ]
    }
   ],
   "source": [
    "print(dir(adder))"
   ]
  },
  {
   "cell_type": "code",
   "execution_count": 29,
   "id": "6f529554",
   "metadata": {},
   "outputs": [
    {
     "name": "stdout",
     "output_type": "stream",
     "text": [
      "<code object adder at 0x7ff4d8605300, file \"/tmp/ipykernel_49258/813153548.py\", line 1>\n"
     ]
    }
   ],
   "source": [
    "print(adder.__code__)"
   ]
  },
  {
   "cell_type": "code",
   "execution_count": 30,
   "id": "0f47b1e6",
   "metadata": {},
   "outputs": [
    {
     "data": {
      "text/plain": [
       "b't\\x00|\\x00\\x83\\x01S\\x00'"
      ]
     },
     "execution_count": 30,
     "metadata": {},
     "output_type": "execute_result"
    }
   ],
   "source": [
    "adder.__code__.co_code # returns binary"
   ]
  },
  {
   "cell_type": "code",
   "execution_count": 31,
   "id": "10880ce9",
   "metadata": {},
   "outputs": [
    {
     "data": {
      "text/plain": [
       "'adder'"
      ]
     },
     "execution_count": 31,
     "metadata": {},
     "output_type": "execute_result"
    }
   ],
   "source": [
    "adder.__code__.co_name # returns name of the function"
   ]
  },
  {
   "cell_type": "code",
   "execution_count": 33,
   "id": "5409c930",
   "metadata": {},
   "outputs": [
    {
     "data": {
      "text/plain": [
       "1"
      ]
     },
     "execution_count": 33,
     "metadata": {},
     "output_type": "execute_result"
    }
   ],
   "source": [
    "adder.__code__.co_argcount # returns number od arguments function takes"
   ]
  },
  {
   "cell_type": "code",
   "execution_count": 36,
   "id": "0e80fd86",
   "metadata": {},
   "outputs": [
    {
     "data": {
      "text/plain": [
       "('sum',)"
      ]
     },
     "execution_count": 36,
     "metadata": {},
     "output_type": "execute_result"
    }
   ],
   "source": [
    "adder.__code__.co_names # returns function names we are using within functions"
   ]
  },
  {
   "cell_type": "code",
   "execution_count": 48,
   "id": "3bf83981",
   "metadata": {},
   "outputs": [
    {
     "name": "stdout",
     "output_type": "stream",
     "text": [
      "$$$$$\n"
     ]
    }
   ],
   "source": [
    "def f3(a:\"integer\",b:\"character\")->\"Returns the number of times the charcter\":\n",
    "    print(a*b)\n",
    "f3(5,'$')"
   ]
  },
  {
   "cell_type": "code",
   "execution_count": 53,
   "id": "a161507a",
   "metadata": {},
   "outputs": [],
   "source": [
    "def f4(fn=f3): # can pass functions as arguments also\n",
    "    fn(4,'*')"
   ]
  },
  {
   "cell_type": "code",
   "execution_count": 54,
   "id": "830712c6",
   "metadata": {},
   "outputs": [
    {
     "name": "stdout",
     "output_type": "stream",
     "text": [
      "****\n"
     ]
    }
   ],
   "source": [
    "f4()"
   ]
  },
  {
   "cell_type": "code",
   "execution_count": null,
   "id": "f0997001",
   "metadata": {},
   "outputs": [],
   "source": []
  }
 ],
 "metadata": {
  "kernelspec": {
   "display_name": "Python 3 (ipykernel)",
   "language": "python",
   "name": "python3"
  },
  "language_info": {
   "codemirror_mode": {
    "name": "ipython",
    "version": 3
   },
   "file_extension": ".py",
   "mimetype": "text/x-python",
   "name": "python",
   "nbconvert_exporter": "python",
   "pygments_lexer": "ipython3",
   "version": "3.7.13"
  }
 },
 "nbformat": 4,
 "nbformat_minor": 5
}
