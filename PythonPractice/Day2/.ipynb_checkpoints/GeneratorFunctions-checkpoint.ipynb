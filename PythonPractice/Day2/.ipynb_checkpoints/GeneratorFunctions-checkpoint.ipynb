{
 "cells": [
  {
   "cell_type": "markdown",
   "id": "1286e9d7",
   "metadata": {},
   "source": [
    "### Generator Functions:-\n",
    "        * When a function uses a yield keyword, it no longer is a function. Its type becomes generator."
   ]
  },
  {
   "cell_type": "code",
   "execution_count": 13,
   "id": "2fbba56e",
   "metadata": {},
   "outputs": [
    {
     "data": {
      "text/plain": [
       "'Yield'"
      ]
     },
     "execution_count": 13,
     "metadata": {},
     "output_type": "execute_result"
    }
   ],
   "source": [
    "def generator_func():  \n",
    "    yield \"Yield\"  \n",
    "    yield \"Keyword\"  \n",
    "    yield \"in\"  \n",
    "    yield \"Python\"\n",
    "f = generator_func()\n",
    "next(f)\n"
   ]
  },
  {
   "cell_type": "code",
   "execution_count": 14,
   "id": "7472c8a0",
   "metadata": {},
   "outputs": [],
   "source": [
    "import random"
   ]
  },
  {
   "cell_type": "code",
   "execution_count": 15,
   "id": "09fb6696",
   "metadata": {},
   "outputs": [
    {
     "data": {
      "text/plain": [
       "3"
      ]
     },
     "execution_count": 15,
     "metadata": {},
     "output_type": "execute_result"
    }
   ],
   "source": [
    "def random_select(l):\n",
    "    while True:\n",
    "        yield random.choice(l) # yield keyword in generators. Can have multiple yield keywords.\n",
    "\n",
    "g = random_select([1,2,3])\n",
    "next(g) # next() method in generators"
   ]
  },
  {
   "cell_type": "code",
   "execution_count": 16,
   "id": "6336624b",
   "metadata": {},
   "outputs": [
    {
     "name": "stdout",
     "output_type": "stream",
     "text": [
      "['__annotations__', '__call__', '__class__', '__closure__', '__code__', '__defaults__', '__delattr__', '__dict__', '__dir__', '__doc__', '__eq__', '__format__', '__ge__', '__get__', '__getattribute__', '__globals__', '__gt__', '__hash__', '__init__', '__init_subclass__', '__kwdefaults__', '__le__', '__lt__', '__module__', '__name__', '__ne__', '__new__', '__qualname__', '__reduce__', '__reduce_ex__', '__repr__', '__setattr__', '__sizeof__', '__str__', '__subclasshook__']\n"
     ]
    }
   ],
   "source": [
    "print(dir(random_select))"
   ]
  },
  {
   "cell_type": "code",
   "execution_count": 18,
   "id": "26d03211",
   "metadata": {},
   "outputs": [
    {
     "data": {
      "text/plain": [
       "('Keyword', 'in')"
      ]
     },
     "execution_count": 18,
     "metadata": {},
     "output_type": "execute_result"
    }
   ],
   "source": [
    "f.__next__(),next(f)"
   ]
  },
  {
   "cell_type": "code",
   "execution_count": null,
   "id": "692601f1",
   "metadata": {},
   "outputs": [],
   "source": [
    "def disp():\n",
    "    n=input()\n",
    "    x = input()   \n",
    "    el=[]\n",
    "    ol=[]\n",
    "    for i in range(n):\n",
    "        if x%2==0:\n",
    "            el.append(x)\n",
    "        else:\n",
    "            ol.append(x)\n",
    "    return sum(el),sum(ol)\n",
    "disp()"
   ]
  },
  {
   "cell_type": "code",
   "execution_count": null,
   "id": "516399a5",
   "metadata": {},
   "outputs": [],
   "source": []
  }
 ],
 "metadata": {
  "kernelspec": {
   "display_name": "Python 3 (ipykernel)",
   "language": "python",
   "name": "python3"
  },
  "language_info": {
   "codemirror_mode": {
    "name": "ipython",
    "version": 3
   },
   "file_extension": ".py",
   "mimetype": "text/x-python",
   "name": "python",
   "nbconvert_exporter": "python",
   "pygments_lexer": "ipython3",
   "version": "3.7.13"
  }
 },
 "nbformat": 4,
 "nbformat_minor": 5
}
