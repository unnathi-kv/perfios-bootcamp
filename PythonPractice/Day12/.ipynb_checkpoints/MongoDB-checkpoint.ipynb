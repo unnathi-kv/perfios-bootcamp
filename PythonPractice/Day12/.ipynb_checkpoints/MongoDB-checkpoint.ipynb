{
 "cells": [
  {
   "cell_type": "markdown",
   "id": "b9aa898c",
   "metadata": {},
   "source": [
    "### MongoDB :- \n",
    "* MongoDB is a cross platform document oriented  NOSQL database\n",
    "* documents means nothing but rows\n",
    "* Horizontal Scaling\n",
    "* Inserting a document =  inserting a row \n",
    "* Online compiler - https://onecompiler.com/mongodb"
   ]
  },
  {
   "cell_type": "markdown",
   "id": "b9b8fe8b",
   "metadata": {},
   "source": [
    "### Syntax :- \n",
    "* db.employees.insertMany([\n",
    "    {empId: 1, name: 'Clark', dept: 'Sales' },\n",
    "    {empId: 2, name: 'Dave', dept: 'Accounting' },\n",
    "    {empId: 3, name: 'Ava', dept: 'Sales' ,age : 45}\n",
    "   ]);\n",
    "\n",
    "   db.employees.find({dept: 'Sales'}); \n",
    "* db -database name \n",
    "* employess- collection name (collection - grouping of MOngoDB documents which is similar to table in relational database\n",
    "* insertMany()- method to insert data into a collection \n"
   ]
  },
  {
   "cell_type": "code",
   "execution_count": null,
   "id": "c8283b0d",
   "metadata": {},
   "outputs": [],
   "source": []
  }
 ],
 "metadata": {
  "kernelspec": {
   "display_name": "Python 3 (ipykernel)",
   "language": "python",
   "name": "python3"
  },
  "language_info": {
   "codemirror_mode": {
    "name": "ipython",
    "version": 3
   },
   "file_extension": ".py",
   "mimetype": "text/x-python",
   "name": "python",
   "nbconvert_exporter": "python",
   "pygments_lexer": "ipython3",
   "version": "3.7.13"
  }
 },
 "nbformat": 4,
 "nbformat_minor": 5
}
