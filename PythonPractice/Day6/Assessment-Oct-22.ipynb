{
 "cells": [
  {
   "cell_type": "markdown",
   "id": "80cdd762",
   "metadata": {},
   "source": [
    "## Day1 :-\n",
    "\n",
    "\n",
    "   ### Integers, Complex  Numbers and Fractions"
   ]
  },
  {
   "cell_type": "code",
   "execution_count": 14,
   "id": "9d8b9c56",
   "metadata": {},
   "outputs": [],
   "source": [
    "from fractions import Fraction\n",
    "class Numbers:\n",
    "    \n",
    "    def __init__(self,a,b):\n",
    "        self.a=a\n",
    "        self.b=b\n",
    "        \n",
    "    def addition(self):\n",
    "        print(\"Addition of a and b :\",(self.a).__add__(self.b))\n",
    "        \n",
    "    def complex_numbers(self):     \n",
    "        c=complex(self.a,self.b)\n",
    "        print(\"Complex number :\",c)\n",
    "        print(\"Real part of complex number:\",c.real)\n",
    "        print(\"Imaginary part of complex number:\",c.imag)\n",
    "        print(\"Conjugate of the complex number:\",c.conjugate())\n",
    "     \n",
    "    \n",
    "    def fraction_numbers(self):\n",
    "        f=Fraction(self.a,self.b)\n",
    "        print(\"Fraction : \",f)\n",
    "      \n",
    "   "
   ]
  },
  {
   "cell_type": "code",
   "execution_count": 17,
   "id": "15453f03",
   "metadata": {},
   "outputs": [
    {
     "name": "stdout",
     "output_type": "stream",
     "text": [
      "Addition of a and b : 5\n",
      "Complex number : (2+3j)\n",
      "Real part of complex number: 2.0\n",
      "Imaginary part of complex number: 3.0\n",
      "Conjugate of the complex number: (2-3j)\n",
      "Fraction :  2/3\n"
     ]
    }
   ],
   "source": [
    "n=Numbers(2,3)\n",
    "n.addition()\n",
    "n.complex_numbers()\n",
    "n.fraction_numbers()\n",
    "\n"
   ]
  },
  {
   "cell_type": "markdown",
   "id": "7fb94fa2",
   "metadata": {},
   "source": [
    "### Collections and Strings\n",
    "   \n",
    "         "
   ]
  },
  {
   "cell_type": "code",
   "execution_count": 59,
   "id": "14a03714",
   "metadata": {},
   "outputs": [],
   "source": [
    "class CollectionsPractice:\n",
    "  \n",
    "        \n",
    "    def list_example(self,n):\n",
    "        \n",
    "        a=[]\n",
    "        for i in range(n):\n",
    "            x=input(\"Enter elements to list : \")\n",
    "            a.append(int(x))\n",
    "        print(\"List :\",a)\n",
    "        print(\"List item at index 0:\",a.__getitem__(0))\n",
    "        a.extend([11,12])\n",
    "        print(\"Extended list using extend() : \",a)\n",
    "        a.insert(-2,85)\n",
    "        print(\"Inserting at before an index -2 : \",a)\n",
    "        a.pop(1)\n",
    "        print(\"Removing an element at the given index 1:  \",a)\n",
    "        print(\"Check whether Vernon-  given element contains in the list :  \",a.__contains__(\"Vernon\"))\n",
    "        a.sort()\n",
    "        print(\"Sorting of a list : \",a)\n",
    "        \n",
    "    def tuple_example(self):\n",
    "        \n",
    "        t1=(1,2,[\"Vernon\",\"Joshua\"],4,8,3)\n",
    "        print(type(t1))\n",
    "        print(\"Tuple : \",t1)\n",
    "        \n",
    "    def dict_example(self):\n",
    "        \n",
    "        d={\"name\":\"Joshua\",\"city\":\"Canada\",\"id\":17}\n",
    "        print(\"Keys of given dictonary : \",d.keys())\n",
    "        print(\"Values of given dictonary : \",d.values())\n",
    "        print(\"Items of given dictonary : \",d.items())\n",
    "        print(\"Value by giving key : \",d['name'])\n",
    "        \n",
    "    def packing_and_unpacking(self):\n",
    "        \n",
    "        l= [1,2,3]\n",
    "        print(type(l))\n",
    "        f,s,t=l\n",
    "        print(f)\n",
    "        print(s)\n",
    "        print(t)\n",
    "        \n",
    "    def stringmanuplation(self):\n",
    "        \n",
    "        self.e = \"JOSHUA HONG\"\n",
    "        print(f\"Original String : {self.e}\")\n",
    "        print(f\"String Slicing : {self.e[:5]}\")\n",
    "        print(f\"String Reverse : {self.e[::-1]}\")\n",
    "        print(f\"String Center : {self.e.center(25,'~')}\")\n",
    "        print(f\"List Conversion : {self.e.split(' ')}\")\n",
    "        print(f\"Find Patterns : {self.e.find('ILI')}\")\n",
    "        print(f\"Replace Substring : {self.e.replace('HONG','JISOO')}\")\n",
    "        print(f\"Convert To lower case : {self.e.lower()}\")\n",
    "        print(f\"Convert To UPPER case : {self.e.upper()}\")\n",
    "        print(f\"Concatenate two strings : {('_').join(self.e[:5])}\")\n",
    "        "
   ]
  },
  {
   "cell_type": "code",
   "execution_count": 60,
   "id": "bba1ae1b",
   "metadata": {},
   "outputs": [],
   "source": [
    "c1=CollectionsPractice()"
   ]
  },
  {
   "cell_type": "code",
   "execution_count": 33,
   "id": "04396274",
   "metadata": {},
   "outputs": [
    {
     "name": "stdout",
     "output_type": "stream",
     "text": [
      "Enter elements to list : 5\n",
      "Enter elements to list : 47\n",
      "Enter elements to list : 84\n",
      "Enter elements to list : 75\n",
      "Enter elements to list : 25\n",
      "Enter elements to list : 1\n",
      "Enter elements to list : 2\n",
      "List : [5, 47, 84, 75, 25, 1, 2]\n",
      "List item at index 0: 5\n",
      "Extended list using extend() :  [5, 47, 84, 75, 25, 1, 2, 11, 12]\n",
      "Inserting at before an index -2 :  [5, 47, 84, 75, 25, 1, 2, 85, 11, 12]\n",
      "Removing an element at the given index 1:   [5, 84, 75, 25, 1, 2, 85, 11, 12]\n",
      "Check whether Vernon-  given element contains in the list :   False\n",
      "Sorting of a list :  [1, 2, 5, 11, 12, 25, 75, 84, 85]\n"
     ]
    }
   ],
   "source": [
    "c1.list_example(7)"
   ]
  },
  {
   "cell_type": "code",
   "execution_count": 40,
   "id": "d43eb25d",
   "metadata": {},
   "outputs": [
    {
     "name": "stdout",
     "output_type": "stream",
     "text": [
      "<class 'tuple'>\n",
      "Tuple :  (1, 2, ['Vernon', 'Joshua'], 4, 8, 3)\n"
     ]
    }
   ],
   "source": [
    "c1.tuple_example()"
   ]
  },
  {
   "cell_type": "code",
   "execution_count": 41,
   "id": "d6fdd59c",
   "metadata": {},
   "outputs": [
    {
     "name": "stdout",
     "output_type": "stream",
     "text": [
      "Keys of given dictonary :  dict_keys(['name', 'city', 'id'])\n",
      "Values of given dictonary :  dict_values(['Joshua', 'Canada', 17])\n",
      "Items of given dictonary :  dict_items([('name', 'Joshua'), ('city', 'Canada'), ('id', 17)])\n",
      "Value by giving key :  Joshua\n"
     ]
    }
   ],
   "source": [
    "c1.dict_example()"
   ]
  },
  {
   "cell_type": "code",
   "execution_count": 61,
   "id": "c3f329f0",
   "metadata": {},
   "outputs": [
    {
     "name": "stdout",
     "output_type": "stream",
     "text": [
      "<class 'list'>\n",
      "1\n",
      "2\n",
      "3\n"
     ]
    }
   ],
   "source": [
    "c1.packing_and_unpacking()"
   ]
  },
  {
   "cell_type": "code",
   "execution_count": 55,
   "id": "1c3c2107",
   "metadata": {},
   "outputs": [
    {
     "name": "stdout",
     "output_type": "stream",
     "text": [
      "Original String : JOSHUA HONG\n",
      "String Slicing : JOSHU\n",
      "String Reverse : GNOH AUHSOJ\n",
      "String Center : ~~~~~~~JOSHUA HONG~~~~~~~\n",
      "List Conversion : ['JOSHUA', 'HONG']\n",
      "Find Patterns : -1\n",
      "Replace Substring : JOSHUA JISOO\n",
      "Convert To lower case : joshua hong\n",
      "Convert To UPPER case : JOSHUA HONG\n",
      "Concatenate two strings : J_O_S_H_U\n"
     ]
    }
   ],
   "source": [
    "c1.stringmanuplation()"
   ]
  },
  {
   "cell_type": "markdown",
   "id": "21b6cd07",
   "metadata": {},
   "source": [
    "## Day2:-\n",
    "\n",
    "   ### Lamda Functions :-"
   ]
  },
  {
   "cell_type": "code",
   "execution_count": null,
   "id": "d5bc5e40",
   "metadata": {},
   "outputs": [],
   "source": []
  }
 ],
 "metadata": {
  "kernelspec": {
   "display_name": "Python 3 (ipykernel)",
   "language": "python",
   "name": "python3"
  },
  "language_info": {
   "codemirror_mode": {
    "name": "ipython",
    "version": 3
   },
   "file_extension": ".py",
   "mimetype": "text/x-python",
   "name": "python",
   "nbconvert_exporter": "python",
   "pygments_lexer": "ipython3",
   "version": "3.7.13"
  }
 },
 "nbformat": 4,
 "nbformat_minor": 5
}
